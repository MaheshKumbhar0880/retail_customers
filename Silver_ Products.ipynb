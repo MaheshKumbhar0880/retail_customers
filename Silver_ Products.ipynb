{
 "cells": [
  {
   "cell_type": "markdown",
   "metadata": {
    "application/vnd.databricks.v1+cell": {
     "cellMetadata": {},
     "inputWidgets": {},
     "nuid": "45f05dd5-6be0-4c0b-8e9d-195f16287a44",
     "showTitle": false,
     "tableResultSettingsMap": {},
     "title": ""
    }
   },
   "source": [
    "**Imports**"
   ]
  },
  {
   "cell_type": "code",
   "execution_count": 0,
   "metadata": {
    "application/vnd.databricks.v1+cell": {
     "cellMetadata": {
      "byteLimit": 2048000,
      "rowLimit": 10000
     },
     "inputWidgets": {},
     "nuid": "dce356e7-b943-4d54-88a2-d9b725a827ba",
     "showTitle": false,
     "tableResultSettingsMap": {},
     "title": ""
    }
   },
   "outputs": [],
   "source": [
    "from pyspark.sql.functions import *\n",
    "from pyspark.sql.types import *\n",
    "from pyspark.sql.window import Window"
   ]
  },
  {
   "cell_type": "markdown",
   "metadata": {
    "application/vnd.databricks.v1+cell": {
     "cellMetadata": {},
     "inputWidgets": {},
     "nuid": "764e6f32-adaf-4163-9828-03a53735c305",
     "showTitle": false,
     "tableResultSettingsMap": {},
     "title": ""
    }
   },
   "source": [
    "### Data Reading"
   ]
  },
  {
   "cell_type": "code",
   "execution_count": 0,
   "metadata": {
    "application/vnd.databricks.v1+cell": {
     "cellMetadata": {
      "byteLimit": 2048000,
      "rowLimit": 10000
     },
     "inputWidgets": {},
     "nuid": "4e29e021-e08f-48cd-b875-6804e0015885",
     "showTitle": false,
     "tableResultSettingsMap": {},
     "title": ""
    }
   },
   "outputs": [
    {
     "output_type": "display_data",
     "data": {
      "text/html": [
       "<style scoped>\n",
       "  .table-result-container {\n",
       "    max-height: 300px;\n",
       "    overflow: auto;\n",
       "  }\n",
       "  table, th, td {\n",
       "    border: 1px solid black;\n",
       "    border-collapse: collapse;\n",
       "  }\n",
       "  th, td {\n",
       "    padding: 5px;\n",
       "  }\n",
       "  th {\n",
       "    text-align: left;\n",
       "  }\n",
       "</style><div class='table-result-container'><table class='table-result'><thead style='background-color: white'><tr><th>product_id</th><th>product_name</th><th>category</th><th>brand</th><th>price</th></tr></thead><tbody><tr><td>P0001</td><td>Clearly Its</td><td>Beauty</td><td>Nike</td><td>1868.54</td></tr><tr><td>P0002</td><td>Production Clear</td><td>Beauty</td><td>Apple</td><td>587.13</td></tr><tr><td>P0003</td><td>Culture Coach</td><td>Home</td><td>Revlon</td><td>1599.24</td></tr><tr><td>P0004</td><td>Movement Part</td><td>Sports</td><td>LG</td><td>651.71</td></tr><tr><td>P0005</td><td>Fact Name</td><td>Clothing</td><td>Samsung</td><td>1861.78</td></tr><tr><td>P0006</td><td>Usually Stop</td><td>Toys</td><td>Adidas</td><td>936.36</td></tr><tr><td>P0007</td><td>Reveal Current</td><td>Sports</td><td>Adidas</td><td>1954.02</td></tr><tr><td>P0008</td><td>Force Language</td><td>Beauty</td><td>Puma</td><td>1251.26</td></tr><tr><td>P0009</td><td>Stage Leg</td><td>Clothing</td><td>Samsung</td><td>1247.15</td></tr><tr><td>P0010</td><td>Leader Then</td><td>Sports</td><td>Sony</td><td>975.53</td></tr><tr><td>P0011</td><td>Term Rest</td><td>Electronics</td><td>Adidas</td><td>1475.31</td></tr><tr><td>P0012</td><td>Theory Wrong</td><td>Electronics</td><td>Apple</td><td>624.61</td></tr><tr><td>P0013</td><td>Democrat Book</td><td>Sports</td><td>Puma</td><td>384.99</td></tr><tr><td>P0014</td><td>Follow Brother</td><td>Clothing</td><td>Dell</td><td>32.2</td></tr><tr><td>P0015</td><td>Pattern Story</td><td>Beauty</td><td>LG</td><td>1459.2</td></tr><tr><td>P0016</td><td>Policy Nor</td><td>Clothing</td><td>Samsung</td><td>1594.08</td></tr><tr><td>P0017</td><td>After Project</td><td>Beauty</td><td>Revlon</td><td>1289.06</td></tr><tr><td>P0018</td><td>Technology Chance</td><td>Beauty</td><td>Puma</td><td>1329.53</td></tr><tr><td>P0019</td><td>Oil Station</td><td>Electronics</td><td>Samsung</td><td>230.56</td></tr><tr><td>P0020</td><td>Happen Truth</td><td>Beauty</td><td>Nike</td><td>1603.5</td></tr><tr><td>P0021</td><td>Middle Everyone</td><td>Sports</td><td>Nike</td><td>361.89</td></tr><tr><td>P0022</td><td>Purpose Why</td><td>Beauty</td><td>Puma</td><td>73.82</td></tr><tr><td>P0023</td><td>Decade Message</td><td>Clothing</td><td>Adidas</td><td>1561.78</td></tr><tr><td>P0024</td><td>Really Phone</td><td>Home</td><td>Samsung</td><td>1422.07</td></tr><tr><td>P0025</td><td>Until And</td><td>Beauty</td><td>Nike</td><td>488.67</td></tr><tr><td>P0026</td><td>Huge Find</td><td>Toys</td><td>Puma</td><td>1316.41</td></tr><tr><td>P0027</td><td>Local Open</td><td>Toys</td><td>Adidas</td><td>939.9</td></tr><tr><td>P0028</td><td>Its Both</td><td>Beauty</td><td>Puma</td><td>1682.91</td></tr><tr><td>P0029</td><td>Everything Open</td><td>Clothing</td><td>Nike</td><td>1065.49</td></tr><tr><td>P0030</td><td>Hold Staff</td><td>Toys</td><td>Lenovo</td><td>1162.38</td></tr><tr><td>P0031</td><td>Part Oil</td><td>Clothing</td><td>LG</td><td>774.18</td></tr><tr><td>P0032</td><td>Relationship Live</td><td>Electronics</td><td>Dell</td><td>1445.21</td></tr><tr><td>P0033</td><td>Perform Such</td><td>Clothing</td><td>Lenovo</td><td>61.91</td></tr><tr><td>P0034</td><td>Even Writer</td><td>Toys</td><td>Samsung</td><td>1843.84</td></tr><tr><td>P0035</td><td>Something Increase</td><td>Toys</td><td>Revlon</td><td>579.76</td></tr><tr><td>P0036</td><td>Success Always</td><td>Home</td><td>Dell</td><td>1780.37</td></tr><tr><td>P0037</td><td>Personal Over</td><td>Sports</td><td>Puma</td><td>105.28</td></tr><tr><td>P0038</td><td>Edge Keep</td><td>Toys</td><td>Revlon</td><td>1156.99</td></tr><tr><td>P0039</td><td>Before Do</td><td>Toys</td><td>Revlon</td><td>1279.12</td></tr><tr><td>P0040</td><td>Answer Require</td><td>Toys</td><td>Dell</td><td>1822.39</td></tr><tr><td>P0041</td><td>Conference Article</td><td>Sports</td><td>Dell</td><td>459.55</td></tr><tr><td>P0042</td><td>Heavy Writer</td><td>Beauty</td><td>Adidas</td><td>1215.78</td></tr><tr><td>P0043</td><td>Radio Thousand</td><td>Electronics</td><td>Revlon</td><td>914.61</td></tr><tr><td>P0044</td><td>Such Beautiful</td><td>Electronics</td><td>Dell</td><td>580.32</td></tr><tr><td>P0045</td><td>Certainly Sign</td><td>Sports</td><td>Sony</td><td>622.31</td></tr><tr><td>P0046</td><td>Exist Age</td><td>Beauty</td><td>Samsung</td><td>918.54</td></tr><tr><td>P0047</td><td>Ever Could</td><td>Sports</td><td>Revlon</td><td>257.51</td></tr><tr><td>P0048</td><td>Share Quality</td><td>Electronics</td><td>Revlon</td><td>652.68</td></tr><tr><td>P0049</td><td>True Her</td><td>Clothing</td><td>Lenovo</td><td>819.77</td></tr><tr><td>P0050</td><td>North Big</td><td>Electronics</td><td>Samsung</td><td>1947.16</td></tr><tr><td>P0051</td><td>Form Social</td><td>Electronics</td><td>Apple</td><td>1294.33</td></tr><tr><td>P0052</td><td>Total Tax</td><td>Toys</td><td>Lenovo</td><td>1190.28</td></tr><tr><td>P0053</td><td>News Look</td><td>Electronics</td><td>Samsung</td><td>896.22</td></tr><tr><td>P0054</td><td>Local Decide</td><td>Electronics</td><td>Adidas</td><td>1346.26</td></tr><tr><td>P0055</td><td>Seat Finish</td><td>Electronics</td><td>Sony</td><td>925.39</td></tr><tr><td>P0056</td><td>Weight Ground</td><td>Home</td><td>Nike</td><td>805.91</td></tr><tr><td>P0057</td><td>Everything Song</td><td>Clothing</td><td>Samsung</td><td>1000.36</td></tr><tr><td>P0058</td><td>Involve Present</td><td>Electronics</td><td>LG</td><td>1713.86</td></tr><tr><td>P0059</td><td>Democratic Any</td><td>Sports</td><td>Lenovo</td><td>808.17</td></tr><tr><td>P0060</td><td>Red Some</td><td>Clothing</td><td>Nike</td><td>1230.69</td></tr><tr><td>P0061</td><td>Describe Continue</td><td>Electronics</td><td>Sony</td><td>1610.15</td></tr><tr><td>P0062</td><td>Always Citizen</td><td>Clothing</td><td>Samsung</td><td>912.72</td></tr><tr><td>P0063</td><td>Necessary Bad</td><td>Home</td><td>Nike</td><td>1876.88</td></tr><tr><td>P0064</td><td>Size Although</td><td>Clothing</td><td>LG</td><td>473.8</td></tr><tr><td>P0065</td><td>Democratic As</td><td>Electronics</td><td>Lenovo</td><td>1472.24</td></tr><tr><td>P0066</td><td>I Worker</td><td>Sports</td><td>Sony</td><td>1123.53</td></tr><tr><td>P0067</td><td>Unit Election</td><td>Beauty</td><td>Samsung</td><td>144.72</td></tr><tr><td>P0068</td><td>Response Audience</td><td>Toys</td><td>LG</td><td>1633.64</td></tr><tr><td>P0069</td><td>Weight Design</td><td>Beauty</td><td>Lenovo</td><td>1165.23</td></tr><tr><td>P0070</td><td>Or Against</td><td>Sports</td><td>Lenovo</td><td>1589.36</td></tr><tr><td>P0071</td><td>Once Support</td><td>Toys</td><td>Apple</td><td>1385.04</td></tr><tr><td>P0072</td><td>Station Fund</td><td>Toys</td><td>Revlon</td><td>1198.32</td></tr><tr><td>P0073</td><td>Leave Reveal</td><td>Electronics</td><td>Adidas</td><td>586.19</td></tr><tr><td>P0074</td><td>Pm Near</td><td>Toys</td><td>Lenovo</td><td>426.99</td></tr><tr><td>P0075</td><td>Former Trade</td><td>Beauty</td><td>Samsung</td><td>73.74</td></tr><tr><td>P0076</td><td>Skill Need</td><td>Toys</td><td>Puma</td><td>862.73</td></tr><tr><td>P0077</td><td>Quality Conference</td><td>Clothing</td><td>LG</td><td>333.16</td></tr><tr><td>P0078</td><td>Their Worry</td><td>Electronics</td><td>LG</td><td>903.63</td></tr><tr><td>P0079</td><td>Night Experience</td><td>Beauty</td><td>LG</td><td>780.45</td></tr><tr><td>P0080</td><td>But Decide</td><td>Toys</td><td>Lenovo</td><td>1599.68</td></tr><tr><td>P0081</td><td>Whose Available</td><td>Toys</td><td>Nike</td><td>1697.18</td></tr><tr><td>P0082</td><td>Exist Interest</td><td>Beauty</td><td>Apple</td><td>1932.51</td></tr><tr><td>P0083</td><td>Laugh Speak</td><td>Beauty</td><td>Dell</td><td>1519.05</td></tr><tr><td>P0084</td><td>Little All</td><td>Home</td><td>Samsung</td><td>866.09</td></tr><tr><td>P0085</td><td>Hope Such</td><td>Clothing</td><td>Apple</td><td>1863.08</td></tr><tr><td>P0086</td><td>Save Own</td><td>Toys</td><td>Nike</td><td>915.44</td></tr><tr><td>P0087</td><td>Service Personal</td><td>Home</td><td>Sony</td><td>273.89</td></tr><tr><td>P0088</td><td>At Such</td><td>Home</td><td>Adidas</td><td>1482.19</td></tr><tr><td>P0089</td><td>Second Despite</td><td>Home</td><td>LG</td><td>611.31</td></tr><tr><td>P0090</td><td>Future Improve</td><td>Electronics</td><td>Puma</td><td>129.87</td></tr><tr><td>P0091</td><td>Nation Moment</td><td>Beauty</td><td>Samsung</td><td>1683.02</td></tr><tr><td>P0092</td><td>Stand Fish</td><td>Sports</td><td>Revlon</td><td>1631.21</td></tr><tr><td>P0093</td><td>Us Life</td><td>Clothing</td><td>Puma</td><td>749.33</td></tr><tr><td>P0094</td><td>Real Himself</td><td>Beauty</td><td>LG</td><td>48.71</td></tr><tr><td>P0095</td><td>Fund Tend</td><td>Electronics</td><td>Apple</td><td>1519.1</td></tr><tr><td>P0096</td><td>Public Voice</td><td>Electronics</td><td>Nike</td><td>1078.42</td></tr><tr><td>P0097</td><td>Crime Range</td><td>Clothing</td><td>Apple</td><td>627.41</td></tr><tr><td>P0098</td><td>Item See</td><td>Clothing</td><td>Puma</td><td>551.54</td></tr><tr><td>P0099</td><td>Notice Rather</td><td>Beauty</td><td>Adidas</td><td>1110.7</td></tr><tr><td>P0100</td><td>Oil Into</td><td>Sports</td><td>Dell</td><td>793.81</td></tr><tr><td>P0101</td><td>Sister Tend</td><td>Sports</td><td>Puma</td><td>1106.32</td></tr><tr><td>P0102</td><td>Yourself Team</td><td>Beauty</td><td>LG</td><td>1079.69</td></tr><tr><td>P0103</td><td>Rich Page</td><td>Toys</td><td>Samsung</td><td>486.63</td></tr><tr><td>P0104</td><td>Fact Building</td><td>Clothing</td><td>Dell</td><td>860.64</td></tr><tr><td>P0105</td><td>Color Now</td><td>Clothing</td><td>LG</td><td>1200.37</td></tr><tr><td>P0106</td><td>Research Mother</td><td>Clothing</td><td>Sony</td><td>1100.51</td></tr><tr><td>P0107</td><td>Degree Much</td><td>Toys</td><td>Adidas</td><td>193.45</td></tr><tr><td>P0108</td><td>Southern Hear</td><td>Home</td><td>Puma</td><td>22.3</td></tr><tr><td>P0109</td><td>Seem South</td><td>Electronics</td><td>Lenovo</td><td>1891.2</td></tr><tr><td>P0110</td><td>Before Everybody</td><td>Toys</td><td>Samsung</td><td>776.77</td></tr><tr><td>P0111</td><td>Decade Land</td><td>Electronics</td><td>Adidas</td><td>1138.45</td></tr><tr><td>P0112</td><td>Study Heavy</td><td>Beauty</td><td>Puma</td><td>1579.73</td></tr><tr><td>P0113</td><td>These Skill</td><td>Clothing</td><td>Puma</td><td>810.64</td></tr><tr><td>P0114</td><td>Kid Necessary</td><td>Home</td><td>Nike</td><td>1178.36</td></tr><tr><td>P0115</td><td>Subject Become</td><td>Electronics</td><td>Puma</td><td>1504.01</td></tr><tr><td>P0116</td><td>Very Forget</td><td>Sports</td><td>Sony</td><td>287.59</td></tr><tr><td>P0117</td><td>Before Product</td><td>Beauty</td><td>Puma</td><td>665.49</td></tr><tr><td>P0118</td><td>Start Threat</td><td>Toys</td><td>Lenovo</td><td>1123.64</td></tr><tr><td>P0119</td><td>Carry View</td><td>Home</td><td>Sony</td><td>60.42</td></tr><tr><td>P0120</td><td>Direction Character</td><td>Toys</td><td>Sony</td><td>368.47</td></tr><tr><td>P0121</td><td>Trade Drug</td><td>Sports</td><td>Nike</td><td>1959.23</td></tr><tr><td>P0122</td><td>Tend Continue</td><td>Clothing</td><td>LG</td><td>539.16</td></tr><tr><td>P0123</td><td>Why Decide</td><td>Clothing</td><td>Nike</td><td>503.76</td></tr><tr><td>P0124</td><td>Operation Century</td><td>Clothing</td><td>Puma</td><td>1857.88</td></tr><tr><td>P0125</td><td>Sort Summer</td><td>Home</td><td>Sony</td><td>947.43</td></tr><tr><td>P0126</td><td>Possible Which</td><td>Sports</td><td>Sony</td><td>1431.12</td></tr><tr><td>P0127</td><td>Movement Picture</td><td>Home</td><td>Sony</td><td>1337.38</td></tr><tr><td>P0128</td><td>Board Worker</td><td>Electronics</td><td>Apple</td><td>1935.2</td></tr><tr><td>P0129</td><td>North On</td><td>Toys</td><td>Adidas</td><td>763.99</td></tr><tr><td>P0130</td><td>Behavior Nothing</td><td>Clothing</td><td>Adidas</td><td>1355.15</td></tr><tr><td>P0131</td><td>Too Example</td><td>Clothing</td><td>Revlon</td><td>302.22</td></tr><tr><td>P0132</td><td>Issue Return</td><td>Home</td><td>Samsung</td><td>1194.22</td></tr><tr><td>P0133</td><td>Speak Small</td><td>Electronics</td><td>LG</td><td>215.63</td></tr><tr><td>P0134</td><td>Stand Fire</td><td>Home</td><td>Puma</td><td>1625.17</td></tr><tr><td>P0135</td><td>Maybe Light</td><td>Clothing</td><td>Puma</td><td>669.95</td></tr><tr><td>P0136</td><td>Year True</td><td>Sports</td><td>Samsung</td><td>48.0</td></tr><tr><td>P0137</td><td>Thought Travel</td><td>Clothing</td><td>Lenovo</td><td>1569.19</td></tr><tr><td>P0138</td><td>Already Series</td><td>Clothing</td><td>Samsung</td><td>452.81</td></tr><tr><td>P0139</td><td>Seek President</td><td>Toys</td><td>Revlon</td><td>399.03</td></tr><tr><td>P0140</td><td>Detail Bar</td><td>Clothing</td><td>Adidas</td><td>116.36</td></tr><tr><td>P0141</td><td>Play Show</td><td>Electronics</td><td>Adidas</td><td>1039.71</td></tr><tr><td>P0142</td><td>Trouble Parent</td><td>Clothing</td><td>Adidas</td><td>1081.59</td></tr><tr><td>P0143</td><td>One Like</td><td>Electronics</td><td>Apple</td><td>1549.15</td></tr><tr><td>P0144</td><td>Admit Street</td><td>Beauty</td><td>Apple</td><td>769.93</td></tr><tr><td>P0145</td><td>House Everything</td><td>Toys</td><td>Puma</td><td>453.73</td></tr><tr><td>P0146</td><td>Building Drive</td><td>Electronics</td><td>Sony</td><td>1763.2</td></tr><tr><td>P0147</td><td>Among Success</td><td>Electronics</td><td>Lenovo</td><td>86.53</td></tr><tr><td>P0148</td><td>Politics Friend</td><td>Toys</td><td>Dell</td><td>435.86</td></tr><tr><td>P0149</td><td>Middle Price</td><td>Electronics</td><td>Samsung</td><td>793.61</td></tr><tr><td>P0150</td><td>Nice Clearly</td><td>Electronics</td><td>Samsung</td><td>1207.54</td></tr><tr><td>P0151</td><td>Cup Per</td><td>Toys</td><td>Apple</td><td>38.43</td></tr><tr><td>P0152</td><td>Not Wait</td><td>Home</td><td>LG</td><td>357.33</td></tr><tr><td>P0153</td><td>Brother Four</td><td>Home</td><td>Apple</td><td>809.73</td></tr><tr><td>P0154</td><td>Trip Within</td><td>Beauty</td><td>Samsung</td><td>1089.28</td></tr><tr><td>P0155</td><td>Laugh Score</td><td>Electronics</td><td>Dell</td><td>12.35</td></tr><tr><td>P0156</td><td>Put After</td><td>Home</td><td>Sony</td><td>1746.06</td></tr><tr><td>P0157</td><td>Race Provide</td><td>Home</td><td>Adidas</td><td>825.91</td></tr><tr><td>P0158</td><td>Pm Plant</td><td>Toys</td><td>Adidas</td><td>1286.8</td></tr><tr><td>P0159</td><td>Politics Along</td><td>Home</td><td>Lenovo</td><td>674.29</td></tr><tr><td>P0160</td><td>Parent Into</td><td>Clothing</td><td>Nike</td><td>1542.46</td></tr><tr><td>P0161</td><td>Need Book</td><td>Toys</td><td>LG</td><td>906.6</td></tr><tr><td>P0162</td><td>West This</td><td>Toys</td><td>Adidas</td><td>417.67</td></tr><tr><td>P0163</td><td>Tree Role</td><td>Toys</td><td>Dell</td><td>1307.14</td></tr><tr><td>P0164</td><td>Word Hard</td><td>Electronics</td><td>Lenovo</td><td>535.06</td></tr><tr><td>P0165</td><td>Son Drug</td><td>Toys</td><td>Adidas</td><td>1971.77</td></tr><tr><td>P0166</td><td>Look Field</td><td>Beauty</td><td>Samsung</td><td>62.19</td></tr><tr><td>P0167</td><td>Early Course</td><td>Electronics</td><td>Adidas</td><td>1666.23</td></tr><tr><td>P0168</td><td>Generation Day</td><td>Toys</td><td>Sony</td><td>1006.63</td></tr><tr><td>P0169</td><td>Position Bank</td><td>Beauty</td><td>Sony</td><td>1267.42</td></tr><tr><td>P0170</td><td>Second Start</td><td>Home</td><td>Lenovo</td><td>329.25</td></tr><tr><td>P0171</td><td>Option Necessary</td><td>Clothing</td><td>Lenovo</td><td>1557.09</td></tr><tr><td>P0172</td><td>Commercial Through</td><td>Home</td><td>Sony</td><td>1759.47</td></tr><tr><td>P0173</td><td>Nearly When</td><td>Electronics</td><td>Samsung</td><td>930.78</td></tr><tr><td>P0174</td><td>Weight Tax</td><td>Home</td><td>Lenovo</td><td>81.55</td></tr><tr><td>P0175</td><td>Enjoy Throughout</td><td>Home</td><td>Apple</td><td>364.2</td></tr><tr><td>P0176</td><td>Team Foreign</td><td>Home</td><td>Adidas</td><td>824.82</td></tr><tr><td>P0177</td><td>Article Smile</td><td>Clothing</td><td>Nike</td><td>1241.26</td></tr><tr><td>P0178</td><td>Finally Suddenly</td><td>Toys</td><td>Adidas</td><td>743.65</td></tr><tr><td>P0179</td><td>Base Significant</td><td>Electronics</td><td>Samsung</td><td>1950.04</td></tr><tr><td>P0180</td><td>Form Management</td><td>Electronics</td><td>Sony</td><td>141.37</td></tr><tr><td>P0181</td><td>Of Seek</td><td>Beauty</td><td>LG</td><td>1935.07</td></tr><tr><td>P0182</td><td>Health I</td><td>Beauty</td><td>Apple</td><td>1661.22</td></tr><tr><td>P0183</td><td>Born Focus</td><td>Sports</td><td>Samsung</td><td>762.15</td></tr><tr><td>P0184</td><td>Main Majority</td><td>Sports</td><td>Adidas</td><td>1003.71</td></tr><tr><td>P0185</td><td>Authority Director</td><td>Beauty</td><td>Apple</td><td>1595.17</td></tr><tr><td>P0186</td><td>Tv Size</td><td>Sports</td><td>Revlon</td><td>231.03</td></tr><tr><td>P0187</td><td>Number They</td><td>Electronics</td><td>Nike</td><td>38.88</td></tr><tr><td>P0188</td><td>Able Seat</td><td>Electronics</td><td>Adidas</td><td>1582.57</td></tr><tr><td>P0189</td><td>Commercial Boy</td><td>Home</td><td>Puma</td><td>641.08</td></tr><tr><td>P0190</td><td>Set Whom</td><td>Sports</td><td>Samsung</td><td>686.04</td></tr><tr><td>P0191</td><td>Myself Performance</td><td>Toys</td><td>Revlon</td><td>112.38</td></tr><tr><td>P0192</td><td>Up Management</td><td>Sports</td><td>Apple</td><td>942.81</td></tr><tr><td>P0193</td><td>Early They</td><td>Electronics</td><td>Nike</td><td>1238.31</td></tr><tr><td>P0194</td><td>Charge Through</td><td>Electronics</td><td>Revlon</td><td>1814.74</td></tr><tr><td>P0195</td><td>Leg In</td><td>Toys</td><td>Adidas</td><td>937.18</td></tr><tr><td>P0196</td><td>Study Teach</td><td>Clothing</td><td>Adidas</td><td>1159.15</td></tr><tr><td>P0197</td><td>Old Ball</td><td>Sports</td><td>Revlon</td><td>1564.84</td></tr><tr><td>P0198</td><td>Information Life</td><td>Sports</td><td>Samsung</td><td>628.47</td></tr><tr><td>P0199</td><td>Data Structure</td><td>Clothing</td><td>Sony</td><td>1368.51</td></tr><tr><td>P0200</td><td>Close Knowledge</td><td>Toys</td><td>Apple</td><td>692.12</td></tr><tr><td>P0201</td><td>Professional Test</td><td>Beauty</td><td>Samsung</td><td>1573.37</td></tr><tr><td>P0202</td><td>Analysis The</td><td>Electronics</td><td>Adidas</td><td>1953.99</td></tr><tr><td>P0203</td><td>Difficult Around</td><td>Home</td><td>Samsung</td><td>1016.57</td></tr><tr><td>P0204</td><td>Show Teacher</td><td>Electronics</td><td>Adidas</td><td>1734.6</td></tr><tr><td>P0205</td><td>Attorney I</td><td>Home</td><td>LG</td><td>478.82</td></tr><tr><td>P0206</td><td>Remember Stuff</td><td>Electronics</td><td>Apple</td><td>375.49</td></tr><tr><td>P0207</td><td>Year Much</td><td>Beauty</td><td>Adidas</td><td>230.41</td></tr><tr><td>P0208</td><td>Rather Require</td><td>Toys</td><td>Adidas</td><td>754.39</td></tr><tr><td>P0209</td><td>Catch Local</td><td>Sports</td><td>Revlon</td><td>1070.99</td></tr><tr><td>P0210</td><td>Learn Weight</td><td>Sports</td><td>Apple</td><td>863.71</td></tr><tr><td>P0211</td><td>Check Line</td><td>Beauty</td><td>Nike</td><td>1051.35</td></tr><tr><td>P0212</td><td>Per Leader</td><td>Home</td><td>Adidas</td><td>1766.16</td></tr><tr><td>P0213</td><td>Suggest Chance</td><td>Sports</td><td>Samsung</td><td>1528.21</td></tr><tr><td>P0214</td><td>Site Trip</td><td>Toys</td><td>Revlon</td><td>1725.81</td></tr><tr><td>P0215</td><td>Trouble Treatment</td><td>Beauty</td><td>Adidas</td><td>1678.45</td></tr><tr><td>P0216</td><td>Every Page</td><td>Home</td><td>Adidas</td><td>1526.03</td></tr><tr><td>P0217</td><td>Vote Tree</td><td>Sports</td><td>Puma</td><td>1460.22</td></tr><tr><td>P0218</td><td>Sea Clear</td><td>Beauty</td><td>Nike</td><td>207.67</td></tr><tr><td>P0219</td><td>Per Voice</td><td>Clothing</td><td>Dell</td><td>996.21</td></tr><tr><td>P0220</td><td>Term Fine</td><td>Beauty</td><td>Dell</td><td>1354.7</td></tr><tr><td>P0221</td><td>Player Summer</td><td>Beauty</td><td>Lenovo</td><td>1205.37</td></tr><tr><td>P0222</td><td>Respond Knowledge</td><td>Electronics</td><td>Samsung</td><td>977.33</td></tr><tr><td>P0223</td><td>Believe Activity</td><td>Toys</td><td>Lenovo</td><td>1292.39</td></tr><tr><td>P0224</td><td>Federal Around</td><td>Clothing</td><td>Apple</td><td>1153.17</td></tr><tr><td>P0225</td><td>Discussion Region</td><td>Beauty</td><td>Nike</td><td>551.26</td></tr><tr><td>P0226</td><td>Care North</td><td>Beauty</td><td>Lenovo</td><td>1668.89</td></tr><tr><td>P0227</td><td>Need Method</td><td>Beauty</td><td>Nike</td><td>449.11</td></tr><tr><td>P0228</td><td>Citizen Item</td><td>Sports</td><td>Puma</td><td>317.83</td></tr><tr><td>P0229</td><td>Material If</td><td>Home</td><td>Lenovo</td><td>1399.43</td></tr><tr><td>P0230</td><td>Old Increase</td><td>Beauty</td><td>Samsung</td><td>1163.64</td></tr><tr><td>P0231</td><td>Do Chair</td><td>Home</td><td>Revlon</td><td>781.81</td></tr><tr><td>P0232</td><td>Would Along</td><td>Toys</td><td>Adidas</td><td>896.07</td></tr><tr><td>P0233</td><td>Second Learn</td><td>Toys</td><td>Lenovo</td><td>901.28</td></tr><tr><td>P0234</td><td>Guess At</td><td>Sports</td><td>Sony</td><td>1231.55</td></tr><tr><td>P0235</td><td>Country Knowledge</td><td>Sports</td><td>Adidas</td><td>1297.8</td></tr><tr><td>P0236</td><td>War Involve</td><td>Electronics</td><td>Samsung</td><td>951.74</td></tr><tr><td>P0237</td><td>As Push</td><td>Toys</td><td>Samsung</td><td>164.53</td></tr><tr><td>P0238</td><td>Air Life</td><td>Beauty</td><td>Revlon</td><td>1358.99</td></tr><tr><td>P0239</td><td>Show Finally</td><td>Toys</td><td>Nike</td><td>1612.58</td></tr><tr><td>P0240</td><td>Six Senior</td><td>Clothing</td><td>Samsung</td><td>1648.93</td></tr><tr><td>P0241</td><td>Edge Civil</td><td>Electronics</td><td>Puma</td><td>1531.37</td></tr><tr><td>P0242</td><td>Radio Lot</td><td>Home</td><td>Samsung</td><td>412.59</td></tr><tr><td>P0243</td><td>Recent The</td><td>Beauty</td><td>Lenovo</td><td>1875.22</td></tr><tr><td>P0244</td><td>Run Market</td><td>Beauty</td><td>Revlon</td><td>1843.58</td></tr><tr><td>P0245</td><td>Occur Attention</td><td>Beauty</td><td>LG</td><td>270.43</td></tr><tr><td>P0246</td><td>Great Field</td><td>Electronics</td><td>Adidas</td><td>1449.57</td></tr><tr><td>P0247</td><td>Step Information</td><td>Electronics</td><td>Sony</td><td>825.1</td></tr><tr><td>P0248</td><td>Develop International</td><td>Electronics</td><td>Revlon</td><td>1200.32</td></tr><tr><td>P0249</td><td>There True</td><td>Electronics</td><td>Puma</td><td>1536.54</td></tr><tr><td>P0250</td><td>Half Ten</td><td>Sports</td><td>Samsung</td><td>710.82</td></tr><tr><td>P0251</td><td>Business Own</td><td>Beauty</td><td>Lenovo</td><td>28.65</td></tr><tr><td>P0252</td><td>Late Thus</td><td>Electronics</td><td>Sony</td><td>1957.38</td></tr><tr><td>P0253</td><td>Onto Owner</td><td>Toys</td><td>Lenovo</td><td>226.44</td></tr><tr><td>P0254</td><td>According Because</td><td>Home</td><td>Lenovo</td><td>503.61</td></tr><tr><td>P0255</td><td>Activity Western</td><td>Sports</td><td>Lenovo</td><td>154.4</td></tr><tr><td>P0256</td><td>Note Worker</td><td>Electronics</td><td>Lenovo</td><td>882.48</td></tr><tr><td>P0257</td><td>Executive Art</td><td>Beauty</td><td>Nike</td><td>944.89</td></tr><tr><td>P0258</td><td>Culture Follow</td><td>Home</td><td>Revlon</td><td>1423.91</td></tr><tr><td>P0259</td><td>Against Kind</td><td>Sports</td><td>Puma</td><td>1484.64</td></tr><tr><td>P0260</td><td>About Buy</td><td>Electronics</td><td>Revlon</td><td>1255.56</td></tr><tr><td>P0261</td><td>Capital Well</td><td>Beauty</td><td>Dell</td><td>203.78</td></tr><tr><td>P0262</td><td>Decade Left</td><td>Toys</td><td>Samsung</td><td>885.15</td></tr><tr><td>P0263</td><td>Machine Heart</td><td>Sports</td><td>Nike</td><td>371.19</td></tr><tr><td>P0264</td><td>Thought Heavy</td><td>Beauty</td><td>Apple</td><td>1030.44</td></tr><tr><td>P0265</td><td>Image No</td><td>Toys</td><td>Nike</td><td>1216.14</td></tr><tr><td>P0266</td><td>Specific You</td><td>Electronics</td><td>LG</td><td>324.37</td></tr><tr><td>P0267</td><td>Painting Daughter</td><td>Home</td><td>Adidas</td><td>1772.83</td></tr><tr><td>P0268</td><td>Man Near</td><td>Sports</td><td>Dell</td><td>631.29</td></tr><tr><td>P0269</td><td>Grow Fly</td><td>Sports</td><td>Lenovo</td><td>1192.68</td></tr><tr><td>P0270</td><td>Candidate Question</td><td>Beauty</td><td>Samsung</td><td>611.71</td></tr><tr><td>P0271</td><td>Notice Town</td><td>Sports</td><td>Puma</td><td>1362.74</td></tr><tr><td>P0272</td><td>Defense Either</td><td>Beauty</td><td>Dell</td><td>1472.29</td></tr><tr><td>P0273</td><td>Peace When</td><td>Electronics</td><td>Nike</td><td>146.58</td></tr><tr><td>P0274</td><td>Always Debate</td><td>Clothing</td><td>Samsung</td><td>1128.5</td></tr><tr><td>P0275</td><td>Piece Information</td><td>Toys</td><td>Sony</td><td>1478.58</td></tr><tr><td>P0276</td><td>Team Support</td><td>Toys</td><td>Puma</td><td>1155.12</td></tr><tr><td>P0277</td><td>Field White</td><td>Home</td><td>Dell</td><td>63.16</td></tr><tr><td>P0278</td><td>Similar Can</td><td>Beauty</td><td>Revlon</td><td>414.78</td></tr><tr><td>P0279</td><td>Fast Situation</td><td>Beauty</td><td>Lenovo</td><td>1619.24</td></tr><tr><td>P0280</td><td>Financial Enough</td><td>Clothing</td><td>Puma</td><td>566.91</td></tr><tr><td>P0281</td><td>Hot Customer</td><td>Home</td><td>Puma</td><td>188.55</td></tr><tr><td>P0282</td><td>Matter To</td><td>Electronics</td><td>Samsung</td><td>69.59</td></tr><tr><td>P0283</td><td>Southern Team</td><td>Sports</td><td>Nike</td><td>474.49</td></tr><tr><td>P0284</td><td>Population Account</td><td>Beauty</td><td>Puma</td><td>352.26</td></tr><tr><td>P0285</td><td>Cultural Beat</td><td>Clothing</td><td>Revlon</td><td>1123.4</td></tr><tr><td>P0286</td><td>Blood Chair</td><td>Beauty</td><td>Adidas</td><td>1164.64</td></tr><tr><td>P0287</td><td>Evening Natural</td><td>Electronics</td><td>Puma</td><td>1084.4</td></tr><tr><td>P0288</td><td>Source Hour</td><td>Toys</td><td>Lenovo</td><td>1486.02</td></tr><tr><td>P0289</td><td>Finish Everything</td><td>Sports</td><td>Puma</td><td>1780.19</td></tr><tr><td>P0290</td><td>Room Public</td><td>Beauty</td><td>LG</td><td>919.28</td></tr><tr><td>P0291</td><td>Able Media</td><td>Electronics</td><td>LG</td><td>890.9</td></tr><tr><td>P0292</td><td>Very Event</td><td>Toys</td><td>Sony</td><td>1339.35</td></tr><tr><td>P0293</td><td>Degree Agency</td><td>Electronics</td><td>LG</td><td>107.68</td></tr><tr><td>P0294</td><td>Dark Former</td><td>Sports</td><td>Lenovo</td><td>1054.65</td></tr><tr><td>P0295</td><td>Participant Kitchen</td><td>Electronics</td><td>Puma</td><td>1938.35</td></tr><tr><td>P0296</td><td>Garden Reach</td><td>Sports</td><td>Nike</td><td>1738.65</td></tr><tr><td>P0297</td><td>Turn Degree</td><td>Sports</td><td>Nike</td><td>859.64</td></tr><tr><td>P0298</td><td>Talk Offer</td><td>Clothing</td><td>Revlon</td><td>1571.12</td></tr><tr><td>P0299</td><td>Look Mention</td><td>Home</td><td>Apple</td><td>1170.51</td></tr><tr><td>P0300</td><td>Amount Politics</td><td>Electronics</td><td>Sony</td><td>1741.53</td></tr><tr><td>P0301</td><td>Side Note</td><td>Clothing</td><td>Adidas</td><td>1005.47</td></tr><tr><td>P0302</td><td>Three Seven</td><td>Electronics</td><td>Nike</td><td>1017.38</td></tr><tr><td>P0303</td><td>Child Help</td><td>Clothing</td><td>LG</td><td>1052.48</td></tr><tr><td>P0304</td><td>Our Arrive</td><td>Beauty</td><td>Adidas</td><td>1039.68</td></tr><tr><td>P0305</td><td>Score Choice</td><td>Electronics</td><td>Puma</td><td>1089.74</td></tr><tr><td>P0306</td><td>Six Speak</td><td>Toys</td><td>Samsung</td><td>140.5</td></tr><tr><td>P0307</td><td>Culture Specific</td><td>Beauty</td><td>Lenovo</td><td>1923.44</td></tr><tr><td>P0308</td><td>And Agent</td><td>Sports</td><td>Nike</td><td>187.35</td></tr><tr><td>P0309</td><td>Nor Prepare</td><td>Toys</td><td>Apple</td><td>445.2</td></tr><tr><td>P0310</td><td>Ok Leave</td><td>Home</td><td>Samsung</td><td>704.08</td></tr><tr><td>P0311</td><td>Blue Live</td><td>Toys</td><td>Revlon</td><td>454.3</td></tr><tr><td>P0312</td><td>Big Similar</td><td>Beauty</td><td>Puma</td><td>1500.97</td></tr><tr><td>P0313</td><td>Try You</td><td>Sports</td><td>Samsung</td><td>985.34</td></tr><tr><td>P0314</td><td>Protect Hope</td><td>Sports</td><td>Nike</td><td>599.47</td></tr><tr><td>P0315</td><td>Work Party</td><td>Clothing</td><td>Dell</td><td>1703.11</td></tr><tr><td>P0316</td><td>Sell State</td><td>Clothing</td><td>Puma</td><td>605.68</td></tr><tr><td>P0317</td><td>Trade Region</td><td>Home</td><td>Dell</td><td>1174.72</td></tr><tr><td>P0318</td><td>History Create</td><td>Toys</td><td>Samsung</td><td>824.7</td></tr><tr><td>P0319</td><td>Trouble Street</td><td>Home</td><td>Nike</td><td>1494.78</td></tr><tr><td>P0320</td><td>Whole Road</td><td>Toys</td><td>Adidas</td><td>491.43</td></tr><tr><td>P0321</td><td>They As</td><td>Toys</td><td>Lenovo</td><td>1631.26</td></tr><tr><td>P0322</td><td>Part Traditional</td><td>Beauty</td><td>Dell</td><td>1731.88</td></tr><tr><td>P0323</td><td>Professor What</td><td>Beauty</td><td>Lenovo</td><td>1248.81</td></tr><tr><td>P0324</td><td>Light Idea</td><td>Toys</td><td>Nike</td><td>1819.96</td></tr><tr><td>P0325</td><td>Right Program</td><td>Beauty</td><td>Lenovo</td><td>1361.28</td></tr><tr><td>P0326</td><td>Safe Loss</td><td>Clothing</td><td>Nike</td><td>1688.79</td></tr><tr><td>P0327</td><td>Garden Shake</td><td>Electronics</td><td>Sony</td><td>943.0</td></tr><tr><td>P0328</td><td>Space Person</td><td>Clothing</td><td>Lenovo</td><td>1928.38</td></tr><tr><td>P0329</td><td>Range However</td><td>Toys</td><td>Nike</td><td>1295.37</td></tr><tr><td>P0330</td><td>Main Student</td><td>Sports</td><td>LG</td><td>1241.75</td></tr><tr><td>P0331</td><td>Let Positive</td><td>Sports</td><td>LG</td><td>1528.85</td></tr><tr><td>P0332</td><td>Thus Make</td><td>Toys</td><td>Lenovo</td><td>1369.33</td></tr><tr><td>P0333</td><td>History Easy</td><td>Beauty</td><td>Sony</td><td>1892.24</td></tr><tr><td>P0334</td><td>Customer Loss</td><td>Beauty</td><td>Lenovo</td><td>1560.27</td></tr><tr><td>P0335</td><td>Type Area</td><td>Sports</td><td>Samsung</td><td>1352.39</td></tr><tr><td>P0336</td><td>Shake Current</td><td>Electronics</td><td>Dell</td><td>222.93</td></tr><tr><td>P0337</td><td>Very Include</td><td>Toys</td><td>Samsung</td><td>1968.32</td></tr><tr><td>P0338</td><td>Service Military</td><td>Home</td><td>LG</td><td>1844.1</td></tr><tr><td>P0339</td><td>Rule Site</td><td>Sports</td><td>LG</td><td>1321.67</td></tr><tr><td>P0340</td><td>Though Pretty</td><td>Electronics</td><td>Adidas</td><td>1635.48</td></tr><tr><td>P0341</td><td>Me Small</td><td>Home</td><td>Lenovo</td><td>1333.84</td></tr><tr><td>P0342</td><td>Trouble Over</td><td>Beauty</td><td>Nike</td><td>125.97</td></tr><tr><td>P0343</td><td>Yeah Former</td><td>Toys</td><td>Sony</td><td>539.06</td></tr><tr><td>P0344</td><td>House Enter</td><td>Beauty</td><td>Nike</td><td>1118.86</td></tr><tr><td>P0345</td><td>Federal Sport</td><td>Sports</td><td>Apple</td><td>1366.77</td></tr><tr><td>P0346</td><td>International Yes</td><td>Home</td><td>Dell</td><td>84.09</td></tr><tr><td>P0347</td><td>Painting Kid</td><td>Beauty</td><td>Sony</td><td>452.69</td></tr><tr><td>P0348</td><td>Late Smile</td><td>Home</td><td>LG</td><td>958.75</td></tr><tr><td>P0349</td><td>Less Can</td><td>Beauty</td><td>LG</td><td>1059.73</td></tr><tr><td>P0350</td><td>Garden Blue</td><td>Sports</td><td>Dell</td><td>758.98</td></tr><tr><td>P0351</td><td>Debate Whether</td><td>Beauty</td><td>Samsung</td><td>390.64</td></tr><tr><td>P0352</td><td>About Room</td><td>Home</td><td>Sony</td><td>1226.91</td></tr><tr><td>P0353</td><td>Local Big</td><td>Electronics</td><td>Adidas</td><td>1464.67</td></tr><tr><td>P0354</td><td>Stop As</td><td>Electronics</td><td>Samsung</td><td>289.67</td></tr><tr><td>P0355</td><td>Itself Explain</td><td>Toys</td><td>Apple</td><td>1804.42</td></tr><tr><td>P0356</td><td>Method Authority</td><td>Electronics</td><td>Samsung</td><td>97.91</td></tr><tr><td>P0357</td><td>The Seek</td><td>Clothing</td><td>Adidas</td><td>1705.13</td></tr><tr><td>P0358</td><td>Quickly Republican</td><td>Sports</td><td>Samsung</td><td>1175.18</td></tr><tr><td>P0359</td><td>Feel Describe</td><td>Home</td><td>Lenovo</td><td>660.84</td></tr><tr><td>P0360</td><td>Reveal Organization</td><td>Clothing</td><td>Lenovo</td><td>175.53</td></tr><tr><td>P0361</td><td>Energy Lay</td><td>Beauty</td><td>LG</td><td>1572.29</td></tr><tr><td>P0362</td><td>Reality Network</td><td>Toys</td><td>Revlon</td><td>1555.65</td></tr><tr><td>P0363</td><td>Score Read</td><td>Home</td><td>Nike</td><td>758.11</td></tr><tr><td>P0364</td><td>What Describe</td><td>Sports</td><td>Dell</td><td>930.34</td></tr><tr><td>P0365</td><td>Available Rich</td><td>Clothing</td><td>Revlon</td><td>1542.85</td></tr><tr><td>P0366</td><td>Seek Position</td><td>Toys</td><td>Apple</td><td>1008.85</td></tr><tr><td>P0367</td><td>Human See</td><td>Clothing</td><td>Nike</td><td>776.79</td></tr><tr><td>P0368</td><td>National Various</td><td>Beauty</td><td>Dell</td><td>138.37</td></tr><tr><td>P0369</td><td>Spend Account</td><td>Sports</td><td>Apple</td><td>1954.77</td></tr><tr><td>P0370</td><td>Artist Protect</td><td>Sports</td><td>Lenovo</td><td>1000.0</td></tr><tr><td>P0371</td><td>Possible So</td><td>Electronics</td><td>Dell</td><td>1479.94</td></tr><tr><td>P0372</td><td>Level Rock</td><td>Electronics</td><td>Dell</td><td>1242.11</td></tr><tr><td>P0373</td><td>Wrong Building</td><td>Beauty</td><td>Puma</td><td>1858.79</td></tr><tr><td>P0374</td><td>Whom Century</td><td>Beauty</td><td>LG</td><td>1676.32</td></tr><tr><td>P0375</td><td>Local Evening</td><td>Electronics</td><td>Sony</td><td>412.3</td></tr><tr><td>P0376</td><td>Piece Raise</td><td>Beauty</td><td>Adidas</td><td>1860.84</td></tr><tr><td>P0377</td><td>Think None</td><td>Sports</td><td>Dell</td><td>1298.87</td></tr><tr><td>P0378</td><td>Economy Court</td><td>Electronics</td><td>Dell</td><td>1677.01</td></tr><tr><td>P0379</td><td>Ball Base</td><td>Clothing</td><td>Sony</td><td>1028.64</td></tr><tr><td>P0380</td><td>Blue Finally</td><td>Sports</td><td>Dell</td><td>1721.21</td></tr><tr><td>P0381</td><td>Tend Inside</td><td>Clothing</td><td>Adidas</td><td>1203.96</td></tr><tr><td>P0382</td><td>Five Force</td><td>Home</td><td>Apple</td><td>713.46</td></tr><tr><td>P0383</td><td>Popular Herself</td><td>Beauty</td><td>Revlon</td><td>180.91</td></tr><tr><td>P0384</td><td>Issue Doctor</td><td>Toys</td><td>Puma</td><td>86.38</td></tr><tr><td>P0385</td><td>Old Hand</td><td>Beauty</td><td>Revlon</td><td>1924.73</td></tr><tr><td>P0386</td><td>Style Again</td><td>Sports</td><td>Revlon</td><td>1294.16</td></tr><tr><td>P0387</td><td>Affect Continue</td><td>Clothing</td><td>Dell</td><td>1648.43</td></tr><tr><td>P0388</td><td>Professional Physical</td><td>Clothing</td><td>Puma</td><td>922.07</td></tr><tr><td>P0389</td><td>Necessary Upon</td><td>Beauty</td><td>Sony</td><td>458.59</td></tr><tr><td>P0390</td><td>Leader Security</td><td>Toys</td><td>Lenovo</td><td>867.57</td></tr><tr><td>P0391</td><td>Serious Information</td><td>Beauty</td><td>Sony</td><td>1392.3</td></tr><tr><td>P0392</td><td>Customer Or</td><td>Sports</td><td>Apple</td><td>892.97</td></tr><tr><td>P0393</td><td>Goal Ground</td><td>Clothing</td><td>Sony</td><td>1619.98</td></tr><tr><td>P0394</td><td>Beautiful Small</td><td>Beauty</td><td>Samsung</td><td>926.57</td></tr><tr><td>P0395</td><td>Song Approach</td><td>Clothing</td><td>Samsung</td><td>1758.5</td></tr><tr><td>P0396</td><td>Pattern Age</td><td>Electronics</td><td>Lenovo</td><td>1566.87</td></tr><tr><td>P0397</td><td>Civil Action</td><td>Sports</td><td>Apple</td><td>1877.24</td></tr><tr><td>P0398</td><td>Floor Daughter</td><td>Electronics</td><td>Apple</td><td>1825.42</td></tr><tr><td>P0399</td><td>Parent Reflect</td><td>Toys</td><td>Nike</td><td>1135.56</td></tr><tr><td>P0400</td><td>Any Buy</td><td>Clothing</td><td>Sony</td><td>835.22</td></tr><tr><td>P0401</td><td>Design Machine</td><td>Toys</td><td>Dell</td><td>392.57</td></tr><tr><td>P0402</td><td>Area Your</td><td>Beauty</td><td>Lenovo</td><td>47.46</td></tr><tr><td>P0403</td><td>Artist Anyone</td><td>Home</td><td>Lenovo</td><td>1744.03</td></tr><tr><td>P0404</td><td>Card Government</td><td>Electronics</td><td>LG</td><td>967.18</td></tr><tr><td>P0405</td><td>Population Hold</td><td>Electronics</td><td>Dell</td><td>1225.32</td></tr><tr><td>P0406</td><td>Indicate Produce</td><td>Beauty</td><td>Adidas</td><td>584.74</td></tr><tr><td>P0407</td><td>Carry Laugh</td><td>Home</td><td>LG</td><td>584.71</td></tr><tr><td>P0408</td><td>Finish Sister</td><td>Sports</td><td>Apple</td><td>1167.48</td></tr><tr><td>P0409</td><td>Happen Old</td><td>Sports</td><td>LG</td><td>890.11</td></tr><tr><td>P0410</td><td>Particular Cause</td><td>Toys</td><td>Adidas</td><td>373.46</td></tr><tr><td>P0411</td><td>Attack Cell</td><td>Electronics</td><td>Puma</td><td>873.95</td></tr><tr><td>P0412</td><td>Significant Ability</td><td>Electronics</td><td>Dell</td><td>129.25</td></tr><tr><td>P0413</td><td>Stand Enough</td><td>Clothing</td><td>Lenovo</td><td>342.07</td></tr><tr><td>P0414</td><td>Pressure Role</td><td>Beauty</td><td>LG</td><td>1456.9</td></tr><tr><td>P0415</td><td>Great Wish</td><td>Beauty</td><td>Samsung</td><td>1821.91</td></tr><tr><td>P0416</td><td>Brother Would</td><td>Toys</td><td>Nike</td><td>427.5</td></tr><tr><td>P0417</td><td>Sing Head</td><td>Beauty</td><td>Revlon</td><td>111.34</td></tr><tr><td>P0418</td><td>Other Right</td><td>Home</td><td>Dell</td><td>1844.36</td></tr><tr><td>P0419</td><td>Claim Firm</td><td>Toys</td><td>Adidas</td><td>629.71</td></tr><tr><td>P0420</td><td>Social Cost</td><td>Home</td><td>Adidas</td><td>49.6</td></tr><tr><td>P0421</td><td>Whole Per</td><td>Clothing</td><td>Sony</td><td>1520.45</td></tr><tr><td>P0422</td><td>Society Action</td><td>Electronics</td><td>Revlon</td><td>184.69</td></tr><tr><td>P0423</td><td>Add Eight</td><td>Clothing</td><td>Dell</td><td>990.07</td></tr><tr><td>P0424</td><td>What Best</td><td>Sports</td><td>Apple</td><td>1141.78</td></tr><tr><td>P0425</td><td>Girl Important</td><td>Home</td><td>Adidas</td><td>1822.03</td></tr><tr><td>P0426</td><td>Several Pick</td><td>Electronics</td><td>Puma</td><td>1956.82</td></tr><tr><td>P0427</td><td>Despite Dream</td><td>Sports</td><td>Sony</td><td>1967.84</td></tr><tr><td>P0428</td><td>Why Ten</td><td>Beauty</td><td>Sony</td><td>1582.19</td></tr><tr><td>P0429</td><td>Never Painting</td><td>Electronics</td><td>Apple</td><td>1734.0</td></tr><tr><td>P0430</td><td>Language Style</td><td>Sports</td><td>Adidas</td><td>1386.32</td></tr><tr><td>P0431</td><td>Physical Quite</td><td>Electronics</td><td>Dell</td><td>682.1</td></tr><tr><td>P0432</td><td>Discuss Decide</td><td>Toys</td><td>Revlon</td><td>1287.08</td></tr><tr><td>P0433</td><td>Would Describe</td><td>Electronics</td><td>Apple</td><td>1123.66</td></tr><tr><td>P0434</td><td>Every Line</td><td>Electronics</td><td>Adidas</td><td>1689.45</td></tr><tr><td>P0435</td><td>Debate Center</td><td>Sports</td><td>Nike</td><td>1902.58</td></tr><tr><td>P0436</td><td>Begin Three</td><td>Sports</td><td>Puma</td><td>1781.45</td></tr><tr><td>P0437</td><td>Explain Until</td><td>Clothing</td><td>Sony</td><td>465.4</td></tr><tr><td>P0438</td><td>Mind Add</td><td>Toys</td><td>LG</td><td>1309.15</td></tr><tr><td>P0439</td><td>Very Democratic</td><td>Home</td><td>Apple</td><td>1174.39</td></tr><tr><td>P0440</td><td>Travel Practice</td><td>Electronics</td><td>Dell</td><td>1983.25</td></tr><tr><td>P0441</td><td>Lot Fish</td><td>Toys</td><td>Adidas</td><td>1300.71</td></tr><tr><td>P0442</td><td>Animal Court</td><td>Electronics</td><td>Adidas</td><td>1811.22</td></tr><tr><td>P0443</td><td>Campaign Decision</td><td>Toys</td><td>Dell</td><td>685.07</td></tr><tr><td>P0444</td><td>Change It</td><td>Beauty</td><td>Revlon</td><td>655.62</td></tr><tr><td>P0445</td><td>Mean Hospital</td><td>Electronics</td><td>Apple</td><td>792.65</td></tr><tr><td>P0446</td><td>Blood National</td><td>Sports</td><td>Puma</td><td>1016.83</td></tr><tr><td>P0447</td><td>There Whether</td><td>Toys</td><td>Sony</td><td>915.77</td></tr><tr><td>P0448</td><td>Method Plant</td><td>Electronics</td><td>LG</td><td>1264.88</td></tr><tr><td>P0449</td><td>Property Total</td><td>Electronics</td><td>Samsung</td><td>188.96</td></tr><tr><td>P0450</td><td>Laugh Minute</td><td>Home</td><td>Revlon</td><td>985.83</td></tr><tr><td>P0451</td><td>Card Another</td><td>Sports</td><td>Puma</td><td>1663.54</td></tr><tr><td>P0452</td><td>Other Role</td><td>Electronics</td><td>Dell</td><td>1462.41</td></tr><tr><td>P0453</td><td>Early Authority</td><td>Home</td><td>Sony</td><td>250.33</td></tr><tr><td>P0454</td><td>Window Nature</td><td>Clothing</td><td>Sony</td><td>324.49</td></tr><tr><td>P0455</td><td>Me True</td><td>Beauty</td><td>Puma</td><td>1884.65</td></tr><tr><td>P0456</td><td>Side Knowledge</td><td>Clothing</td><td>Apple</td><td>1904.87</td></tr><tr><td>P0457</td><td>Reach House</td><td>Sports</td><td>Nike</td><td>1731.23</td></tr><tr><td>P0458</td><td>Fight Claim</td><td>Home</td><td>Dell</td><td>629.24</td></tr><tr><td>P0459</td><td>Without Matter</td><td>Toys</td><td>Apple</td><td>1208.62</td></tr><tr><td>P0460</td><td>Recently Heavy</td><td>Electronics</td><td>Revlon</td><td>1327.98</td></tr><tr><td>P0461</td><td>Dream Thought</td><td>Home</td><td>Apple</td><td>1367.65</td></tr><tr><td>P0462</td><td>Modern Yet</td><td>Sports</td><td>Revlon</td><td>1909.36</td></tr><tr><td>P0463</td><td>Movie Cell</td><td>Clothing</td><td>Apple</td><td>293.1</td></tr><tr><td>P0464</td><td>Whatever Audience</td><td>Electronics</td><td>Sony</td><td>638.63</td></tr><tr><td>P0465</td><td>Morning Politics</td><td>Sports</td><td>Lenovo</td><td>151.23</td></tr><tr><td>P0466</td><td>Effort Service</td><td>Beauty</td><td>Lenovo</td><td>1305.34</td></tr><tr><td>P0467</td><td>Approach Only</td><td>Clothing</td><td>Adidas</td><td>15.91</td></tr><tr><td>P0468</td><td>Present Recent</td><td>Toys</td><td>LG</td><td>1530.08</td></tr><tr><td>P0469</td><td>Line Ball</td><td>Clothing</td><td>Dell</td><td>98.6</td></tr><tr><td>P0470</td><td>Probably High</td><td>Home</td><td>Dell</td><td>649.66</td></tr><tr><td>P0471</td><td>Then Exactly</td><td>Beauty</td><td>Sony</td><td>20.68</td></tr><tr><td>P0472</td><td>Even Economic</td><td>Toys</td><td>Apple</td><td>1409.94</td></tr><tr><td>P0473</td><td>Today Over</td><td>Toys</td><td>Adidas</td><td>1878.18</td></tr><tr><td>P0474</td><td>Expert Appear</td><td>Home</td><td>Nike</td><td>1287.26</td></tr><tr><td>P0475</td><td>Government And</td><td>Home</td><td>Samsung</td><td>964.94</td></tr><tr><td>P0476</td><td>Consumer Itself</td><td>Toys</td><td>Lenovo</td><td>259.13</td></tr><tr><td>P0477</td><td>Upon Sometimes</td><td>Electronics</td><td>Apple</td><td>917.67</td></tr><tr><td>P0478</td><td>Quality True</td><td>Sports</td><td>Sony</td><td>630.56</td></tr><tr><td>P0479</td><td>Voice A</td><td>Clothing</td><td>Sony</td><td>567.29</td></tr><tr><td>P0480</td><td>Child Threat</td><td>Beauty</td><td>Adidas</td><td>492.92</td></tr><tr><td>P0481</td><td>Fact Measure</td><td>Beauty</td><td>Nike</td><td>1554.11</td></tr><tr><td>P0482</td><td>Force Family</td><td>Clothing</td><td>Sony</td><td>1675.86</td></tr><tr><td>P0483</td><td>From Night</td><td>Toys</td><td>Nike</td><td>877.18</td></tr><tr><td>P0484</td><td>Deep Thank</td><td>Beauty</td><td>Apple</td><td>1397.57</td></tr><tr><td>P0485</td><td>Rise Exactly</td><td>Home</td><td>Apple</td><td>535.31</td></tr><tr><td>P0486</td><td>Identify Magazine</td><td>Electronics</td><td>Samsung</td><td>315.25</td></tr><tr><td>P0487</td><td>Now Never</td><td>Electronics</td><td>Dell</td><td>1666.94</td></tr><tr><td>P0488</td><td>Experience Idea</td><td>Electronics</td><td>Lenovo</td><td>1316.67</td></tr><tr><td>P0489</td><td>Camera At</td><td>Electronics</td><td>LG</td><td>1923.44</td></tr><tr><td>P0490</td><td>Door Itself</td><td>Home</td><td>Revlon</td><td>1718.72</td></tr><tr><td>P0491</td><td>Floor Sit</td><td>Clothing</td><td>LG</td><td>1602.21</td></tr><tr><td>P0492</td><td>A Forward</td><td>Home</td><td>Nike</td><td>121.07</td></tr><tr><td>P0493</td><td>Pass Go</td><td>Toys</td><td>Samsung</td><td>295.7</td></tr><tr><td>P0494</td><td>Personal Stand</td><td>Toys</td><td>Apple</td><td>1913.83</td></tr><tr><td>P0495</td><td>Sister Question</td><td>Toys</td><td>Sony</td><td>561.99</td></tr><tr><td>P0496</td><td>Beyond Some</td><td>Beauty</td><td>Apple</td><td>137.62</td></tr><tr><td>P0497</td><td>Reflect Chair</td><td>Beauty</td><td>Lenovo</td><td>930.59</td></tr><tr><td>P0498</td><td>Economic Over</td><td>Beauty</td><td>Adidas</td><td>1990.58</td></tr><tr><td>P0499</td><td>Writer Mouth</td><td>Home</td><td>Revlon</td><td>1774.16</td></tr><tr><td>P0500</td><td>Itself Despite</td><td>Electronics</td><td>Puma</td><td>322.4</td></tr></tbody></table></div>"
      ]
     },
     "metadata": {
      "application/vnd.databricks.v1+output": {
       "addedWidgets": {},
       "aggData": [],
       "aggError": "",
       "aggOverflow": false,
       "aggSchema": [],
       "aggSeriesLimitReached": false,
       "aggType": "",
       "arguments": {},
       "columnCustomDisplayInfos": {},
       "data": [
        [
         "P0001",
         "Clearly Its",
         "Beauty",
         "Nike",
         1868.54
        ],
        [
         "P0002",
         "Production Clear",
         "Beauty",
         "Apple",
         587.13
        ],
        [
         "P0003",
         "Culture Coach",
         "Home",
         "Revlon",
         1599.24
        ],
        [
         "P0004",
         "Movement Part",
         "Sports",
         "LG",
         651.71
        ],
        [
         "P0005",
         "Fact Name",
         "Clothing",
         "Samsung",
         1861.78
        ],
        [
         "P0006",
         "Usually Stop",
         "Toys",
         "Adidas",
         936.36
        ],
        [
         "P0007",
         "Reveal Current",
         "Sports",
         "Adidas",
         1954.02
        ],
        [
         "P0008",
         "Force Language",
         "Beauty",
         "Puma",
         1251.26
        ],
        [
         "P0009",
         "Stage Leg",
         "Clothing",
         "Samsung",
         1247.15
        ],
        [
         "P0010",
         "Leader Then",
         "Sports",
         "Sony",
         975.53
        ],
        [
         "P0011",
         "Term Rest",
         "Electronics",
         "Adidas",
         1475.31
        ],
        [
         "P0012",
         "Theory Wrong",
         "Electronics",
         "Apple",
         624.61
        ],
        [
         "P0013",
         "Democrat Book",
         "Sports",
         "Puma",
         384.99
        ],
        [
         "P0014",
         "Follow Brother",
         "Clothing",
         "Dell",
         32.2
        ],
        [
         "P0015",
         "Pattern Story",
         "Beauty",
         "LG",
         1459.2
        ],
        [
         "P0016",
         "Policy Nor",
         "Clothing",
         "Samsung",
         1594.08
        ],
        [
         "P0017",
         "After Project",
         "Beauty",
         "Revlon",
         1289.06
        ],
        [
         "P0018",
         "Technology Chance",
         "Beauty",
         "Puma",
         1329.53
        ],
        [
         "P0019",
         "Oil Station",
         "Electronics",
         "Samsung",
         230.56
        ],
        [
         "P0020",
         "Happen Truth",
         "Beauty",
         "Nike",
         1603.5
        ],
        [
         "P0021",
         "Middle Everyone",
         "Sports",
         "Nike",
         361.89
        ],
        [
         "P0022",
         "Purpose Why",
         "Beauty",
         "Puma",
         73.82
        ],
        [
         "P0023",
         "Decade Message",
         "Clothing",
         "Adidas",
         1561.78
        ],
        [
         "P0024",
         "Really Phone",
         "Home",
         "Samsung",
         1422.07
        ],
        [
         "P0025",
         "Until And",
         "Beauty",
         "Nike",
         488.67
        ],
        [
         "P0026",
         "Huge Find",
         "Toys",
         "Puma",
         1316.41
        ],
        [
         "P0027",
         "Local Open",
         "Toys",
         "Adidas",
         939.9
        ],
        [
         "P0028",
         "Its Both",
         "Beauty",
         "Puma",
         1682.91
        ],
        [
         "P0029",
         "Everything Open",
         "Clothing",
         "Nike",
         1065.49
        ],
        [
         "P0030",
         "Hold Staff",
         "Toys",
         "Lenovo",
         1162.38
        ],
        [
         "P0031",
         "Part Oil",
         "Clothing",
         "LG",
         774.18
        ],
        [
         "P0032",
         "Relationship Live",
         "Electronics",
         "Dell",
         1445.21
        ],
        [
         "P0033",
         "Perform Such",
         "Clothing",
         "Lenovo",
         61.91
        ],
        [
         "P0034",
         "Even Writer",
         "Toys",
         "Samsung",
         1843.84
        ],
        [
         "P0035",
         "Something Increase",
         "Toys",
         "Revlon",
         579.76
        ],
        [
         "P0036",
         "Success Always",
         "Home",
         "Dell",
         1780.37
        ],
        [
         "P0037",
         "Personal Over",
         "Sports",
         "Puma",
         105.28
        ],
        [
         "P0038",
         "Edge Keep",
         "Toys",
         "Revlon",
         1156.99
        ],
        [
         "P0039",
         "Before Do",
         "Toys",
         "Revlon",
         1279.12
        ],
        [
         "P0040",
         "Answer Require",
         "Toys",
         "Dell",
         1822.39
        ],
        [
         "P0041",
         "Conference Article",
         "Sports",
         "Dell",
         459.55
        ],
        [
         "P0042",
         "Heavy Writer",
         "Beauty",
         "Adidas",
         1215.78
        ],
        [
         "P0043",
         "Radio Thousand",
         "Electronics",
         "Revlon",
         914.61
        ],
        [
         "P0044",
         "Such Beautiful",
         "Electronics",
         "Dell",
         580.32
        ],
        [
         "P0045",
         "Certainly Sign",
         "Sports",
         "Sony",
         622.31
        ],
        [
         "P0046",
         "Exist Age",
         "Beauty",
         "Samsung",
         918.54
        ],
        [
         "P0047",
         "Ever Could",
         "Sports",
         "Revlon",
         257.51
        ],
        [
         "P0048",
         "Share Quality",
         "Electronics",
         "Revlon",
         652.68
        ],
        [
         "P0049",
         "True Her",
         "Clothing",
         "Lenovo",
         819.77
        ],
        [
         "P0050",
         "North Big",
         "Electronics",
         "Samsung",
         1947.16
        ],
        [
         "P0051",
         "Form Social",
         "Electronics",
         "Apple",
         1294.33
        ],
        [
         "P0052",
         "Total Tax",
         "Toys",
         "Lenovo",
         1190.28
        ],
        [
         "P0053",
         "News Look",
         "Electronics",
         "Samsung",
         896.22
        ],
        [
         "P0054",
         "Local Decide",
         "Electronics",
         "Adidas",
         1346.26
        ],
        [
         "P0055",
         "Seat Finish",
         "Electronics",
         "Sony",
         925.39
        ],
        [
         "P0056",
         "Weight Ground",
         "Home",
         "Nike",
         805.91
        ],
        [
         "P0057",
         "Everything Song",
         "Clothing",
         "Samsung",
         1000.36
        ],
        [
         "P0058",
         "Involve Present",
         "Electronics",
         "LG",
         1713.86
        ],
        [
         "P0059",
         "Democratic Any",
         "Sports",
         "Lenovo",
         808.17
        ],
        [
         "P0060",
         "Red Some",
         "Clothing",
         "Nike",
         1230.69
        ],
        [
         "P0061",
         "Describe Continue",
         "Electronics",
         "Sony",
         1610.15
        ],
        [
         "P0062",
         "Always Citizen",
         "Clothing",
         "Samsung",
         912.72
        ],
        [
         "P0063",
         "Necessary Bad",
         "Home",
         "Nike",
         1876.88
        ],
        [
         "P0064",
         "Size Although",
         "Clothing",
         "LG",
         473.8
        ],
        [
         "P0065",
         "Democratic As",
         "Electronics",
         "Lenovo",
         1472.24
        ],
        [
         "P0066",
         "I Worker",
         "Sports",
         "Sony",
         1123.53
        ],
        [
         "P0067",
         "Unit Election",
         "Beauty",
         "Samsung",
         144.72
        ],
        [
         "P0068",
         "Response Audience",
         "Toys",
         "LG",
         1633.64
        ],
        [
         "P0069",
         "Weight Design",
         "Beauty",
         "Lenovo",
         1165.23
        ],
        [
         "P0070",
         "Or Against",
         "Sports",
         "Lenovo",
         1589.36
        ],
        [
         "P0071",
         "Once Support",
         "Toys",
         "Apple",
         1385.04
        ],
        [
         "P0072",
         "Station Fund",
         "Toys",
         "Revlon",
         1198.32
        ],
        [
         "P0073",
         "Leave Reveal",
         "Electronics",
         "Adidas",
         586.19
        ],
        [
         "P0074",
         "Pm Near",
         "Toys",
         "Lenovo",
         426.99
        ],
        [
         "P0075",
         "Former Trade",
         "Beauty",
         "Samsung",
         73.74
        ],
        [
         "P0076",
         "Skill Need",
         "Toys",
         "Puma",
         862.73
        ],
        [
         "P0077",
         "Quality Conference",
         "Clothing",
         "LG",
         333.16
        ],
        [
         "P0078",
         "Their Worry",
         "Electronics",
         "LG",
         903.63
        ],
        [
         "P0079",
         "Night Experience",
         "Beauty",
         "LG",
         780.45
        ],
        [
         "P0080",
         "But Decide",
         "Toys",
         "Lenovo",
         1599.68
        ],
        [
         "P0081",
         "Whose Available",
         "Toys",
         "Nike",
         1697.18
        ],
        [
         "P0082",
         "Exist Interest",
         "Beauty",
         "Apple",
         1932.51
        ],
        [
         "P0083",
         "Laugh Speak",
         "Beauty",
         "Dell",
         1519.05
        ],
        [
         "P0084",
         "Little All",
         "Home",
         "Samsung",
         866.09
        ],
        [
         "P0085",
         "Hope Such",
         "Clothing",
         "Apple",
         1863.08
        ],
        [
         "P0086",
         "Save Own",
         "Toys",
         "Nike",
         915.44
        ],
        [
         "P0087",
         "Service Personal",
         "Home",
         "Sony",
         273.89
        ],
        [
         "P0088",
         "At Such",
         "Home",
         "Adidas",
         1482.19
        ],
        [
         "P0089",
         "Second Despite",
         "Home",
         "LG",
         611.31
        ],
        [
         "P0090",
         "Future Improve",
         "Electronics",
         "Puma",
         129.87
        ],
        [
         "P0091",
         "Nation Moment",
         "Beauty",
         "Samsung",
         1683.02
        ],
        [
         "P0092",
         "Stand Fish",
         "Sports",
         "Revlon",
         1631.21
        ],
        [
         "P0093",
         "Us Life",
         "Clothing",
         "Puma",
         749.33
        ],
        [
         "P0094",
         "Real Himself",
         "Beauty",
         "LG",
         48.71
        ],
        [
         "P0095",
         "Fund Tend",
         "Electronics",
         "Apple",
         1519.1
        ],
        [
         "P0096",
         "Public Voice",
         "Electronics",
         "Nike",
         1078.42
        ],
        [
         "P0097",
         "Crime Range",
         "Clothing",
         "Apple",
         627.41
        ],
        [
         "P0098",
         "Item See",
         "Clothing",
         "Puma",
         551.54
        ],
        [
         "P0099",
         "Notice Rather",
         "Beauty",
         "Adidas",
         1110.7
        ],
        [
         "P0100",
         "Oil Into",
         "Sports",
         "Dell",
         793.81
        ],
        [
         "P0101",
         "Sister Tend",
         "Sports",
         "Puma",
         1106.32
        ],
        [
         "P0102",
         "Yourself Team",
         "Beauty",
         "LG",
         1079.69
        ],
        [
         "P0103",
         "Rich Page",
         "Toys",
         "Samsung",
         486.63
        ],
        [
         "P0104",
         "Fact Building",
         "Clothing",
         "Dell",
         860.64
        ],
        [
         "P0105",
         "Color Now",
         "Clothing",
         "LG",
         1200.37
        ],
        [
         "P0106",
         "Research Mother",
         "Clothing",
         "Sony",
         1100.51
        ],
        [
         "P0107",
         "Degree Much",
         "Toys",
         "Adidas",
         193.45
        ],
        [
         "P0108",
         "Southern Hear",
         "Home",
         "Puma",
         22.3
        ],
        [
         "P0109",
         "Seem South",
         "Electronics",
         "Lenovo",
         1891.2
        ],
        [
         "P0110",
         "Before Everybody",
         "Toys",
         "Samsung",
         776.77
        ],
        [
         "P0111",
         "Decade Land",
         "Electronics",
         "Adidas",
         1138.45
        ],
        [
         "P0112",
         "Study Heavy",
         "Beauty",
         "Puma",
         1579.73
        ],
        [
         "P0113",
         "These Skill",
         "Clothing",
         "Puma",
         810.64
        ],
        [
         "P0114",
         "Kid Necessary",
         "Home",
         "Nike",
         1178.36
        ],
        [
         "P0115",
         "Subject Become",
         "Electronics",
         "Puma",
         1504.01
        ],
        [
         "P0116",
         "Very Forget",
         "Sports",
         "Sony",
         287.59
        ],
        [
         "P0117",
         "Before Product",
         "Beauty",
         "Puma",
         665.49
        ],
        [
         "P0118",
         "Start Threat",
         "Toys",
         "Lenovo",
         1123.64
        ],
        [
         "P0119",
         "Carry View",
         "Home",
         "Sony",
         60.42
        ],
        [
         "P0120",
         "Direction Character",
         "Toys",
         "Sony",
         368.47
        ],
        [
         "P0121",
         "Trade Drug",
         "Sports",
         "Nike",
         1959.23
        ],
        [
         "P0122",
         "Tend Continue",
         "Clothing",
         "LG",
         539.16
        ],
        [
         "P0123",
         "Why Decide",
         "Clothing",
         "Nike",
         503.76
        ],
        [
         "P0124",
         "Operation Century",
         "Clothing",
         "Puma",
         1857.88
        ],
        [
         "P0125",
         "Sort Summer",
         "Home",
         "Sony",
         947.43
        ],
        [
         "P0126",
         "Possible Which",
         "Sports",
         "Sony",
         1431.12
        ],
        [
         "P0127",
         "Movement Picture",
         "Home",
         "Sony",
         1337.38
        ],
        [
         "P0128",
         "Board Worker",
         "Electronics",
         "Apple",
         1935.2
        ],
        [
         "P0129",
         "North On",
         "Toys",
         "Adidas",
         763.99
        ],
        [
         "P0130",
         "Behavior Nothing",
         "Clothing",
         "Adidas",
         1355.15
        ],
        [
         "P0131",
         "Too Example",
         "Clothing",
         "Revlon",
         302.22
        ],
        [
         "P0132",
         "Issue Return",
         "Home",
         "Samsung",
         1194.22
        ],
        [
         "P0133",
         "Speak Small",
         "Electronics",
         "LG",
         215.63
        ],
        [
         "P0134",
         "Stand Fire",
         "Home",
         "Puma",
         1625.17
        ],
        [
         "P0135",
         "Maybe Light",
         "Clothing",
         "Puma",
         669.95
        ],
        [
         "P0136",
         "Year True",
         "Sports",
         "Samsung",
         48.0
        ],
        [
         "P0137",
         "Thought Travel",
         "Clothing",
         "Lenovo",
         1569.19
        ],
        [
         "P0138",
         "Already Series",
         "Clothing",
         "Samsung",
         452.81
        ],
        [
         "P0139",
         "Seek President",
         "Toys",
         "Revlon",
         399.03
        ],
        [
         "P0140",
         "Detail Bar",
         "Clothing",
         "Adidas",
         116.36
        ],
        [
         "P0141",
         "Play Show",
         "Electronics",
         "Adidas",
         1039.71
        ],
        [
         "P0142",
         "Trouble Parent",
         "Clothing",
         "Adidas",
         1081.59
        ],
        [
         "P0143",
         "One Like",
         "Electronics",
         "Apple",
         1549.15
        ],
        [
         "P0144",
         "Admit Street",
         "Beauty",
         "Apple",
         769.93
        ],
        [
         "P0145",
         "House Everything",
         "Toys",
         "Puma",
         453.73
        ],
        [
         "P0146",
         "Building Drive",
         "Electronics",
         "Sony",
         1763.2
        ],
        [
         "P0147",
         "Among Success",
         "Electronics",
         "Lenovo",
         86.53
        ],
        [
         "P0148",
         "Politics Friend",
         "Toys",
         "Dell",
         435.86
        ],
        [
         "P0149",
         "Middle Price",
         "Electronics",
         "Samsung",
         793.61
        ],
        [
         "P0150",
         "Nice Clearly",
         "Electronics",
         "Samsung",
         1207.54
        ],
        [
         "P0151",
         "Cup Per",
         "Toys",
         "Apple",
         38.43
        ],
        [
         "P0152",
         "Not Wait",
         "Home",
         "LG",
         357.33
        ],
        [
         "P0153",
         "Brother Four",
         "Home",
         "Apple",
         809.73
        ],
        [
         "P0154",
         "Trip Within",
         "Beauty",
         "Samsung",
         1089.28
        ],
        [
         "P0155",
         "Laugh Score",
         "Electronics",
         "Dell",
         12.35
        ],
        [
         "P0156",
         "Put After",
         "Home",
         "Sony",
         1746.06
        ],
        [
         "P0157",
         "Race Provide",
         "Home",
         "Adidas",
         825.91
        ],
        [
         "P0158",
         "Pm Plant",
         "Toys",
         "Adidas",
         1286.8
        ],
        [
         "P0159",
         "Politics Along",
         "Home",
         "Lenovo",
         674.29
        ],
        [
         "P0160",
         "Parent Into",
         "Clothing",
         "Nike",
         1542.46
        ],
        [
         "P0161",
         "Need Book",
         "Toys",
         "LG",
         906.6
        ],
        [
         "P0162",
         "West This",
         "Toys",
         "Adidas",
         417.67
        ],
        [
         "P0163",
         "Tree Role",
         "Toys",
         "Dell",
         1307.14
        ],
        [
         "P0164",
         "Word Hard",
         "Electronics",
         "Lenovo",
         535.06
        ],
        [
         "P0165",
         "Son Drug",
         "Toys",
         "Adidas",
         1971.77
        ],
        [
         "P0166",
         "Look Field",
         "Beauty",
         "Samsung",
         62.19
        ],
        [
         "P0167",
         "Early Course",
         "Electronics",
         "Adidas",
         1666.23
        ],
        [
         "P0168",
         "Generation Day",
         "Toys",
         "Sony",
         1006.63
        ],
        [
         "P0169",
         "Position Bank",
         "Beauty",
         "Sony",
         1267.42
        ],
        [
         "P0170",
         "Second Start",
         "Home",
         "Lenovo",
         329.25
        ],
        [
         "P0171",
         "Option Necessary",
         "Clothing",
         "Lenovo",
         1557.09
        ],
        [
         "P0172",
         "Commercial Through",
         "Home",
         "Sony",
         1759.47
        ],
        [
         "P0173",
         "Nearly When",
         "Electronics",
         "Samsung",
         930.78
        ],
        [
         "P0174",
         "Weight Tax",
         "Home",
         "Lenovo",
         81.55
        ],
        [
         "P0175",
         "Enjoy Throughout",
         "Home",
         "Apple",
         364.2
        ],
        [
         "P0176",
         "Team Foreign",
         "Home",
         "Adidas",
         824.82
        ],
        [
         "P0177",
         "Article Smile",
         "Clothing",
         "Nike",
         1241.26
        ],
        [
         "P0178",
         "Finally Suddenly",
         "Toys",
         "Adidas",
         743.65
        ],
        [
         "P0179",
         "Base Significant",
         "Electronics",
         "Samsung",
         1950.04
        ],
        [
         "P0180",
         "Form Management",
         "Electronics",
         "Sony",
         141.37
        ],
        [
         "P0181",
         "Of Seek",
         "Beauty",
         "LG",
         1935.07
        ],
        [
         "P0182",
         "Health I",
         "Beauty",
         "Apple",
         1661.22
        ],
        [
         "P0183",
         "Born Focus",
         "Sports",
         "Samsung",
         762.15
        ],
        [
         "P0184",
         "Main Majority",
         "Sports",
         "Adidas",
         1003.71
        ],
        [
         "P0185",
         "Authority Director",
         "Beauty",
         "Apple",
         1595.17
        ],
        [
         "P0186",
         "Tv Size",
         "Sports",
         "Revlon",
         231.03
        ],
        [
         "P0187",
         "Number They",
         "Electronics",
         "Nike",
         38.88
        ],
        [
         "P0188",
         "Able Seat",
         "Electronics",
         "Adidas",
         1582.57
        ],
        [
         "P0189",
         "Commercial Boy",
         "Home",
         "Puma",
         641.08
        ],
        [
         "P0190",
         "Set Whom",
         "Sports",
         "Samsung",
         686.04
        ],
        [
         "P0191",
         "Myself Performance",
         "Toys",
         "Revlon",
         112.38
        ],
        [
         "P0192",
         "Up Management",
         "Sports",
         "Apple",
         942.81
        ],
        [
         "P0193",
         "Early They",
         "Electronics",
         "Nike",
         1238.31
        ],
        [
         "P0194",
         "Charge Through",
         "Electronics",
         "Revlon",
         1814.74
        ],
        [
         "P0195",
         "Leg In",
         "Toys",
         "Adidas",
         937.18
        ],
        [
         "P0196",
         "Study Teach",
         "Clothing",
         "Adidas",
         1159.15
        ],
        [
         "P0197",
         "Old Ball",
         "Sports",
         "Revlon",
         1564.84
        ],
        [
         "P0198",
         "Information Life",
         "Sports",
         "Samsung",
         628.47
        ],
        [
         "P0199",
         "Data Structure",
         "Clothing",
         "Sony",
         1368.51
        ],
        [
         "P0200",
         "Close Knowledge",
         "Toys",
         "Apple",
         692.12
        ],
        [
         "P0201",
         "Professional Test",
         "Beauty",
         "Samsung",
         1573.37
        ],
        [
         "P0202",
         "Analysis The",
         "Electronics",
         "Adidas",
         1953.99
        ],
        [
         "P0203",
         "Difficult Around",
         "Home",
         "Samsung",
         1016.57
        ],
        [
         "P0204",
         "Show Teacher",
         "Electronics",
         "Adidas",
         1734.6
        ],
        [
         "P0205",
         "Attorney I",
         "Home",
         "LG",
         478.82
        ],
        [
         "P0206",
         "Remember Stuff",
         "Electronics",
         "Apple",
         375.49
        ],
        [
         "P0207",
         "Year Much",
         "Beauty",
         "Adidas",
         230.41
        ],
        [
         "P0208",
         "Rather Require",
         "Toys",
         "Adidas",
         754.39
        ],
        [
         "P0209",
         "Catch Local",
         "Sports",
         "Revlon",
         1070.99
        ],
        [
         "P0210",
         "Learn Weight",
         "Sports",
         "Apple",
         863.71
        ],
        [
         "P0211",
         "Check Line",
         "Beauty",
         "Nike",
         1051.35
        ],
        [
         "P0212",
         "Per Leader",
         "Home",
         "Adidas",
         1766.16
        ],
        [
         "P0213",
         "Suggest Chance",
         "Sports",
         "Samsung",
         1528.21
        ],
        [
         "P0214",
         "Site Trip",
         "Toys",
         "Revlon",
         1725.81
        ],
        [
         "P0215",
         "Trouble Treatment",
         "Beauty",
         "Adidas",
         1678.45
        ],
        [
         "P0216",
         "Every Page",
         "Home",
         "Adidas",
         1526.03
        ],
        [
         "P0217",
         "Vote Tree",
         "Sports",
         "Puma",
         1460.22
        ],
        [
         "P0218",
         "Sea Clear",
         "Beauty",
         "Nike",
         207.67
        ],
        [
         "P0219",
         "Per Voice",
         "Clothing",
         "Dell",
         996.21
        ],
        [
         "P0220",
         "Term Fine",
         "Beauty",
         "Dell",
         1354.7
        ],
        [
         "P0221",
         "Player Summer",
         "Beauty",
         "Lenovo",
         1205.37
        ],
        [
         "P0222",
         "Respond Knowledge",
         "Electronics",
         "Samsung",
         977.33
        ],
        [
         "P0223",
         "Believe Activity",
         "Toys",
         "Lenovo",
         1292.39
        ],
        [
         "P0224",
         "Federal Around",
         "Clothing",
         "Apple",
         1153.17
        ],
        [
         "P0225",
         "Discussion Region",
         "Beauty",
         "Nike",
         551.26
        ],
        [
         "P0226",
         "Care North",
         "Beauty",
         "Lenovo",
         1668.89
        ],
        [
         "P0227",
         "Need Method",
         "Beauty",
         "Nike",
         449.11
        ],
        [
         "P0228",
         "Citizen Item",
         "Sports",
         "Puma",
         317.83
        ],
        [
         "P0229",
         "Material If",
         "Home",
         "Lenovo",
         1399.43
        ],
        [
         "P0230",
         "Old Increase",
         "Beauty",
         "Samsung",
         1163.64
        ],
        [
         "P0231",
         "Do Chair",
         "Home",
         "Revlon",
         781.81
        ],
        [
         "P0232",
         "Would Along",
         "Toys",
         "Adidas",
         896.07
        ],
        [
         "P0233",
         "Second Learn",
         "Toys",
         "Lenovo",
         901.28
        ],
        [
         "P0234",
         "Guess At",
         "Sports",
         "Sony",
         1231.55
        ],
        [
         "P0235",
         "Country Knowledge",
         "Sports",
         "Adidas",
         1297.8
        ],
        [
         "P0236",
         "War Involve",
         "Electronics",
         "Samsung",
         951.74
        ],
        [
         "P0237",
         "As Push",
         "Toys",
         "Samsung",
         164.53
        ],
        [
         "P0238",
         "Air Life",
         "Beauty",
         "Revlon",
         1358.99
        ],
        [
         "P0239",
         "Show Finally",
         "Toys",
         "Nike",
         1612.58
        ],
        [
         "P0240",
         "Six Senior",
         "Clothing",
         "Samsung",
         1648.93
        ],
        [
         "P0241",
         "Edge Civil",
         "Electronics",
         "Puma",
         1531.37
        ],
        [
         "P0242",
         "Radio Lot",
         "Home",
         "Samsung",
         412.59
        ],
        [
         "P0243",
         "Recent The",
         "Beauty",
         "Lenovo",
         1875.22
        ],
        [
         "P0244",
         "Run Market",
         "Beauty",
         "Revlon",
         1843.58
        ],
        [
         "P0245",
         "Occur Attention",
         "Beauty",
         "LG",
         270.43
        ],
        [
         "P0246",
         "Great Field",
         "Electronics",
         "Adidas",
         1449.57
        ],
        [
         "P0247",
         "Step Information",
         "Electronics",
         "Sony",
         825.1
        ],
        [
         "P0248",
         "Develop International",
         "Electronics",
         "Revlon",
         1200.32
        ],
        [
         "P0249",
         "There True",
         "Electronics",
         "Puma",
         1536.54
        ],
        [
         "P0250",
         "Half Ten",
         "Sports",
         "Samsung",
         710.82
        ],
        [
         "P0251",
         "Business Own",
         "Beauty",
         "Lenovo",
         28.65
        ],
        [
         "P0252",
         "Late Thus",
         "Electronics",
         "Sony",
         1957.38
        ],
        [
         "P0253",
         "Onto Owner",
         "Toys",
         "Lenovo",
         226.44
        ],
        [
         "P0254",
         "According Because",
         "Home",
         "Lenovo",
         503.61
        ],
        [
         "P0255",
         "Activity Western",
         "Sports",
         "Lenovo",
         154.4
        ],
        [
         "P0256",
         "Note Worker",
         "Electronics",
         "Lenovo",
         882.48
        ],
        [
         "P0257",
         "Executive Art",
         "Beauty",
         "Nike",
         944.89
        ],
        [
         "P0258",
         "Culture Follow",
         "Home",
         "Revlon",
         1423.91
        ],
        [
         "P0259",
         "Against Kind",
         "Sports",
         "Puma",
         1484.64
        ],
        [
         "P0260",
         "About Buy",
         "Electronics",
         "Revlon",
         1255.56
        ],
        [
         "P0261",
         "Capital Well",
         "Beauty",
         "Dell",
         203.78
        ],
        [
         "P0262",
         "Decade Left",
         "Toys",
         "Samsung",
         885.15
        ],
        [
         "P0263",
         "Machine Heart",
         "Sports",
         "Nike",
         371.19
        ],
        [
         "P0264",
         "Thought Heavy",
         "Beauty",
         "Apple",
         1030.44
        ],
        [
         "P0265",
         "Image No",
         "Toys",
         "Nike",
         1216.14
        ],
        [
         "P0266",
         "Specific You",
         "Electronics",
         "LG",
         324.37
        ],
        [
         "P0267",
         "Painting Daughter",
         "Home",
         "Adidas",
         1772.83
        ],
        [
         "P0268",
         "Man Near",
         "Sports",
         "Dell",
         631.29
        ],
        [
         "P0269",
         "Grow Fly",
         "Sports",
         "Lenovo",
         1192.68
        ],
        [
         "P0270",
         "Candidate Question",
         "Beauty",
         "Samsung",
         611.71
        ],
        [
         "P0271",
         "Notice Town",
         "Sports",
         "Puma",
         1362.74
        ],
        [
         "P0272",
         "Defense Either",
         "Beauty",
         "Dell",
         1472.29
        ],
        [
         "P0273",
         "Peace When",
         "Electronics",
         "Nike",
         146.58
        ],
        [
         "P0274",
         "Always Debate",
         "Clothing",
         "Samsung",
         1128.5
        ],
        [
         "P0275",
         "Piece Information",
         "Toys",
         "Sony",
         1478.58
        ],
        [
         "P0276",
         "Team Support",
         "Toys",
         "Puma",
         1155.12
        ],
        [
         "P0277",
         "Field White",
         "Home",
         "Dell",
         63.16
        ],
        [
         "P0278",
         "Similar Can",
         "Beauty",
         "Revlon",
         414.78
        ],
        [
         "P0279",
         "Fast Situation",
         "Beauty",
         "Lenovo",
         1619.24
        ],
        [
         "P0280",
         "Financial Enough",
         "Clothing",
         "Puma",
         566.91
        ],
        [
         "P0281",
         "Hot Customer",
         "Home",
         "Puma",
         188.55
        ],
        [
         "P0282",
         "Matter To",
         "Electronics",
         "Samsung",
         69.59
        ],
        [
         "P0283",
         "Southern Team",
         "Sports",
         "Nike",
         474.49
        ],
        [
         "P0284",
         "Population Account",
         "Beauty",
         "Puma",
         352.26
        ],
        [
         "P0285",
         "Cultural Beat",
         "Clothing",
         "Revlon",
         1123.4
        ],
        [
         "P0286",
         "Blood Chair",
         "Beauty",
         "Adidas",
         1164.64
        ],
        [
         "P0287",
         "Evening Natural",
         "Electronics",
         "Puma",
         1084.4
        ],
        [
         "P0288",
         "Source Hour",
         "Toys",
         "Lenovo",
         1486.02
        ],
        [
         "P0289",
         "Finish Everything",
         "Sports",
         "Puma",
         1780.19
        ],
        [
         "P0290",
         "Room Public",
         "Beauty",
         "LG",
         919.28
        ],
        [
         "P0291",
         "Able Media",
         "Electronics",
         "LG",
         890.9
        ],
        [
         "P0292",
         "Very Event",
         "Toys",
         "Sony",
         1339.35
        ],
        [
         "P0293",
         "Degree Agency",
         "Electronics",
         "LG",
         107.68
        ],
        [
         "P0294",
         "Dark Former",
         "Sports",
         "Lenovo",
         1054.65
        ],
        [
         "P0295",
         "Participant Kitchen",
         "Electronics",
         "Puma",
         1938.35
        ],
        [
         "P0296",
         "Garden Reach",
         "Sports",
         "Nike",
         1738.65
        ],
        [
         "P0297",
         "Turn Degree",
         "Sports",
         "Nike",
         859.64
        ],
        [
         "P0298",
         "Talk Offer",
         "Clothing",
         "Revlon",
         1571.12
        ],
        [
         "P0299",
         "Look Mention",
         "Home",
         "Apple",
         1170.51
        ],
        [
         "P0300",
         "Amount Politics",
         "Electronics",
         "Sony",
         1741.53
        ],
        [
         "P0301",
         "Side Note",
         "Clothing",
         "Adidas",
         1005.47
        ],
        [
         "P0302",
         "Three Seven",
         "Electronics",
         "Nike",
         1017.38
        ],
        [
         "P0303",
         "Child Help",
         "Clothing",
         "LG",
         1052.48
        ],
        [
         "P0304",
         "Our Arrive",
         "Beauty",
         "Adidas",
         1039.68
        ],
        [
         "P0305",
         "Score Choice",
         "Electronics",
         "Puma",
         1089.74
        ],
        [
         "P0306",
         "Six Speak",
         "Toys",
         "Samsung",
         140.5
        ],
        [
         "P0307",
         "Culture Specific",
         "Beauty",
         "Lenovo",
         1923.44
        ],
        [
         "P0308",
         "And Agent",
         "Sports",
         "Nike",
         187.35
        ],
        [
         "P0309",
         "Nor Prepare",
         "Toys",
         "Apple",
         445.2
        ],
        [
         "P0310",
         "Ok Leave",
         "Home",
         "Samsung",
         704.08
        ],
        [
         "P0311",
         "Blue Live",
         "Toys",
         "Revlon",
         454.3
        ],
        [
         "P0312",
         "Big Similar",
         "Beauty",
         "Puma",
         1500.97
        ],
        [
         "P0313",
         "Try You",
         "Sports",
         "Samsung",
         985.34
        ],
        [
         "P0314",
         "Protect Hope",
         "Sports",
         "Nike",
         599.47
        ],
        [
         "P0315",
         "Work Party",
         "Clothing",
         "Dell",
         1703.11
        ],
        [
         "P0316",
         "Sell State",
         "Clothing",
         "Puma",
         605.68
        ],
        [
         "P0317",
         "Trade Region",
         "Home",
         "Dell",
         1174.72
        ],
        [
         "P0318",
         "History Create",
         "Toys",
         "Samsung",
         824.7
        ],
        [
         "P0319",
         "Trouble Street",
         "Home",
         "Nike",
         1494.78
        ],
        [
         "P0320",
         "Whole Road",
         "Toys",
         "Adidas",
         491.43
        ],
        [
         "P0321",
         "They As",
         "Toys",
         "Lenovo",
         1631.26
        ],
        [
         "P0322",
         "Part Traditional",
         "Beauty",
         "Dell",
         1731.88
        ],
        [
         "P0323",
         "Professor What",
         "Beauty",
         "Lenovo",
         1248.81
        ],
        [
         "P0324",
         "Light Idea",
         "Toys",
         "Nike",
         1819.96
        ],
        [
         "P0325",
         "Right Program",
         "Beauty",
         "Lenovo",
         1361.28
        ],
        [
         "P0326",
         "Safe Loss",
         "Clothing",
         "Nike",
         1688.79
        ],
        [
         "P0327",
         "Garden Shake",
         "Electronics",
         "Sony",
         943.0
        ],
        [
         "P0328",
         "Space Person",
         "Clothing",
         "Lenovo",
         1928.38
        ],
        [
         "P0329",
         "Range However",
         "Toys",
         "Nike",
         1295.37
        ],
        [
         "P0330",
         "Main Student",
         "Sports",
         "LG",
         1241.75
        ],
        [
         "P0331",
         "Let Positive",
         "Sports",
         "LG",
         1528.85
        ],
        [
         "P0332",
         "Thus Make",
         "Toys",
         "Lenovo",
         1369.33
        ],
        [
         "P0333",
         "History Easy",
         "Beauty",
         "Sony",
         1892.24
        ],
        [
         "P0334",
         "Customer Loss",
         "Beauty",
         "Lenovo",
         1560.27
        ],
        [
         "P0335",
         "Type Area",
         "Sports",
         "Samsung",
         1352.39
        ],
        [
         "P0336",
         "Shake Current",
         "Electronics",
         "Dell",
         222.93
        ],
        [
         "P0337",
         "Very Include",
         "Toys",
         "Samsung",
         1968.32
        ],
        [
         "P0338",
         "Service Military",
         "Home",
         "LG",
         1844.1
        ],
        [
         "P0339",
         "Rule Site",
         "Sports",
         "LG",
         1321.67
        ],
        [
         "P0340",
         "Though Pretty",
         "Electronics",
         "Adidas",
         1635.48
        ],
        [
         "P0341",
         "Me Small",
         "Home",
         "Lenovo",
         1333.84
        ],
        [
         "P0342",
         "Trouble Over",
         "Beauty",
         "Nike",
         125.97
        ],
        [
         "P0343",
         "Yeah Former",
         "Toys",
         "Sony",
         539.06
        ],
        [
         "P0344",
         "House Enter",
         "Beauty",
         "Nike",
         1118.86
        ],
        [
         "P0345",
         "Federal Sport",
         "Sports",
         "Apple",
         1366.77
        ],
        [
         "P0346",
         "International Yes",
         "Home",
         "Dell",
         84.09
        ],
        [
         "P0347",
         "Painting Kid",
         "Beauty",
         "Sony",
         452.69
        ],
        [
         "P0348",
         "Late Smile",
         "Home",
         "LG",
         958.75
        ],
        [
         "P0349",
         "Less Can",
         "Beauty",
         "LG",
         1059.73
        ],
        [
         "P0350",
         "Garden Blue",
         "Sports",
         "Dell",
         758.98
        ],
        [
         "P0351",
         "Debate Whether",
         "Beauty",
         "Samsung",
         390.64
        ],
        [
         "P0352",
         "About Room",
         "Home",
         "Sony",
         1226.91
        ],
        [
         "P0353",
         "Local Big",
         "Electronics",
         "Adidas",
         1464.67
        ],
        [
         "P0354",
         "Stop As",
         "Electronics",
         "Samsung",
         289.67
        ],
        [
         "P0355",
         "Itself Explain",
         "Toys",
         "Apple",
         1804.42
        ],
        [
         "P0356",
         "Method Authority",
         "Electronics",
         "Samsung",
         97.91
        ],
        [
         "P0357",
         "The Seek",
         "Clothing",
         "Adidas",
         1705.13
        ],
        [
         "P0358",
         "Quickly Republican",
         "Sports",
         "Samsung",
         1175.18
        ],
        [
         "P0359",
         "Feel Describe",
         "Home",
         "Lenovo",
         660.84
        ],
        [
         "P0360",
         "Reveal Organization",
         "Clothing",
         "Lenovo",
         175.53
        ],
        [
         "P0361",
         "Energy Lay",
         "Beauty",
         "LG",
         1572.29
        ],
        [
         "P0362",
         "Reality Network",
         "Toys",
         "Revlon",
         1555.65
        ],
        [
         "P0363",
         "Score Read",
         "Home",
         "Nike",
         758.11
        ],
        [
         "P0364",
         "What Describe",
         "Sports",
         "Dell",
         930.34
        ],
        [
         "P0365",
         "Available Rich",
         "Clothing",
         "Revlon",
         1542.85
        ],
        [
         "P0366",
         "Seek Position",
         "Toys",
         "Apple",
         1008.85
        ],
        [
         "P0367",
         "Human See",
         "Clothing",
         "Nike",
         776.79
        ],
        [
         "P0368",
         "National Various",
         "Beauty",
         "Dell",
         138.37
        ],
        [
         "P0369",
         "Spend Account",
         "Sports",
         "Apple",
         1954.77
        ],
        [
         "P0370",
         "Artist Protect",
         "Sports",
         "Lenovo",
         1000.0
        ],
        [
         "P0371",
         "Possible So",
         "Electronics",
         "Dell",
         1479.94
        ],
        [
         "P0372",
         "Level Rock",
         "Electronics",
         "Dell",
         1242.11
        ],
        [
         "P0373",
         "Wrong Building",
         "Beauty",
         "Puma",
         1858.79
        ],
        [
         "P0374",
         "Whom Century",
         "Beauty",
         "LG",
         1676.32
        ],
        [
         "P0375",
         "Local Evening",
         "Electronics",
         "Sony",
         412.3
        ],
        [
         "P0376",
         "Piece Raise",
         "Beauty",
         "Adidas",
         1860.84
        ],
        [
         "P0377",
         "Think None",
         "Sports",
         "Dell",
         1298.87
        ],
        [
         "P0378",
         "Economy Court",
         "Electronics",
         "Dell",
         1677.01
        ],
        [
         "P0379",
         "Ball Base",
         "Clothing",
         "Sony",
         1028.64
        ],
        [
         "P0380",
         "Blue Finally",
         "Sports",
         "Dell",
         1721.21
        ],
        [
         "P0381",
         "Tend Inside",
         "Clothing",
         "Adidas",
         1203.96
        ],
        [
         "P0382",
         "Five Force",
         "Home",
         "Apple",
         713.46
        ],
        [
         "P0383",
         "Popular Herself",
         "Beauty",
         "Revlon",
         180.91
        ],
        [
         "P0384",
         "Issue Doctor",
         "Toys",
         "Puma",
         86.38
        ],
        [
         "P0385",
         "Old Hand",
         "Beauty",
         "Revlon",
         1924.73
        ],
        [
         "P0386",
         "Style Again",
         "Sports",
         "Revlon",
         1294.16
        ],
        [
         "P0387",
         "Affect Continue",
         "Clothing",
         "Dell",
         1648.43
        ],
        [
         "P0388",
         "Professional Physical",
         "Clothing",
         "Puma",
         922.07
        ],
        [
         "P0389",
         "Necessary Upon",
         "Beauty",
         "Sony",
         458.59
        ],
        [
         "P0390",
         "Leader Security",
         "Toys",
         "Lenovo",
         867.57
        ],
        [
         "P0391",
         "Serious Information",
         "Beauty",
         "Sony",
         1392.3
        ],
        [
         "P0392",
         "Customer Or",
         "Sports",
         "Apple",
         892.97
        ],
        [
         "P0393",
         "Goal Ground",
         "Clothing",
         "Sony",
         1619.98
        ],
        [
         "P0394",
         "Beautiful Small",
         "Beauty",
         "Samsung",
         926.57
        ],
        [
         "P0395",
         "Song Approach",
         "Clothing",
         "Samsung",
         1758.5
        ],
        [
         "P0396",
         "Pattern Age",
         "Electronics",
         "Lenovo",
         1566.87
        ],
        [
         "P0397",
         "Civil Action",
         "Sports",
         "Apple",
         1877.24
        ],
        [
         "P0398",
         "Floor Daughter",
         "Electronics",
         "Apple",
         1825.42
        ],
        [
         "P0399",
         "Parent Reflect",
         "Toys",
         "Nike",
         1135.56
        ],
        [
         "P0400",
         "Any Buy",
         "Clothing",
         "Sony",
         835.22
        ],
        [
         "P0401",
         "Design Machine",
         "Toys",
         "Dell",
         392.57
        ],
        [
         "P0402",
         "Area Your",
         "Beauty",
         "Lenovo",
         47.46
        ],
        [
         "P0403",
         "Artist Anyone",
         "Home",
         "Lenovo",
         1744.03
        ],
        [
         "P0404",
         "Card Government",
         "Electronics",
         "LG",
         967.18
        ],
        [
         "P0405",
         "Population Hold",
         "Electronics",
         "Dell",
         1225.32
        ],
        [
         "P0406",
         "Indicate Produce",
         "Beauty",
         "Adidas",
         584.74
        ],
        [
         "P0407",
         "Carry Laugh",
         "Home",
         "LG",
         584.71
        ],
        [
         "P0408",
         "Finish Sister",
         "Sports",
         "Apple",
         1167.48
        ],
        [
         "P0409",
         "Happen Old",
         "Sports",
         "LG",
         890.11
        ],
        [
         "P0410",
         "Particular Cause",
         "Toys",
         "Adidas",
         373.46
        ],
        [
         "P0411",
         "Attack Cell",
         "Electronics",
         "Puma",
         873.95
        ],
        [
         "P0412",
         "Significant Ability",
         "Electronics",
         "Dell",
         129.25
        ],
        [
         "P0413",
         "Stand Enough",
         "Clothing",
         "Lenovo",
         342.07
        ],
        [
         "P0414",
         "Pressure Role",
         "Beauty",
         "LG",
         1456.9
        ],
        [
         "P0415",
         "Great Wish",
         "Beauty",
         "Samsung",
         1821.91
        ],
        [
         "P0416",
         "Brother Would",
         "Toys",
         "Nike",
         427.5
        ],
        [
         "P0417",
         "Sing Head",
         "Beauty",
         "Revlon",
         111.34
        ],
        [
         "P0418",
         "Other Right",
         "Home",
         "Dell",
         1844.36
        ],
        [
         "P0419",
         "Claim Firm",
         "Toys",
         "Adidas",
         629.71
        ],
        [
         "P0420",
         "Social Cost",
         "Home",
         "Adidas",
         49.6
        ],
        [
         "P0421",
         "Whole Per",
         "Clothing",
         "Sony",
         1520.45
        ],
        [
         "P0422",
         "Society Action",
         "Electronics",
         "Revlon",
         184.69
        ],
        [
         "P0423",
         "Add Eight",
         "Clothing",
         "Dell",
         990.07
        ],
        [
         "P0424",
         "What Best",
         "Sports",
         "Apple",
         1141.78
        ],
        [
         "P0425",
         "Girl Important",
         "Home",
         "Adidas",
         1822.03
        ],
        [
         "P0426",
         "Several Pick",
         "Electronics",
         "Puma",
         1956.82
        ],
        [
         "P0427",
         "Despite Dream",
         "Sports",
         "Sony",
         1967.84
        ],
        [
         "P0428",
         "Why Ten",
         "Beauty",
         "Sony",
         1582.19
        ],
        [
         "P0429",
         "Never Painting",
         "Electronics",
         "Apple",
         1734.0
        ],
        [
         "P0430",
         "Language Style",
         "Sports",
         "Adidas",
         1386.32
        ],
        [
         "P0431",
         "Physical Quite",
         "Electronics",
         "Dell",
         682.1
        ],
        [
         "P0432",
         "Discuss Decide",
         "Toys",
         "Revlon",
         1287.08
        ],
        [
         "P0433",
         "Would Describe",
         "Electronics",
         "Apple",
         1123.66
        ],
        [
         "P0434",
         "Every Line",
         "Electronics",
         "Adidas",
         1689.45
        ],
        [
         "P0435",
         "Debate Center",
         "Sports",
         "Nike",
         1902.58
        ],
        [
         "P0436",
         "Begin Three",
         "Sports",
         "Puma",
         1781.45
        ],
        [
         "P0437",
         "Explain Until",
         "Clothing",
         "Sony",
         465.4
        ],
        [
         "P0438",
         "Mind Add",
         "Toys",
         "LG",
         1309.15
        ],
        [
         "P0439",
         "Very Democratic",
         "Home",
         "Apple",
         1174.39
        ],
        [
         "P0440",
         "Travel Practice",
         "Electronics",
         "Dell",
         1983.25
        ],
        [
         "P0441",
         "Lot Fish",
         "Toys",
         "Adidas",
         1300.71
        ],
        [
         "P0442",
         "Animal Court",
         "Electronics",
         "Adidas",
         1811.22
        ],
        [
         "P0443",
         "Campaign Decision",
         "Toys",
         "Dell",
         685.07
        ],
        [
         "P0444",
         "Change It",
         "Beauty",
         "Revlon",
         655.62
        ],
        [
         "P0445",
         "Mean Hospital",
         "Electronics",
         "Apple",
         792.65
        ],
        [
         "P0446",
         "Blood National",
         "Sports",
         "Puma",
         1016.83
        ],
        [
         "P0447",
         "There Whether",
         "Toys",
         "Sony",
         915.77
        ],
        [
         "P0448",
         "Method Plant",
         "Electronics",
         "LG",
         1264.88
        ],
        [
         "P0449",
         "Property Total",
         "Electronics",
         "Samsung",
         188.96
        ],
        [
         "P0450",
         "Laugh Minute",
         "Home",
         "Revlon",
         985.83
        ],
        [
         "P0451",
         "Card Another",
         "Sports",
         "Puma",
         1663.54
        ],
        [
         "P0452",
         "Other Role",
         "Electronics",
         "Dell",
         1462.41
        ],
        [
         "P0453",
         "Early Authority",
         "Home",
         "Sony",
         250.33
        ],
        [
         "P0454",
         "Window Nature",
         "Clothing",
         "Sony",
         324.49
        ],
        [
         "P0455",
         "Me True",
         "Beauty",
         "Puma",
         1884.65
        ],
        [
         "P0456",
         "Side Knowledge",
         "Clothing",
         "Apple",
         1904.87
        ],
        [
         "P0457",
         "Reach House",
         "Sports",
         "Nike",
         1731.23
        ],
        [
         "P0458",
         "Fight Claim",
         "Home",
         "Dell",
         629.24
        ],
        [
         "P0459",
         "Without Matter",
         "Toys",
         "Apple",
         1208.62
        ],
        [
         "P0460",
         "Recently Heavy",
         "Electronics",
         "Revlon",
         1327.98
        ],
        [
         "P0461",
         "Dream Thought",
         "Home",
         "Apple",
         1367.65
        ],
        [
         "P0462",
         "Modern Yet",
         "Sports",
         "Revlon",
         1909.36
        ],
        [
         "P0463",
         "Movie Cell",
         "Clothing",
         "Apple",
         293.1
        ],
        [
         "P0464",
         "Whatever Audience",
         "Electronics",
         "Sony",
         638.63
        ],
        [
         "P0465",
         "Morning Politics",
         "Sports",
         "Lenovo",
         151.23
        ],
        [
         "P0466",
         "Effort Service",
         "Beauty",
         "Lenovo",
         1305.34
        ],
        [
         "P0467",
         "Approach Only",
         "Clothing",
         "Adidas",
         15.91
        ],
        [
         "P0468",
         "Present Recent",
         "Toys",
         "LG",
         1530.08
        ],
        [
         "P0469",
         "Line Ball",
         "Clothing",
         "Dell",
         98.6
        ],
        [
         "P0470",
         "Probably High",
         "Home",
         "Dell",
         649.66
        ],
        [
         "P0471",
         "Then Exactly",
         "Beauty",
         "Sony",
         20.68
        ],
        [
         "P0472",
         "Even Economic",
         "Toys",
         "Apple",
         1409.94
        ],
        [
         "P0473",
         "Today Over",
         "Toys",
         "Adidas",
         1878.18
        ],
        [
         "P0474",
         "Expert Appear",
         "Home",
         "Nike",
         1287.26
        ],
        [
         "P0475",
         "Government And",
         "Home",
         "Samsung",
         964.94
        ],
        [
         "P0476",
         "Consumer Itself",
         "Toys",
         "Lenovo",
         259.13
        ],
        [
         "P0477",
         "Upon Sometimes",
         "Electronics",
         "Apple",
         917.67
        ],
        [
         "P0478",
         "Quality True",
         "Sports",
         "Sony",
         630.56
        ],
        [
         "P0479",
         "Voice A",
         "Clothing",
         "Sony",
         567.29
        ],
        [
         "P0480",
         "Child Threat",
         "Beauty",
         "Adidas",
         492.92
        ],
        [
         "P0481",
         "Fact Measure",
         "Beauty",
         "Nike",
         1554.11
        ],
        [
         "P0482",
         "Force Family",
         "Clothing",
         "Sony",
         1675.86
        ],
        [
         "P0483",
         "From Night",
         "Toys",
         "Nike",
         877.18
        ],
        [
         "P0484",
         "Deep Thank",
         "Beauty",
         "Apple",
         1397.57
        ],
        [
         "P0485",
         "Rise Exactly",
         "Home",
         "Apple",
         535.31
        ],
        [
         "P0486",
         "Identify Magazine",
         "Electronics",
         "Samsung",
         315.25
        ],
        [
         "P0487",
         "Now Never",
         "Electronics",
         "Dell",
         1666.94
        ],
        [
         "P0488",
         "Experience Idea",
         "Electronics",
         "Lenovo",
         1316.67
        ],
        [
         "P0489",
         "Camera At",
         "Electronics",
         "LG",
         1923.44
        ],
        [
         "P0490",
         "Door Itself",
         "Home",
         "Revlon",
         1718.72
        ],
        [
         "P0491",
         "Floor Sit",
         "Clothing",
         "LG",
         1602.21
        ],
        [
         "P0492",
         "A Forward",
         "Home",
         "Nike",
         121.07
        ],
        [
         "P0493",
         "Pass Go",
         "Toys",
         "Samsung",
         295.7
        ],
        [
         "P0494",
         "Personal Stand",
         "Toys",
         "Apple",
         1913.83
        ],
        [
         "P0495",
         "Sister Question",
         "Toys",
         "Sony",
         561.99
        ],
        [
         "P0496",
         "Beyond Some",
         "Beauty",
         "Apple",
         137.62
        ],
        [
         "P0497",
         "Reflect Chair",
         "Beauty",
         "Lenovo",
         930.59
        ],
        [
         "P0498",
         "Economic Over",
         "Beauty",
         "Adidas",
         1990.58
        ],
        [
         "P0499",
         "Writer Mouth",
         "Home",
         "Revlon",
         1774.16
        ],
        [
         "P0500",
         "Itself Despite",
         "Electronics",
         "Puma",
         322.4
        ]
       ],
       "datasetInfos": [],
       "dbfsResultPath": null,
       "isJsonSchema": true,
       "metadata": {},
       "overflow": false,
       "plotOptions": {
        "customPlotOptions": {},
        "displayType": "table",
        "pivotAggregation": null,
        "pivotColumns": null,
        "xColumns": null,
        "yColumns": null
       },
       "removedWidgets": [],
       "schema": [
        {
         "metadata": "{}",
         "name": "product_id",
         "type": "\"string\""
        },
        {
         "metadata": "{}",
         "name": "product_name",
         "type": "\"string\""
        },
        {
         "metadata": "{}",
         "name": "category",
         "type": "\"string\""
        },
        {
         "metadata": "{}",
         "name": "brand",
         "type": "\"string\""
        },
        {
         "metadata": "{}",
         "name": "price",
         "type": "\"double\""
        }
       ],
       "type": "table"
      }
     },
     "output_type": "display_data"
    }
   ],
   "source": [
    "products = spark.read.format('parquet').load('abfss://bronze@endtoenddatabricks.dfs.core.windows.net/products')\n",
    "\n",
    "# Removing the unwanted columns\n",
    "products = products.drop('_rescued_data')\n",
    "products.display()"
   ]
  },
  {
   "cell_type": "markdown",
   "metadata": {
    "application/vnd.databricks.v1+cell": {
     "cellMetadata": {},
     "inputWidgets": {},
     "nuid": "c96e68e4-0c1e-4c5b-ac68-d22f331d919e",
     "showTitle": false,
     "tableResultSettingsMap": {},
     "title": ""
    }
   },
   "source": [
    "**products available per brand**"
   ]
  },
  {
   "cell_type": "code",
   "execution_count": 0,
   "metadata": {
    "application/vnd.databricks.v1+cell": {
     "cellMetadata": {
      "byteLimit": 2048000,
      "rowLimit": 10000
     },
     "inputWidgets": {},
     "nuid": "f1ed420d-e971-4404-bbf1-ad9094acb4f9",
     "showTitle": false,
     "tableResultSettingsMap": {},
     "title": ""
    }
   },
   "outputs": [
    {
     "output_type": "display_data",
     "data": {
      "text/html": [
       "<style scoped>\n",
       "  .table-result-container {\n",
       "    max-height: 300px;\n",
       "    overflow: auto;\n",
       "  }\n",
       "  table, th, td {\n",
       "    border: 1px solid black;\n",
       "    border-collapse: collapse;\n",
       "  }\n",
       "  th, td {\n",
       "    padding: 5px;\n",
       "  }\n",
       "  th {\n",
       "    text-align: left;\n",
       "  }\n",
       "</style><div class='table-result-container'><table class='table-result'><thead style='background-color: white'><tr><th>brand</th><th>products per brand</th></tr></thead><tbody><tr><td>Adidas</td><td>61</td></tr><tr><td>Samsung</td><td>60</td></tr><tr><td>Lenovo</td><td>55</td></tr><tr><td>Sony</td><td>50</td></tr><tr><td>Nike</td><td>49</td></tr><tr><td>Puma</td><td>48</td></tr><tr><td>Apple</td><td>48</td></tr><tr><td>Dell</td><td>45</td></tr><tr><td>Revlon</td><td>42</td></tr><tr><td>LG</td><td>42</td></tr></tbody></table></div>"
      ]
     },
     "metadata": {
      "application/vnd.databricks.v1+output": {
       "addedWidgets": {},
       "aggData": [],
       "aggError": "",
       "aggOverflow": false,
       "aggSchema": [],
       "aggSeriesLimitReached": false,
       "aggType": "",
       "arguments": {},
       "columnCustomDisplayInfos": {},
       "data": [
        [
         "Adidas",
         61
        ],
        [
         "Samsung",
         60
        ],
        [
         "Lenovo",
         55
        ],
        [
         "Sony",
         50
        ],
        [
         "Nike",
         49
        ],
        [
         "Puma",
         48
        ],
        [
         "Apple",
         48
        ],
        [
         "Dell",
         45
        ],
        [
         "Revlon",
         42
        ],
        [
         "LG",
         42
        ]
       ],
       "datasetInfos": [],
       "dbfsResultPath": null,
       "isJsonSchema": true,
       "metadata": {},
       "overflow": false,
       "plotOptions": {
        "customPlotOptions": {},
        "displayType": "table",
        "pivotAggregation": null,
        "pivotColumns": null,
        "xColumns": null,
        "yColumns": null
       },
       "removedWidgets": [],
       "schema": [
        {
         "metadata": "{}",
         "name": "brand",
         "type": "\"string\""
        },
        {
         "metadata": "{}",
         "name": "products per brand",
         "type": "\"long\""
        }
       ],
       "type": "table"
      }
     },
     "output_type": "display_data"
    }
   ],
   "source": [
    "products.groupBy('brand').agg(count(col('product_id')).alias('products per brand')).sort(col('products per brand').desc()).display()"
   ]
  },
  {
   "cell_type": "markdown",
   "metadata": {
    "application/vnd.databricks.v1+cell": {
     "cellMetadata": {},
     "inputWidgets": {},
     "nuid": "e31708a3-e889-4877-832c-71f6e5fd2693",
     "showTitle": false,
     "tableResultSettingsMap": {},
     "title": ""
    }
   },
   "source": [
    "### Functions"
   ]
  },
  {
   "cell_type": "code",
   "execution_count": 0,
   "metadata": {
    "application/vnd.databricks.v1+cell": {
     "cellMetadata": {
      "byteLimit": 2048000,
      "rowLimit": 10000
     },
     "inputWidgets": {},
     "nuid": "fdcb7c25-3827-4062-a9ec-799fbc7d1304",
     "showTitle": false,
     "tableResultSettingsMap": {},
     "title": ""
    }
   },
   "outputs": [],
   "source": [
    "products.createOrReplaceTempView('v_products')"
   ]
  },
  {
   "cell_type": "markdown",
   "metadata": {
    "application/vnd.databricks.v1+cell": {
     "cellMetadata": {},
     "inputWidgets": {},
     "nuid": "40fcc0d6-c46a-4b63-935b-e20b8c1bfd2d",
     "showTitle": false,
     "tableResultSettingsMap": {},
     "title": ""
    }
   },
   "source": [
    "### Creating functions using SQL"
   ]
  },
  {
   "cell_type": "code",
   "execution_count": 0,
   "metadata": {
    "application/vnd.databricks.v1+cell": {
     "cellMetadata": {
      "byteLimit": 2048000,
      "implicitDf": true,
      "rowLimit": 10000
     },
     "inputWidgets": {},
     "nuid": "c0d66238-6233-486b-8bd1-872e733f1f6e",
     "showTitle": false,
     "tableResultSettingsMap": {},
     "title": ""
    }
   },
   "outputs": [
    {
     "output_type": "display_data",
     "data": {
      "text/html": [
       "<style scoped>\n",
       "  .table-result-container {\n",
       "    max-height: 300px;\n",
       "    overflow: auto;\n",
       "  }\n",
       "  table, th, td {\n",
       "    border: 1px solid black;\n",
       "    border-collapse: collapse;\n",
       "  }\n",
       "  th, td {\n",
       "    padding: 5px;\n",
       "  }\n",
       "  th {\n",
       "    text-align: left;\n",
       "  }\n",
       "</style><div class='table-result-container'><table class='table-result'><thead style='background-color: white'><tr></tr></thead><tbody></tbody></table></div>"
      ]
     },
     "metadata": {
      "application/vnd.databricks.v1+output": {
       "addedWidgets": {},
       "aggData": [],
       "aggError": "",
       "aggOverflow": false,
       "aggSchema": [],
       "aggSeriesLimitReached": false,
       "aggType": "",
       "arguments": {},
       "columnCustomDisplayInfos": {},
       "data": [],
       "datasetInfos": [],
       "dbfsResultPath": null,
       "isJsonSchema": true,
       "metadata": {
        "dataframeName": null
       },
       "overflow": false,
       "plotOptions": {
        "customPlotOptions": {},
        "displayType": "table",
        "pivotAggregation": null,
        "pivotColumns": null,
        "xColumns": null,
        "yColumns": null
       },
       "removedWidgets": [],
       "schema": [],
       "type": "table"
      }
     },
     "output_type": "display_data"
    }
   ],
   "source": [
    "%sql\n",
    "CREATE OR REPLACE FUNCTION `catalog-databricks`.bronze.discount_func(p_price DOUBLE)\n",
    "RETURNS DOUBLE\n",
    "LANGUAGE SQL\n",
    "RETURN p_price * 0.90"
   ]
  },
  {
   "cell_type": "code",
   "execution_count": 0,
   "metadata": {
    "application/vnd.databricks.v1+cell": {
     "cellMetadata": {
      "byteLimit": 2048000,
      "implicitDf": true,
      "rowLimit": 10000
     },
     "inputWidgets": {},
     "nuid": "aa8d608f-7ae1-4938-9cc8-745e9d7e5415",
     "showTitle": false,
     "tableResultSettingsMap": {},
     "title": ""
    }
   },
   "outputs": [
    {
     "output_type": "display_data",
     "data": {
      "text/html": [
       "<style scoped>\n",
       "  .table-result-container {\n",
       "    max-height: 300px;\n",
       "    overflow: auto;\n",
       "  }\n",
       "  table, th, td {\n",
       "    border: 1px solid black;\n",
       "    border-collapse: collapse;\n",
       "  }\n",
       "  th, td {\n",
       "    padding: 5px;\n",
       "  }\n",
       "  th {\n",
       "    text-align: left;\n",
       "  }\n",
       "</style><div class='table-result-container'><table class='table-result'><thead style='background-color: white'><tr><th>product_id</th><th>price</th><th>discounted_price</th></tr></thead><tbody><tr><td>P0001</td><td>1868.54</td><td>1681.69</td></tr><tr><td>P0002</td><td>587.13</td><td>528.42</td></tr><tr><td>P0003</td><td>1599.24</td><td>1439.32</td></tr><tr><td>P0004</td><td>651.71</td><td>586.54</td></tr><tr><td>P0005</td><td>1861.78</td><td>1675.6</td></tr><tr><td>P0006</td><td>936.36</td><td>842.72</td></tr><tr><td>P0007</td><td>1954.02</td><td>1758.62</td></tr><tr><td>P0008</td><td>1251.26</td><td>1126.13</td></tr><tr><td>P0009</td><td>1247.15</td><td>1122.44</td></tr><tr><td>P0010</td><td>975.53</td><td>877.98</td></tr><tr><td>P0011</td><td>1475.31</td><td>1327.78</td></tr><tr><td>P0012</td><td>624.61</td><td>562.15</td></tr><tr><td>P0013</td><td>384.99</td><td>346.49</td></tr><tr><td>P0014</td><td>32.2</td><td>28.98</td></tr><tr><td>P0015</td><td>1459.2</td><td>1313.28</td></tr><tr><td>P0016</td><td>1594.08</td><td>1434.67</td></tr><tr><td>P0017</td><td>1289.06</td><td>1160.15</td></tr><tr><td>P0018</td><td>1329.53</td><td>1196.58</td></tr><tr><td>P0019</td><td>230.56</td><td>207.5</td></tr><tr><td>P0020</td><td>1603.5</td><td>1443.15</td></tr><tr><td>P0021</td><td>361.89</td><td>325.7</td></tr><tr><td>P0022</td><td>73.82</td><td>66.44</td></tr><tr><td>P0023</td><td>1561.78</td><td>1405.6</td></tr><tr><td>P0024</td><td>1422.07</td><td>1279.86</td></tr><tr><td>P0025</td><td>488.67</td><td>439.8</td></tr><tr><td>P0026</td><td>1316.41</td><td>1184.77</td></tr><tr><td>P0027</td><td>939.9</td><td>845.91</td></tr><tr><td>P0028</td><td>1682.91</td><td>1514.62</td></tr><tr><td>P0029</td><td>1065.49</td><td>958.94</td></tr><tr><td>P0030</td><td>1162.38</td><td>1046.14</td></tr><tr><td>P0031</td><td>774.18</td><td>696.76</td></tr><tr><td>P0032</td><td>1445.21</td><td>1300.69</td></tr><tr><td>P0033</td><td>61.91</td><td>55.72</td></tr><tr><td>P0034</td><td>1843.84</td><td>1659.46</td></tr><tr><td>P0035</td><td>579.76</td><td>521.78</td></tr><tr><td>P0036</td><td>1780.37</td><td>1602.33</td></tr><tr><td>P0037</td><td>105.28</td><td>94.75</td></tr><tr><td>P0038</td><td>1156.99</td><td>1041.29</td></tr><tr><td>P0039</td><td>1279.12</td><td>1151.21</td></tr><tr><td>P0040</td><td>1822.39</td><td>1640.15</td></tr><tr><td>P0041</td><td>459.55</td><td>413.6</td></tr><tr><td>P0042</td><td>1215.78</td><td>1094.2</td></tr><tr><td>P0043</td><td>914.61</td><td>823.15</td></tr><tr><td>P0044</td><td>580.32</td><td>522.29</td></tr><tr><td>P0045</td><td>622.31</td><td>560.08</td></tr><tr><td>P0046</td><td>918.54</td><td>826.69</td></tr><tr><td>P0047</td><td>257.51</td><td>231.76</td></tr><tr><td>P0048</td><td>652.68</td><td>587.41</td></tr><tr><td>P0049</td><td>819.77</td><td>737.79</td></tr><tr><td>P0050</td><td>1947.16</td><td>1752.44</td></tr><tr><td>P0051</td><td>1294.33</td><td>1164.9</td></tr><tr><td>P0052</td><td>1190.28</td><td>1071.25</td></tr><tr><td>P0053</td><td>896.22</td><td>806.6</td></tr><tr><td>P0054</td><td>1346.26</td><td>1211.63</td></tr><tr><td>P0055</td><td>925.39</td><td>832.85</td></tr><tr><td>P0056</td><td>805.91</td><td>725.32</td></tr><tr><td>P0057</td><td>1000.36</td><td>900.32</td></tr><tr><td>P0058</td><td>1713.86</td><td>1542.47</td></tr><tr><td>P0059</td><td>808.17</td><td>727.35</td></tr><tr><td>P0060</td><td>1230.69</td><td>1107.62</td></tr><tr><td>P0061</td><td>1610.15</td><td>1449.14</td></tr><tr><td>P0062</td><td>912.72</td><td>821.45</td></tr><tr><td>P0063</td><td>1876.88</td><td>1689.19</td></tr><tr><td>P0064</td><td>473.8</td><td>426.42</td></tr><tr><td>P0065</td><td>1472.24</td><td>1325.02</td></tr><tr><td>P0066</td><td>1123.53</td><td>1011.18</td></tr><tr><td>P0067</td><td>144.72</td><td>130.25</td></tr><tr><td>P0068</td><td>1633.64</td><td>1470.28</td></tr><tr><td>P0069</td><td>1165.23</td><td>1048.71</td></tr><tr><td>P0070</td><td>1589.36</td><td>1430.42</td></tr><tr><td>P0071</td><td>1385.04</td><td>1246.54</td></tr><tr><td>P0072</td><td>1198.32</td><td>1078.49</td></tr><tr><td>P0073</td><td>586.19</td><td>527.57</td></tr><tr><td>P0074</td><td>426.99</td><td>384.29</td></tr><tr><td>P0075</td><td>73.74</td><td>66.37</td></tr><tr><td>P0076</td><td>862.73</td><td>776.46</td></tr><tr><td>P0077</td><td>333.16</td><td>299.84</td></tr><tr><td>P0078</td><td>903.63</td><td>813.27</td></tr><tr><td>P0079</td><td>780.45</td><td>702.41</td></tr><tr><td>P0080</td><td>1599.68</td><td>1439.71</td></tr><tr><td>P0081</td><td>1697.18</td><td>1527.46</td></tr><tr><td>P0082</td><td>1932.51</td><td>1739.26</td></tr><tr><td>P0083</td><td>1519.05</td><td>1367.15</td></tr><tr><td>P0084</td><td>866.09</td><td>779.48</td></tr><tr><td>P0085</td><td>1863.08</td><td>1676.77</td></tr><tr><td>P0086</td><td>915.44</td><td>823.9</td></tr><tr><td>P0087</td><td>273.89</td><td>246.5</td></tr><tr><td>P0088</td><td>1482.19</td><td>1333.97</td></tr><tr><td>P0089</td><td>611.31</td><td>550.18</td></tr><tr><td>P0090</td><td>129.87</td><td>116.88</td></tr><tr><td>P0091</td><td>1683.02</td><td>1514.72</td></tr><tr><td>P0092</td><td>1631.21</td><td>1468.09</td></tr><tr><td>P0093</td><td>749.33</td><td>674.4</td></tr><tr><td>P0094</td><td>48.71</td><td>43.84</td></tr><tr><td>P0095</td><td>1519.1</td><td>1367.19</td></tr><tr><td>P0096</td><td>1078.42</td><td>970.58</td></tr><tr><td>P0097</td><td>627.41</td><td>564.67</td></tr><tr><td>P0098</td><td>551.54</td><td>496.39</td></tr><tr><td>P0099</td><td>1110.7</td><td>999.63</td></tr><tr><td>P0100</td><td>793.81</td><td>714.43</td></tr><tr><td>P0101</td><td>1106.32</td><td>995.69</td></tr><tr><td>P0102</td><td>1079.69</td><td>971.72</td></tr><tr><td>P0103</td><td>486.63</td><td>437.97</td></tr><tr><td>P0104</td><td>860.64</td><td>774.58</td></tr><tr><td>P0105</td><td>1200.37</td><td>1080.33</td></tr><tr><td>P0106</td><td>1100.51</td><td>990.46</td></tr><tr><td>P0107</td><td>193.45</td><td>174.11</td></tr><tr><td>P0108</td><td>22.3</td><td>20.07</td></tr><tr><td>P0109</td><td>1891.2</td><td>1702.08</td></tr><tr><td>P0110</td><td>776.77</td><td>699.09</td></tr><tr><td>P0111</td><td>1138.45</td><td>1024.61</td></tr><tr><td>P0112</td><td>1579.73</td><td>1421.76</td></tr><tr><td>P0113</td><td>810.64</td><td>729.58</td></tr><tr><td>P0114</td><td>1178.36</td><td>1060.52</td></tr><tr><td>P0115</td><td>1504.01</td><td>1353.61</td></tr><tr><td>P0116</td><td>287.59</td><td>258.83</td></tr><tr><td>P0117</td><td>665.49</td><td>598.94</td></tr><tr><td>P0118</td><td>1123.64</td><td>1011.28</td></tr><tr><td>P0119</td><td>60.42</td><td>54.38</td></tr><tr><td>P0120</td><td>368.47</td><td>331.62</td></tr><tr><td>P0121</td><td>1959.23</td><td>1763.31</td></tr><tr><td>P0122</td><td>539.16</td><td>485.24</td></tr><tr><td>P0123</td><td>503.76</td><td>453.38</td></tr><tr><td>P0124</td><td>1857.88</td><td>1672.09</td></tr><tr><td>P0125</td><td>947.43</td><td>852.69</td></tr><tr><td>P0126</td><td>1431.12</td><td>1288.01</td></tr><tr><td>P0127</td><td>1337.38</td><td>1203.64</td></tr><tr><td>P0128</td><td>1935.2</td><td>1741.68</td></tr><tr><td>P0129</td><td>763.99</td><td>687.59</td></tr><tr><td>P0130</td><td>1355.15</td><td>1219.64</td></tr><tr><td>P0131</td><td>302.22</td><td>272.0</td></tr><tr><td>P0132</td><td>1194.22</td><td>1074.8</td></tr><tr><td>P0133</td><td>215.63</td><td>194.07</td></tr><tr><td>P0134</td><td>1625.17</td><td>1462.65</td></tr><tr><td>P0135</td><td>669.95</td><td>602.96</td></tr><tr><td>P0136</td><td>48.0</td><td>43.2</td></tr><tr><td>P0137</td><td>1569.19</td><td>1412.27</td></tr><tr><td>P0138</td><td>452.81</td><td>407.53</td></tr><tr><td>P0139</td><td>399.03</td><td>359.13</td></tr><tr><td>P0140</td><td>116.36</td><td>104.72</td></tr><tr><td>P0141</td><td>1039.71</td><td>935.74</td></tr><tr><td>P0142</td><td>1081.59</td><td>973.43</td></tr><tr><td>P0143</td><td>1549.15</td><td>1394.24</td></tr><tr><td>P0144</td><td>769.93</td><td>692.94</td></tr><tr><td>P0145</td><td>453.73</td><td>408.36</td></tr><tr><td>P0146</td><td>1763.2</td><td>1586.88</td></tr><tr><td>P0147</td><td>86.53</td><td>77.88</td></tr><tr><td>P0148</td><td>435.86</td><td>392.27</td></tr><tr><td>P0149</td><td>793.61</td><td>714.25</td></tr><tr><td>P0150</td><td>1207.54</td><td>1086.79</td></tr><tr><td>P0151</td><td>38.43</td><td>34.59</td></tr><tr><td>P0152</td><td>357.33</td><td>321.6</td></tr><tr><td>P0153</td><td>809.73</td><td>728.76</td></tr><tr><td>P0154</td><td>1089.28</td><td>980.35</td></tr><tr><td>P0155</td><td>12.35</td><td>11.12</td></tr><tr><td>P0156</td><td>1746.06</td><td>1571.45</td></tr><tr><td>P0157</td><td>825.91</td><td>743.32</td></tr><tr><td>P0158</td><td>1286.8</td><td>1158.12</td></tr><tr><td>P0159</td><td>674.29</td><td>606.86</td></tr><tr><td>P0160</td><td>1542.46</td><td>1388.21</td></tr><tr><td>P0161</td><td>906.6</td><td>815.94</td></tr><tr><td>P0162</td><td>417.67</td><td>375.9</td></tr><tr><td>P0163</td><td>1307.14</td><td>1176.43</td></tr><tr><td>P0164</td><td>535.06</td><td>481.55</td></tr><tr><td>P0165</td><td>1971.77</td><td>1774.59</td></tr><tr><td>P0166</td><td>62.19</td><td>55.97</td></tr><tr><td>P0167</td><td>1666.23</td><td>1499.61</td></tr><tr><td>P0168</td><td>1006.63</td><td>905.97</td></tr><tr><td>P0169</td><td>1267.42</td><td>1140.68</td></tr><tr><td>P0170</td><td>329.25</td><td>296.33</td></tr><tr><td>P0171</td><td>1557.09</td><td>1401.38</td></tr><tr><td>P0172</td><td>1759.47</td><td>1583.52</td></tr><tr><td>P0173</td><td>930.78</td><td>837.7</td></tr><tr><td>P0174</td><td>81.55</td><td>73.4</td></tr><tr><td>P0175</td><td>364.2</td><td>327.78</td></tr><tr><td>P0176</td><td>824.82</td><td>742.34</td></tr><tr><td>P0177</td><td>1241.26</td><td>1117.13</td></tr><tr><td>P0178</td><td>743.65</td><td>669.29</td></tr><tr><td>P0179</td><td>1950.04</td><td>1755.04</td></tr><tr><td>P0180</td><td>141.37</td><td>127.23</td></tr><tr><td>P0181</td><td>1935.07</td><td>1741.56</td></tr><tr><td>P0182</td><td>1661.22</td><td>1495.1</td></tr><tr><td>P0183</td><td>762.15</td><td>685.94</td></tr><tr><td>P0184</td><td>1003.71</td><td>903.34</td></tr><tr><td>P0185</td><td>1595.17</td><td>1435.65</td></tr><tr><td>P0186</td><td>231.03</td><td>207.93</td></tr><tr><td>P0187</td><td>38.88</td><td>34.99</td></tr><tr><td>P0188</td><td>1582.57</td><td>1424.31</td></tr><tr><td>P0189</td><td>641.08</td><td>576.97</td></tr><tr><td>P0190</td><td>686.04</td><td>617.44</td></tr><tr><td>P0191</td><td>112.38</td><td>101.14</td></tr><tr><td>P0192</td><td>942.81</td><td>848.53</td></tr><tr><td>P0193</td><td>1238.31</td><td>1114.48</td></tr><tr><td>P0194</td><td>1814.74</td><td>1633.27</td></tr><tr><td>P0195</td><td>937.18</td><td>843.46</td></tr><tr><td>P0196</td><td>1159.15</td><td>1043.24</td></tr><tr><td>P0197</td><td>1564.84</td><td>1408.36</td></tr><tr><td>P0198</td><td>628.47</td><td>565.62</td></tr><tr><td>P0199</td><td>1368.51</td><td>1231.66</td></tr><tr><td>P0200</td><td>692.12</td><td>622.91</td></tr><tr><td>P0201</td><td>1573.37</td><td>1416.03</td></tr><tr><td>P0202</td><td>1953.99</td><td>1758.59</td></tr><tr><td>P0203</td><td>1016.57</td><td>914.91</td></tr><tr><td>P0204</td><td>1734.6</td><td>1561.14</td></tr><tr><td>P0205</td><td>478.82</td><td>430.94</td></tr><tr><td>P0206</td><td>375.49</td><td>337.94</td></tr><tr><td>P0207</td><td>230.41</td><td>207.37</td></tr><tr><td>P0208</td><td>754.39</td><td>678.95</td></tr><tr><td>P0209</td><td>1070.99</td><td>963.89</td></tr><tr><td>P0210</td><td>863.71</td><td>777.34</td></tr><tr><td>P0211</td><td>1051.35</td><td>946.21</td></tr><tr><td>P0212</td><td>1766.16</td><td>1589.54</td></tr><tr><td>P0213</td><td>1528.21</td><td>1375.39</td></tr><tr><td>P0214</td><td>1725.81</td><td>1553.23</td></tr><tr><td>P0215</td><td>1678.45</td><td>1510.61</td></tr><tr><td>P0216</td><td>1526.03</td><td>1373.43</td></tr><tr><td>P0217</td><td>1460.22</td><td>1314.2</td></tr><tr><td>P0218</td><td>207.67</td><td>186.9</td></tr><tr><td>P0219</td><td>996.21</td><td>896.59</td></tr><tr><td>P0220</td><td>1354.7</td><td>1219.23</td></tr><tr><td>P0221</td><td>1205.37</td><td>1084.83</td></tr><tr><td>P0222</td><td>977.33</td><td>879.6</td></tr><tr><td>P0223</td><td>1292.39</td><td>1163.15</td></tr><tr><td>P0224</td><td>1153.17</td><td>1037.85</td></tr><tr><td>P0225</td><td>551.26</td><td>496.13</td></tr><tr><td>P0226</td><td>1668.89</td><td>1502.0</td></tr><tr><td>P0227</td><td>449.11</td><td>404.2</td></tr><tr><td>P0228</td><td>317.83</td><td>286.05</td></tr><tr><td>P0229</td><td>1399.43</td><td>1259.49</td></tr><tr><td>P0230</td><td>1163.64</td><td>1047.28</td></tr><tr><td>P0231</td><td>781.81</td><td>703.63</td></tr><tr><td>P0232</td><td>896.07</td><td>806.46</td></tr><tr><td>P0233</td><td>901.28</td><td>811.15</td></tr><tr><td>P0234</td><td>1231.55</td><td>1108.4</td></tr><tr><td>P0235</td><td>1297.8</td><td>1168.02</td></tr><tr><td>P0236</td><td>951.74</td><td>856.57</td></tr><tr><td>P0237</td><td>164.53</td><td>148.08</td></tr><tr><td>P0238</td><td>1358.99</td><td>1223.09</td></tr><tr><td>P0239</td><td>1612.58</td><td>1451.32</td></tr><tr><td>P0240</td><td>1648.93</td><td>1484.04</td></tr><tr><td>P0241</td><td>1531.37</td><td>1378.23</td></tr><tr><td>P0242</td><td>412.59</td><td>371.33</td></tr><tr><td>P0243</td><td>1875.22</td><td>1687.7</td></tr><tr><td>P0244</td><td>1843.58</td><td>1659.22</td></tr><tr><td>P0245</td><td>270.43</td><td>243.39</td></tr><tr><td>P0246</td><td>1449.57</td><td>1304.61</td></tr><tr><td>P0247</td><td>825.1</td><td>742.59</td></tr><tr><td>P0248</td><td>1200.32</td><td>1080.29</td></tr><tr><td>P0249</td><td>1536.54</td><td>1382.89</td></tr><tr><td>P0250</td><td>710.82</td><td>639.74</td></tr><tr><td>P0251</td><td>28.65</td><td>25.79</td></tr><tr><td>P0252</td><td>1957.38</td><td>1761.64</td></tr><tr><td>P0253</td><td>226.44</td><td>203.8</td></tr><tr><td>P0254</td><td>503.61</td><td>453.25</td></tr><tr><td>P0255</td><td>154.4</td><td>138.96</td></tr><tr><td>P0256</td><td>882.48</td><td>794.23</td></tr><tr><td>P0257</td><td>944.89</td><td>850.4</td></tr><tr><td>P0258</td><td>1423.91</td><td>1281.52</td></tr><tr><td>P0259</td><td>1484.64</td><td>1336.18</td></tr><tr><td>P0260</td><td>1255.56</td><td>1130.0</td></tr><tr><td>P0261</td><td>203.78</td><td>183.4</td></tr><tr><td>P0262</td><td>885.15</td><td>796.64</td></tr><tr><td>P0263</td><td>371.19</td><td>334.07</td></tr><tr><td>P0264</td><td>1030.44</td><td>927.4</td></tr><tr><td>P0265</td><td>1216.14</td><td>1094.53</td></tr><tr><td>P0266</td><td>324.37</td><td>291.93</td></tr><tr><td>P0267</td><td>1772.83</td><td>1595.55</td></tr><tr><td>P0268</td><td>631.29</td><td>568.16</td></tr><tr><td>P0269</td><td>1192.68</td><td>1073.41</td></tr><tr><td>P0270</td><td>611.71</td><td>550.54</td></tr><tr><td>P0271</td><td>1362.74</td><td>1226.47</td></tr><tr><td>P0272</td><td>1472.29</td><td>1325.06</td></tr><tr><td>P0273</td><td>146.58</td><td>131.92</td></tr><tr><td>P0274</td><td>1128.5</td><td>1015.65</td></tr><tr><td>P0275</td><td>1478.58</td><td>1330.72</td></tr><tr><td>P0276</td><td>1155.12</td><td>1039.61</td></tr><tr><td>P0277</td><td>63.16</td><td>56.84</td></tr><tr><td>P0278</td><td>414.78</td><td>373.3</td></tr><tr><td>P0279</td><td>1619.24</td><td>1457.32</td></tr><tr><td>P0280</td><td>566.91</td><td>510.22</td></tr><tr><td>P0281</td><td>188.55</td><td>169.7</td></tr><tr><td>P0282</td><td>69.59</td><td>62.63</td></tr><tr><td>P0283</td><td>474.49</td><td>427.04</td></tr><tr><td>P0284</td><td>352.26</td><td>317.03</td></tr><tr><td>P0285</td><td>1123.4</td><td>1011.06</td></tr><tr><td>P0286</td><td>1164.64</td><td>1048.18</td></tr><tr><td>P0287</td><td>1084.4</td><td>975.96</td></tr><tr><td>P0288</td><td>1486.02</td><td>1337.42</td></tr><tr><td>P0289</td><td>1780.19</td><td>1602.17</td></tr><tr><td>P0290</td><td>919.28</td><td>827.35</td></tr><tr><td>P0291</td><td>890.9</td><td>801.81</td></tr><tr><td>P0292</td><td>1339.35</td><td>1205.42</td></tr><tr><td>P0293</td><td>107.68</td><td>96.91</td></tr><tr><td>P0294</td><td>1054.65</td><td>949.19</td></tr><tr><td>P0295</td><td>1938.35</td><td>1744.51</td></tr><tr><td>P0296</td><td>1738.65</td><td>1564.79</td></tr><tr><td>P0297</td><td>859.64</td><td>773.68</td></tr><tr><td>P0298</td><td>1571.12</td><td>1414.01</td></tr><tr><td>P0299</td><td>1170.51</td><td>1053.46</td></tr><tr><td>P0300</td><td>1741.53</td><td>1567.38</td></tr><tr><td>P0301</td><td>1005.47</td><td>904.92</td></tr><tr><td>P0302</td><td>1017.38</td><td>915.64</td></tr><tr><td>P0303</td><td>1052.48</td><td>947.23</td></tr><tr><td>P0304</td><td>1039.68</td><td>935.71</td></tr><tr><td>P0305</td><td>1089.74</td><td>980.77</td></tr><tr><td>P0306</td><td>140.5</td><td>126.45</td></tr><tr><td>P0307</td><td>1923.44</td><td>1731.1</td></tr><tr><td>P0308</td><td>187.35</td><td>168.62</td></tr><tr><td>P0309</td><td>445.2</td><td>400.68</td></tr><tr><td>P0310</td><td>704.08</td><td>633.67</td></tr><tr><td>P0311</td><td>454.3</td><td>408.87</td></tr><tr><td>P0312</td><td>1500.97</td><td>1350.87</td></tr><tr><td>P0313</td><td>985.34</td><td>886.81</td></tr><tr><td>P0314</td><td>599.47</td><td>539.52</td></tr><tr><td>P0315</td><td>1703.11</td><td>1532.8</td></tr><tr><td>P0316</td><td>605.68</td><td>545.11</td></tr><tr><td>P0317</td><td>1174.72</td><td>1057.25</td></tr><tr><td>P0318</td><td>824.7</td><td>742.23</td></tr><tr><td>P0319</td><td>1494.78</td><td>1345.3</td></tr><tr><td>P0320</td><td>491.43</td><td>442.29</td></tr><tr><td>P0321</td><td>1631.26</td><td>1468.13</td></tr><tr><td>P0322</td><td>1731.88</td><td>1558.69</td></tr><tr><td>P0323</td><td>1248.81</td><td>1123.93</td></tr><tr><td>P0324</td><td>1819.96</td><td>1637.96</td></tr><tr><td>P0325</td><td>1361.28</td><td>1225.15</td></tr><tr><td>P0326</td><td>1688.79</td><td>1519.91</td></tr><tr><td>P0327</td><td>943.0</td><td>848.7</td></tr><tr><td>P0328</td><td>1928.38</td><td>1735.54</td></tr><tr><td>P0329</td><td>1295.37</td><td>1165.83</td></tr><tr><td>P0330</td><td>1241.75</td><td>1117.58</td></tr><tr><td>P0331</td><td>1528.85</td><td>1375.97</td></tr><tr><td>P0332</td><td>1369.33</td><td>1232.4</td></tr><tr><td>P0333</td><td>1892.24</td><td>1703.02</td></tr><tr><td>P0334</td><td>1560.27</td><td>1404.24</td></tr><tr><td>P0335</td><td>1352.39</td><td>1217.15</td></tr><tr><td>P0336</td><td>222.93</td><td>200.64</td></tr><tr><td>P0337</td><td>1968.32</td><td>1771.49</td></tr><tr><td>P0338</td><td>1844.1</td><td>1659.69</td></tr><tr><td>P0339</td><td>1321.67</td><td>1189.5</td></tr><tr><td>P0340</td><td>1635.48</td><td>1471.93</td></tr><tr><td>P0341</td><td>1333.84</td><td>1200.46</td></tr><tr><td>P0342</td><td>125.97</td><td>113.37</td></tr><tr><td>P0343</td><td>539.06</td><td>485.15</td></tr><tr><td>P0344</td><td>1118.86</td><td>1006.97</td></tr><tr><td>P0345</td><td>1366.77</td><td>1230.09</td></tr><tr><td>P0346</td><td>84.09</td><td>75.68</td></tr><tr><td>P0347</td><td>452.69</td><td>407.42</td></tr><tr><td>P0348</td><td>958.75</td><td>862.88</td></tr><tr><td>P0349</td><td>1059.73</td><td>953.76</td></tr><tr><td>P0350</td><td>758.98</td><td>683.08</td></tr><tr><td>P0351</td><td>390.64</td><td>351.58</td></tr><tr><td>P0352</td><td>1226.91</td><td>1104.22</td></tr><tr><td>P0353</td><td>1464.67</td><td>1318.2</td></tr><tr><td>P0354</td><td>289.67</td><td>260.7</td></tr><tr><td>P0355</td><td>1804.42</td><td>1623.98</td></tr><tr><td>P0356</td><td>97.91</td><td>88.12</td></tr><tr><td>P0357</td><td>1705.13</td><td>1534.62</td></tr><tr><td>P0358</td><td>1175.18</td><td>1057.66</td></tr><tr><td>P0359</td><td>660.84</td><td>594.76</td></tr><tr><td>P0360</td><td>175.53</td><td>157.98</td></tr><tr><td>P0361</td><td>1572.29</td><td>1415.06</td></tr><tr><td>P0362</td><td>1555.65</td><td>1400.09</td></tr><tr><td>P0363</td><td>758.11</td><td>682.3</td></tr><tr><td>P0364</td><td>930.34</td><td>837.31</td></tr><tr><td>P0365</td><td>1542.85</td><td>1388.57</td></tr><tr><td>P0366</td><td>1008.85</td><td>907.97</td></tr><tr><td>P0367</td><td>776.79</td><td>699.11</td></tr><tr><td>P0368</td><td>138.37</td><td>124.53</td></tr><tr><td>P0369</td><td>1954.77</td><td>1759.29</td></tr><tr><td>P0370</td><td>1000.0</td><td>900.0</td></tr><tr><td>P0371</td><td>1479.94</td><td>1331.95</td></tr><tr><td>P0372</td><td>1242.11</td><td>1117.9</td></tr><tr><td>P0373</td><td>1858.79</td><td>1672.91</td></tr><tr><td>P0374</td><td>1676.32</td><td>1508.69</td></tr><tr><td>P0375</td><td>412.3</td><td>371.07</td></tr><tr><td>P0376</td><td>1860.84</td><td>1674.76</td></tr><tr><td>P0377</td><td>1298.87</td><td>1168.98</td></tr><tr><td>P0378</td><td>1677.01</td><td>1509.31</td></tr><tr><td>P0379</td><td>1028.64</td><td>925.78</td></tr><tr><td>P0380</td><td>1721.21</td><td>1549.09</td></tr><tr><td>P0381</td><td>1203.96</td><td>1083.56</td></tr><tr><td>P0382</td><td>713.46</td><td>642.11</td></tr><tr><td>P0383</td><td>180.91</td><td>162.82</td></tr><tr><td>P0384</td><td>86.38</td><td>77.74</td></tr><tr><td>P0385</td><td>1924.73</td><td>1732.26</td></tr><tr><td>P0386</td><td>1294.16</td><td>1164.74</td></tr><tr><td>P0387</td><td>1648.43</td><td>1483.59</td></tr><tr><td>P0388</td><td>922.07</td><td>829.86</td></tr><tr><td>P0389</td><td>458.59</td><td>412.73</td></tr><tr><td>P0390</td><td>867.57</td><td>780.81</td></tr><tr><td>P0391</td><td>1392.3</td><td>1253.07</td></tr><tr><td>P0392</td><td>892.97</td><td>803.67</td></tr><tr><td>P0393</td><td>1619.98</td><td>1457.98</td></tr><tr><td>P0394</td><td>926.57</td><td>833.91</td></tr><tr><td>P0395</td><td>1758.5</td><td>1582.65</td></tr><tr><td>P0396</td><td>1566.87</td><td>1410.18</td></tr><tr><td>P0397</td><td>1877.24</td><td>1689.52</td></tr><tr><td>P0398</td><td>1825.42</td><td>1642.88</td></tr><tr><td>P0399</td><td>1135.56</td><td>1022.0</td></tr><tr><td>P0400</td><td>835.22</td><td>751.7</td></tr><tr><td>P0401</td><td>392.57</td><td>353.31</td></tr><tr><td>P0402</td><td>47.46</td><td>42.71</td></tr><tr><td>P0403</td><td>1744.03</td><td>1569.63</td></tr><tr><td>P0404</td><td>967.18</td><td>870.46</td></tr><tr><td>P0405</td><td>1225.32</td><td>1102.79</td></tr><tr><td>P0406</td><td>584.74</td><td>526.27</td></tr><tr><td>P0407</td><td>584.71</td><td>526.24</td></tr><tr><td>P0408</td><td>1167.48</td><td>1050.73</td></tr><tr><td>P0409</td><td>890.11</td><td>801.1</td></tr><tr><td>P0410</td><td>373.46</td><td>336.11</td></tr><tr><td>P0411</td><td>873.95</td><td>786.56</td></tr><tr><td>P0412</td><td>129.25</td><td>116.33</td></tr><tr><td>P0413</td><td>342.07</td><td>307.86</td></tr><tr><td>P0414</td><td>1456.9</td><td>1311.21</td></tr><tr><td>P0415</td><td>1821.91</td><td>1639.72</td></tr><tr><td>P0416</td><td>427.5</td><td>384.75</td></tr><tr><td>P0417</td><td>111.34</td><td>100.21</td></tr><tr><td>P0418</td><td>1844.36</td><td>1659.92</td></tr><tr><td>P0419</td><td>629.71</td><td>566.74</td></tr><tr><td>P0420</td><td>49.6</td><td>44.64</td></tr><tr><td>P0421</td><td>1520.45</td><td>1368.41</td></tr><tr><td>P0422</td><td>184.69</td><td>166.22</td></tr><tr><td>P0423</td><td>990.07</td><td>891.06</td></tr><tr><td>P0424</td><td>1141.78</td><td>1027.6</td></tr><tr><td>P0425</td><td>1822.03</td><td>1639.83</td></tr><tr><td>P0426</td><td>1956.82</td><td>1761.14</td></tr><tr><td>P0427</td><td>1967.84</td><td>1771.06</td></tr><tr><td>P0428</td><td>1582.19</td><td>1423.97</td></tr><tr><td>P0429</td><td>1734.0</td><td>1560.6</td></tr><tr><td>P0430</td><td>1386.32</td><td>1247.69</td></tr><tr><td>P0431</td><td>682.1</td><td>613.89</td></tr><tr><td>P0432</td><td>1287.08</td><td>1158.37</td></tr><tr><td>P0433</td><td>1123.66</td><td>1011.29</td></tr><tr><td>P0434</td><td>1689.45</td><td>1520.51</td></tr><tr><td>P0435</td><td>1902.58</td><td>1712.32</td></tr><tr><td>P0436</td><td>1781.45</td><td>1603.31</td></tr><tr><td>P0437</td><td>465.4</td><td>418.86</td></tr><tr><td>P0438</td><td>1309.15</td><td>1178.24</td></tr><tr><td>P0439</td><td>1174.39</td><td>1056.95</td></tr><tr><td>P0440</td><td>1983.25</td><td>1784.93</td></tr><tr><td>P0441</td><td>1300.71</td><td>1170.64</td></tr><tr><td>P0442</td><td>1811.22</td><td>1630.1</td></tr><tr><td>P0443</td><td>685.07</td><td>616.56</td></tr><tr><td>P0444</td><td>655.62</td><td>590.06</td></tr><tr><td>P0445</td><td>792.65</td><td>713.39</td></tr><tr><td>P0446</td><td>1016.83</td><td>915.15</td></tr><tr><td>P0447</td><td>915.77</td><td>824.19</td></tr><tr><td>P0448</td><td>1264.88</td><td>1138.39</td></tr><tr><td>P0449</td><td>188.96</td><td>170.06</td></tr><tr><td>P0450</td><td>985.83</td><td>887.25</td></tr><tr><td>P0451</td><td>1663.54</td><td>1497.19</td></tr><tr><td>P0452</td><td>1462.41</td><td>1316.17</td></tr><tr><td>P0453</td><td>250.33</td><td>225.3</td></tr><tr><td>P0454</td><td>324.49</td><td>292.04</td></tr><tr><td>P0455</td><td>1884.65</td><td>1696.19</td></tr><tr><td>P0456</td><td>1904.87</td><td>1714.38</td></tr><tr><td>P0457</td><td>1731.23</td><td>1558.11</td></tr><tr><td>P0458</td><td>629.24</td><td>566.32</td></tr><tr><td>P0459</td><td>1208.62</td><td>1087.76</td></tr><tr><td>P0460</td><td>1327.98</td><td>1195.18</td></tr><tr><td>P0461</td><td>1367.65</td><td>1230.89</td></tr><tr><td>P0462</td><td>1909.36</td><td>1718.42</td></tr><tr><td>P0463</td><td>293.1</td><td>263.79</td></tr><tr><td>P0464</td><td>638.63</td><td>574.77</td></tr><tr><td>P0465</td><td>151.23</td><td>136.11</td></tr><tr><td>P0466</td><td>1305.34</td><td>1174.81</td></tr><tr><td>P0467</td><td>15.91</td><td>14.32</td></tr><tr><td>P0468</td><td>1530.08</td><td>1377.07</td></tr><tr><td>P0469</td><td>98.6</td><td>88.74</td></tr><tr><td>P0470</td><td>649.66</td><td>584.69</td></tr><tr><td>P0471</td><td>20.68</td><td>18.61</td></tr><tr><td>P0472</td><td>1409.94</td><td>1268.95</td></tr><tr><td>P0473</td><td>1878.18</td><td>1690.36</td></tr><tr><td>P0474</td><td>1287.26</td><td>1158.53</td></tr><tr><td>P0475</td><td>964.94</td><td>868.45</td></tr><tr><td>P0476</td><td>259.13</td><td>233.22</td></tr><tr><td>P0477</td><td>917.67</td><td>825.9</td></tr><tr><td>P0478</td><td>630.56</td><td>567.5</td></tr><tr><td>P0479</td><td>567.29</td><td>510.56</td></tr><tr><td>P0480</td><td>492.92</td><td>443.63</td></tr><tr><td>P0481</td><td>1554.11</td><td>1398.7</td></tr><tr><td>P0482</td><td>1675.86</td><td>1508.27</td></tr><tr><td>P0483</td><td>877.18</td><td>789.46</td></tr><tr><td>P0484</td><td>1397.57</td><td>1257.81</td></tr><tr><td>P0485</td><td>535.31</td><td>481.78</td></tr><tr><td>P0486</td><td>315.25</td><td>283.73</td></tr><tr><td>P0487</td><td>1666.94</td><td>1500.25</td></tr><tr><td>P0488</td><td>1316.67</td><td>1185.0</td></tr><tr><td>P0489</td><td>1923.44</td><td>1731.1</td></tr><tr><td>P0490</td><td>1718.72</td><td>1546.85</td></tr><tr><td>P0491</td><td>1602.21</td><td>1441.99</td></tr><tr><td>P0492</td><td>121.07</td><td>108.96</td></tr><tr><td>P0493</td><td>295.7</td><td>266.13</td></tr><tr><td>P0494</td><td>1913.83</td><td>1722.45</td></tr><tr><td>P0495</td><td>561.99</td><td>505.79</td></tr><tr><td>P0496</td><td>137.62</td><td>123.86</td></tr><tr><td>P0497</td><td>930.59</td><td>837.53</td></tr><tr><td>P0498</td><td>1990.58</td><td>1791.52</td></tr><tr><td>P0499</td><td>1774.16</td><td>1596.74</td></tr><tr><td>P0500</td><td>322.4</td><td>290.16</td></tr></tbody></table></div>"
      ]
     },
     "metadata": {
      "application/vnd.databricks.v1+output": {
       "addedWidgets": {},
       "aggData": [],
       "aggError": "",
       "aggOverflow": false,
       "aggSchema": [],
       "aggSeriesLimitReached": false,
       "aggType": "",
       "arguments": {},
       "columnCustomDisplayInfos": {},
       "data": [
        [
         "P0001",
         1868.54,
         1681.69
        ],
        [
         "P0002",
         587.13,
         528.42
        ],
        [
         "P0003",
         1599.24,
         1439.32
        ],
        [
         "P0004",
         651.71,
         586.54
        ],
        [
         "P0005",
         1861.78,
         1675.6
        ],
        [
         "P0006",
         936.36,
         842.72
        ],
        [
         "P0007",
         1954.02,
         1758.62
        ],
        [
         "P0008",
         1251.26,
         1126.13
        ],
        [
         "P0009",
         1247.15,
         1122.44
        ],
        [
         "P0010",
         975.53,
         877.98
        ],
        [
         "P0011",
         1475.31,
         1327.78
        ],
        [
         "P0012",
         624.61,
         562.15
        ],
        [
         "P0013",
         384.99,
         346.49
        ],
        [
         "P0014",
         32.2,
         28.98
        ],
        [
         "P0015",
         1459.2,
         1313.28
        ],
        [
         "P0016",
         1594.08,
         1434.67
        ],
        [
         "P0017",
         1289.06,
         1160.15
        ],
        [
         "P0018",
         1329.53,
         1196.58
        ],
        [
         "P0019",
         230.56,
         207.5
        ],
        [
         "P0020",
         1603.5,
         1443.15
        ],
        [
         "P0021",
         361.89,
         325.7
        ],
        [
         "P0022",
         73.82,
         66.44
        ],
        [
         "P0023",
         1561.78,
         1405.6
        ],
        [
         "P0024",
         1422.07,
         1279.86
        ],
        [
         "P0025",
         488.67,
         439.8
        ],
        [
         "P0026",
         1316.41,
         1184.77
        ],
        [
         "P0027",
         939.9,
         845.91
        ],
        [
         "P0028",
         1682.91,
         1514.62
        ],
        [
         "P0029",
         1065.49,
         958.94
        ],
        [
         "P0030",
         1162.38,
         1046.14
        ],
        [
         "P0031",
         774.18,
         696.76
        ],
        [
         "P0032",
         1445.21,
         1300.69
        ],
        [
         "P0033",
         61.91,
         55.72
        ],
        [
         "P0034",
         1843.84,
         1659.46
        ],
        [
         "P0035",
         579.76,
         521.78
        ],
        [
         "P0036",
         1780.37,
         1602.33
        ],
        [
         "P0037",
         105.28,
         94.75
        ],
        [
         "P0038",
         1156.99,
         1041.29
        ],
        [
         "P0039",
         1279.12,
         1151.21
        ],
        [
         "P0040",
         1822.39,
         1640.15
        ],
        [
         "P0041",
         459.55,
         413.6
        ],
        [
         "P0042",
         1215.78,
         1094.2
        ],
        [
         "P0043",
         914.61,
         823.15
        ],
        [
         "P0044",
         580.32,
         522.29
        ],
        [
         "P0045",
         622.31,
         560.08
        ],
        [
         "P0046",
         918.54,
         826.69
        ],
        [
         "P0047",
         257.51,
         231.76
        ],
        [
         "P0048",
         652.68,
         587.41
        ],
        [
         "P0049",
         819.77,
         737.79
        ],
        [
         "P0050",
         1947.16,
         1752.44
        ],
        [
         "P0051",
         1294.33,
         1164.9
        ],
        [
         "P0052",
         1190.28,
         1071.25
        ],
        [
         "P0053",
         896.22,
         806.6
        ],
        [
         "P0054",
         1346.26,
         1211.63
        ],
        [
         "P0055",
         925.39,
         832.85
        ],
        [
         "P0056",
         805.91,
         725.32
        ],
        [
         "P0057",
         1000.36,
         900.32
        ],
        [
         "P0058",
         1713.86,
         1542.47
        ],
        [
         "P0059",
         808.17,
         727.35
        ],
        [
         "P0060",
         1230.69,
         1107.62
        ],
        [
         "P0061",
         1610.15,
         1449.14
        ],
        [
         "P0062",
         912.72,
         821.45
        ],
        [
         "P0063",
         1876.88,
         1689.19
        ],
        [
         "P0064",
         473.8,
         426.42
        ],
        [
         "P0065",
         1472.24,
         1325.02
        ],
        [
         "P0066",
         1123.53,
         1011.18
        ],
        [
         "P0067",
         144.72,
         130.25
        ],
        [
         "P0068",
         1633.64,
         1470.28
        ],
        [
         "P0069",
         1165.23,
         1048.71
        ],
        [
         "P0070",
         1589.36,
         1430.42
        ],
        [
         "P0071",
         1385.04,
         1246.54
        ],
        [
         "P0072",
         1198.32,
         1078.49
        ],
        [
         "P0073",
         586.19,
         527.57
        ],
        [
         "P0074",
         426.99,
         384.29
        ],
        [
         "P0075",
         73.74,
         66.37
        ],
        [
         "P0076",
         862.73,
         776.46
        ],
        [
         "P0077",
         333.16,
         299.84
        ],
        [
         "P0078",
         903.63,
         813.27
        ],
        [
         "P0079",
         780.45,
         702.41
        ],
        [
         "P0080",
         1599.68,
         1439.71
        ],
        [
         "P0081",
         1697.18,
         1527.46
        ],
        [
         "P0082",
         1932.51,
         1739.26
        ],
        [
         "P0083",
         1519.05,
         1367.15
        ],
        [
         "P0084",
         866.09,
         779.48
        ],
        [
         "P0085",
         1863.08,
         1676.77
        ],
        [
         "P0086",
         915.44,
         823.9
        ],
        [
         "P0087",
         273.89,
         246.5
        ],
        [
         "P0088",
         1482.19,
         1333.97
        ],
        [
         "P0089",
         611.31,
         550.18
        ],
        [
         "P0090",
         129.87,
         116.88
        ],
        [
         "P0091",
         1683.02,
         1514.72
        ],
        [
         "P0092",
         1631.21,
         1468.09
        ],
        [
         "P0093",
         749.33,
         674.4
        ],
        [
         "P0094",
         48.71,
         43.84
        ],
        [
         "P0095",
         1519.1,
         1367.19
        ],
        [
         "P0096",
         1078.42,
         970.58
        ],
        [
         "P0097",
         627.41,
         564.67
        ],
        [
         "P0098",
         551.54,
         496.39
        ],
        [
         "P0099",
         1110.7,
         999.63
        ],
        [
         "P0100",
         793.81,
         714.43
        ],
        [
         "P0101",
         1106.32,
         995.69
        ],
        [
         "P0102",
         1079.69,
         971.72
        ],
        [
         "P0103",
         486.63,
         437.97
        ],
        [
         "P0104",
         860.64,
         774.58
        ],
        [
         "P0105",
         1200.37,
         1080.33
        ],
        [
         "P0106",
         1100.51,
         990.46
        ],
        [
         "P0107",
         193.45,
         174.11
        ],
        [
         "P0108",
         22.3,
         20.07
        ],
        [
         "P0109",
         1891.2,
         1702.08
        ],
        [
         "P0110",
         776.77,
         699.09
        ],
        [
         "P0111",
         1138.45,
         1024.61
        ],
        [
         "P0112",
         1579.73,
         1421.76
        ],
        [
         "P0113",
         810.64,
         729.58
        ],
        [
         "P0114",
         1178.36,
         1060.52
        ],
        [
         "P0115",
         1504.01,
         1353.61
        ],
        [
         "P0116",
         287.59,
         258.83
        ],
        [
         "P0117",
         665.49,
         598.94
        ],
        [
         "P0118",
         1123.64,
         1011.28
        ],
        [
         "P0119",
         60.42,
         54.38
        ],
        [
         "P0120",
         368.47,
         331.62
        ],
        [
         "P0121",
         1959.23,
         1763.31
        ],
        [
         "P0122",
         539.16,
         485.24
        ],
        [
         "P0123",
         503.76,
         453.38
        ],
        [
         "P0124",
         1857.88,
         1672.09
        ],
        [
         "P0125",
         947.43,
         852.69
        ],
        [
         "P0126",
         1431.12,
         1288.01
        ],
        [
         "P0127",
         1337.38,
         1203.64
        ],
        [
         "P0128",
         1935.2,
         1741.68
        ],
        [
         "P0129",
         763.99,
         687.59
        ],
        [
         "P0130",
         1355.15,
         1219.64
        ],
        [
         "P0131",
         302.22,
         272.0
        ],
        [
         "P0132",
         1194.22,
         1074.8
        ],
        [
         "P0133",
         215.63,
         194.07
        ],
        [
         "P0134",
         1625.17,
         1462.65
        ],
        [
         "P0135",
         669.95,
         602.96
        ],
        [
         "P0136",
         48.0,
         43.2
        ],
        [
         "P0137",
         1569.19,
         1412.27
        ],
        [
         "P0138",
         452.81,
         407.53
        ],
        [
         "P0139",
         399.03,
         359.13
        ],
        [
         "P0140",
         116.36,
         104.72
        ],
        [
         "P0141",
         1039.71,
         935.74
        ],
        [
         "P0142",
         1081.59,
         973.43
        ],
        [
         "P0143",
         1549.15,
         1394.24
        ],
        [
         "P0144",
         769.93,
         692.94
        ],
        [
         "P0145",
         453.73,
         408.36
        ],
        [
         "P0146",
         1763.2,
         1586.88
        ],
        [
         "P0147",
         86.53,
         77.88
        ],
        [
         "P0148",
         435.86,
         392.27
        ],
        [
         "P0149",
         793.61,
         714.25
        ],
        [
         "P0150",
         1207.54,
         1086.79
        ],
        [
         "P0151",
         38.43,
         34.59
        ],
        [
         "P0152",
         357.33,
         321.6
        ],
        [
         "P0153",
         809.73,
         728.76
        ],
        [
         "P0154",
         1089.28,
         980.35
        ],
        [
         "P0155",
         12.35,
         11.12
        ],
        [
         "P0156",
         1746.06,
         1571.45
        ],
        [
         "P0157",
         825.91,
         743.32
        ],
        [
         "P0158",
         1286.8,
         1158.12
        ],
        [
         "P0159",
         674.29,
         606.86
        ],
        [
         "P0160",
         1542.46,
         1388.21
        ],
        [
         "P0161",
         906.6,
         815.94
        ],
        [
         "P0162",
         417.67,
         375.9
        ],
        [
         "P0163",
         1307.14,
         1176.43
        ],
        [
         "P0164",
         535.06,
         481.55
        ],
        [
         "P0165",
         1971.77,
         1774.59
        ],
        [
         "P0166",
         62.19,
         55.97
        ],
        [
         "P0167",
         1666.23,
         1499.61
        ],
        [
         "P0168",
         1006.63,
         905.97
        ],
        [
         "P0169",
         1267.42,
         1140.68
        ],
        [
         "P0170",
         329.25,
         296.33
        ],
        [
         "P0171",
         1557.09,
         1401.38
        ],
        [
         "P0172",
         1759.47,
         1583.52
        ],
        [
         "P0173",
         930.78,
         837.7
        ],
        [
         "P0174",
         81.55,
         73.4
        ],
        [
         "P0175",
         364.2,
         327.78
        ],
        [
         "P0176",
         824.82,
         742.34
        ],
        [
         "P0177",
         1241.26,
         1117.13
        ],
        [
         "P0178",
         743.65,
         669.29
        ],
        [
         "P0179",
         1950.04,
         1755.04
        ],
        [
         "P0180",
         141.37,
         127.23
        ],
        [
         "P0181",
         1935.07,
         1741.56
        ],
        [
         "P0182",
         1661.22,
         1495.1
        ],
        [
         "P0183",
         762.15,
         685.94
        ],
        [
         "P0184",
         1003.71,
         903.34
        ],
        [
         "P0185",
         1595.17,
         1435.65
        ],
        [
         "P0186",
         231.03,
         207.93
        ],
        [
         "P0187",
         38.88,
         34.99
        ],
        [
         "P0188",
         1582.57,
         1424.31
        ],
        [
         "P0189",
         641.08,
         576.97
        ],
        [
         "P0190",
         686.04,
         617.44
        ],
        [
         "P0191",
         112.38,
         101.14
        ],
        [
         "P0192",
         942.81,
         848.53
        ],
        [
         "P0193",
         1238.31,
         1114.48
        ],
        [
         "P0194",
         1814.74,
         1633.27
        ],
        [
         "P0195",
         937.18,
         843.46
        ],
        [
         "P0196",
         1159.15,
         1043.24
        ],
        [
         "P0197",
         1564.84,
         1408.36
        ],
        [
         "P0198",
         628.47,
         565.62
        ],
        [
         "P0199",
         1368.51,
         1231.66
        ],
        [
         "P0200",
         692.12,
         622.91
        ],
        [
         "P0201",
         1573.37,
         1416.03
        ],
        [
         "P0202",
         1953.99,
         1758.59
        ],
        [
         "P0203",
         1016.57,
         914.91
        ],
        [
         "P0204",
         1734.6,
         1561.14
        ],
        [
         "P0205",
         478.82,
         430.94
        ],
        [
         "P0206",
         375.49,
         337.94
        ],
        [
         "P0207",
         230.41,
         207.37
        ],
        [
         "P0208",
         754.39,
         678.95
        ],
        [
         "P0209",
         1070.99,
         963.89
        ],
        [
         "P0210",
         863.71,
         777.34
        ],
        [
         "P0211",
         1051.35,
         946.21
        ],
        [
         "P0212",
         1766.16,
         1589.54
        ],
        [
         "P0213",
         1528.21,
         1375.39
        ],
        [
         "P0214",
         1725.81,
         1553.23
        ],
        [
         "P0215",
         1678.45,
         1510.61
        ],
        [
         "P0216",
         1526.03,
         1373.43
        ],
        [
         "P0217",
         1460.22,
         1314.2
        ],
        [
         "P0218",
         207.67,
         186.9
        ],
        [
         "P0219",
         996.21,
         896.59
        ],
        [
         "P0220",
         1354.7,
         1219.23
        ],
        [
         "P0221",
         1205.37,
         1084.83
        ],
        [
         "P0222",
         977.33,
         879.6
        ],
        [
         "P0223",
         1292.39,
         1163.15
        ],
        [
         "P0224",
         1153.17,
         1037.85
        ],
        [
         "P0225",
         551.26,
         496.13
        ],
        [
         "P0226",
         1668.89,
         1502.0
        ],
        [
         "P0227",
         449.11,
         404.2
        ],
        [
         "P0228",
         317.83,
         286.05
        ],
        [
         "P0229",
         1399.43,
         1259.49
        ],
        [
         "P0230",
         1163.64,
         1047.28
        ],
        [
         "P0231",
         781.81,
         703.63
        ],
        [
         "P0232",
         896.07,
         806.46
        ],
        [
         "P0233",
         901.28,
         811.15
        ],
        [
         "P0234",
         1231.55,
         1108.4
        ],
        [
         "P0235",
         1297.8,
         1168.02
        ],
        [
         "P0236",
         951.74,
         856.57
        ],
        [
         "P0237",
         164.53,
         148.08
        ],
        [
         "P0238",
         1358.99,
         1223.09
        ],
        [
         "P0239",
         1612.58,
         1451.32
        ],
        [
         "P0240",
         1648.93,
         1484.04
        ],
        [
         "P0241",
         1531.37,
         1378.23
        ],
        [
         "P0242",
         412.59,
         371.33
        ],
        [
         "P0243",
         1875.22,
         1687.7
        ],
        [
         "P0244",
         1843.58,
         1659.22
        ],
        [
         "P0245",
         270.43,
         243.39
        ],
        [
         "P0246",
         1449.57,
         1304.61
        ],
        [
         "P0247",
         825.1,
         742.59
        ],
        [
         "P0248",
         1200.32,
         1080.29
        ],
        [
         "P0249",
         1536.54,
         1382.89
        ],
        [
         "P0250",
         710.82,
         639.74
        ],
        [
         "P0251",
         28.65,
         25.79
        ],
        [
         "P0252",
         1957.38,
         1761.64
        ],
        [
         "P0253",
         226.44,
         203.8
        ],
        [
         "P0254",
         503.61,
         453.25
        ],
        [
         "P0255",
         154.4,
         138.96
        ],
        [
         "P0256",
         882.48,
         794.23
        ],
        [
         "P0257",
         944.89,
         850.4
        ],
        [
         "P0258",
         1423.91,
         1281.52
        ],
        [
         "P0259",
         1484.64,
         1336.18
        ],
        [
         "P0260",
         1255.56,
         1130.0
        ],
        [
         "P0261",
         203.78,
         183.4
        ],
        [
         "P0262",
         885.15,
         796.64
        ],
        [
         "P0263",
         371.19,
         334.07
        ],
        [
         "P0264",
         1030.44,
         927.4
        ],
        [
         "P0265",
         1216.14,
         1094.53
        ],
        [
         "P0266",
         324.37,
         291.93
        ],
        [
         "P0267",
         1772.83,
         1595.55
        ],
        [
         "P0268",
         631.29,
         568.16
        ],
        [
         "P0269",
         1192.68,
         1073.41
        ],
        [
         "P0270",
         611.71,
         550.54
        ],
        [
         "P0271",
         1362.74,
         1226.47
        ],
        [
         "P0272",
         1472.29,
         1325.06
        ],
        [
         "P0273",
         146.58,
         131.92
        ],
        [
         "P0274",
         1128.5,
         1015.65
        ],
        [
         "P0275",
         1478.58,
         1330.72
        ],
        [
         "P0276",
         1155.12,
         1039.61
        ],
        [
         "P0277",
         63.16,
         56.84
        ],
        [
         "P0278",
         414.78,
         373.3
        ],
        [
         "P0279",
         1619.24,
         1457.32
        ],
        [
         "P0280",
         566.91,
         510.22
        ],
        [
         "P0281",
         188.55,
         169.7
        ],
        [
         "P0282",
         69.59,
         62.63
        ],
        [
         "P0283",
         474.49,
         427.04
        ],
        [
         "P0284",
         352.26,
         317.03
        ],
        [
         "P0285",
         1123.4,
         1011.06
        ],
        [
         "P0286",
         1164.64,
         1048.18
        ],
        [
         "P0287",
         1084.4,
         975.96
        ],
        [
         "P0288",
         1486.02,
         1337.42
        ],
        [
         "P0289",
         1780.19,
         1602.17
        ],
        [
         "P0290",
         919.28,
         827.35
        ],
        [
         "P0291",
         890.9,
         801.81
        ],
        [
         "P0292",
         1339.35,
         1205.42
        ],
        [
         "P0293",
         107.68,
         96.91
        ],
        [
         "P0294",
         1054.65,
         949.19
        ],
        [
         "P0295",
         1938.35,
         1744.51
        ],
        [
         "P0296",
         1738.65,
         1564.79
        ],
        [
         "P0297",
         859.64,
         773.68
        ],
        [
         "P0298",
         1571.12,
         1414.01
        ],
        [
         "P0299",
         1170.51,
         1053.46
        ],
        [
         "P0300",
         1741.53,
         1567.38
        ],
        [
         "P0301",
         1005.47,
         904.92
        ],
        [
         "P0302",
         1017.38,
         915.64
        ],
        [
         "P0303",
         1052.48,
         947.23
        ],
        [
         "P0304",
         1039.68,
         935.71
        ],
        [
         "P0305",
         1089.74,
         980.77
        ],
        [
         "P0306",
         140.5,
         126.45
        ],
        [
         "P0307",
         1923.44,
         1731.1
        ],
        [
         "P0308",
         187.35,
         168.62
        ],
        [
         "P0309",
         445.2,
         400.68
        ],
        [
         "P0310",
         704.08,
         633.67
        ],
        [
         "P0311",
         454.3,
         408.87
        ],
        [
         "P0312",
         1500.97,
         1350.87
        ],
        [
         "P0313",
         985.34,
         886.81
        ],
        [
         "P0314",
         599.47,
         539.52
        ],
        [
         "P0315",
         1703.11,
         1532.8
        ],
        [
         "P0316",
         605.68,
         545.11
        ],
        [
         "P0317",
         1174.72,
         1057.25
        ],
        [
         "P0318",
         824.7,
         742.23
        ],
        [
         "P0319",
         1494.78,
         1345.3
        ],
        [
         "P0320",
         491.43,
         442.29
        ],
        [
         "P0321",
         1631.26,
         1468.13
        ],
        [
         "P0322",
         1731.88,
         1558.69
        ],
        [
         "P0323",
         1248.81,
         1123.93
        ],
        [
         "P0324",
         1819.96,
         1637.96
        ],
        [
         "P0325",
         1361.28,
         1225.15
        ],
        [
         "P0326",
         1688.79,
         1519.91
        ],
        [
         "P0327",
         943.0,
         848.7
        ],
        [
         "P0328",
         1928.38,
         1735.54
        ],
        [
         "P0329",
         1295.37,
         1165.83
        ],
        [
         "P0330",
         1241.75,
         1117.58
        ],
        [
         "P0331",
         1528.85,
         1375.97
        ],
        [
         "P0332",
         1369.33,
         1232.4
        ],
        [
         "P0333",
         1892.24,
         1703.02
        ],
        [
         "P0334",
         1560.27,
         1404.24
        ],
        [
         "P0335",
         1352.39,
         1217.15
        ],
        [
         "P0336",
         222.93,
         200.64
        ],
        [
         "P0337",
         1968.32,
         1771.49
        ],
        [
         "P0338",
         1844.1,
         1659.69
        ],
        [
         "P0339",
         1321.67,
         1189.5
        ],
        [
         "P0340",
         1635.48,
         1471.93
        ],
        [
         "P0341",
         1333.84,
         1200.46
        ],
        [
         "P0342",
         125.97,
         113.37
        ],
        [
         "P0343",
         539.06,
         485.15
        ],
        [
         "P0344",
         1118.86,
         1006.97
        ],
        [
         "P0345",
         1366.77,
         1230.09
        ],
        [
         "P0346",
         84.09,
         75.68
        ],
        [
         "P0347",
         452.69,
         407.42
        ],
        [
         "P0348",
         958.75,
         862.88
        ],
        [
         "P0349",
         1059.73,
         953.76
        ],
        [
         "P0350",
         758.98,
         683.08
        ],
        [
         "P0351",
         390.64,
         351.58
        ],
        [
         "P0352",
         1226.91,
         1104.22
        ],
        [
         "P0353",
         1464.67,
         1318.2
        ],
        [
         "P0354",
         289.67,
         260.7
        ],
        [
         "P0355",
         1804.42,
         1623.98
        ],
        [
         "P0356",
         97.91,
         88.12
        ],
        [
         "P0357",
         1705.13,
         1534.62
        ],
        [
         "P0358",
         1175.18,
         1057.66
        ],
        [
         "P0359",
         660.84,
         594.76
        ],
        [
         "P0360",
         175.53,
         157.98
        ],
        [
         "P0361",
         1572.29,
         1415.06
        ],
        [
         "P0362",
         1555.65,
         1400.09
        ],
        [
         "P0363",
         758.11,
         682.3
        ],
        [
         "P0364",
         930.34,
         837.31
        ],
        [
         "P0365",
         1542.85,
         1388.57
        ],
        [
         "P0366",
         1008.85,
         907.97
        ],
        [
         "P0367",
         776.79,
         699.11
        ],
        [
         "P0368",
         138.37,
         124.53
        ],
        [
         "P0369",
         1954.77,
         1759.29
        ],
        [
         "P0370",
         1000.0,
         900.0
        ],
        [
         "P0371",
         1479.94,
         1331.95
        ],
        [
         "P0372",
         1242.11,
         1117.9
        ],
        [
         "P0373",
         1858.79,
         1672.91
        ],
        [
         "P0374",
         1676.32,
         1508.69
        ],
        [
         "P0375",
         412.3,
         371.07
        ],
        [
         "P0376",
         1860.84,
         1674.76
        ],
        [
         "P0377",
         1298.87,
         1168.98
        ],
        [
         "P0378",
         1677.01,
         1509.31
        ],
        [
         "P0379",
         1028.64,
         925.78
        ],
        [
         "P0380",
         1721.21,
         1549.09
        ],
        [
         "P0381",
         1203.96,
         1083.56
        ],
        [
         "P0382",
         713.46,
         642.11
        ],
        [
         "P0383",
         180.91,
         162.82
        ],
        [
         "P0384",
         86.38,
         77.74
        ],
        [
         "P0385",
         1924.73,
         1732.26
        ],
        [
         "P0386",
         1294.16,
         1164.74
        ],
        [
         "P0387",
         1648.43,
         1483.59
        ],
        [
         "P0388",
         922.07,
         829.86
        ],
        [
         "P0389",
         458.59,
         412.73
        ],
        [
         "P0390",
         867.57,
         780.81
        ],
        [
         "P0391",
         1392.3,
         1253.07
        ],
        [
         "P0392",
         892.97,
         803.67
        ],
        [
         "P0393",
         1619.98,
         1457.98
        ],
        [
         "P0394",
         926.57,
         833.91
        ],
        [
         "P0395",
         1758.5,
         1582.65
        ],
        [
         "P0396",
         1566.87,
         1410.18
        ],
        [
         "P0397",
         1877.24,
         1689.52
        ],
        [
         "P0398",
         1825.42,
         1642.88
        ],
        [
         "P0399",
         1135.56,
         1022.0
        ],
        [
         "P0400",
         835.22,
         751.7
        ],
        [
         "P0401",
         392.57,
         353.31
        ],
        [
         "P0402",
         47.46,
         42.71
        ],
        [
         "P0403",
         1744.03,
         1569.63
        ],
        [
         "P0404",
         967.18,
         870.46
        ],
        [
         "P0405",
         1225.32,
         1102.79
        ],
        [
         "P0406",
         584.74,
         526.27
        ],
        [
         "P0407",
         584.71,
         526.24
        ],
        [
         "P0408",
         1167.48,
         1050.73
        ],
        [
         "P0409",
         890.11,
         801.1
        ],
        [
         "P0410",
         373.46,
         336.11
        ],
        [
         "P0411",
         873.95,
         786.56
        ],
        [
         "P0412",
         129.25,
         116.33
        ],
        [
         "P0413",
         342.07,
         307.86
        ],
        [
         "P0414",
         1456.9,
         1311.21
        ],
        [
         "P0415",
         1821.91,
         1639.72
        ],
        [
         "P0416",
         427.5,
         384.75
        ],
        [
         "P0417",
         111.34,
         100.21
        ],
        [
         "P0418",
         1844.36,
         1659.92
        ],
        [
         "P0419",
         629.71,
         566.74
        ],
        [
         "P0420",
         49.6,
         44.64
        ],
        [
         "P0421",
         1520.45,
         1368.41
        ],
        [
         "P0422",
         184.69,
         166.22
        ],
        [
         "P0423",
         990.07,
         891.06
        ],
        [
         "P0424",
         1141.78,
         1027.6
        ],
        [
         "P0425",
         1822.03,
         1639.83
        ],
        [
         "P0426",
         1956.82,
         1761.14
        ],
        [
         "P0427",
         1967.84,
         1771.06
        ],
        [
         "P0428",
         1582.19,
         1423.97
        ],
        [
         "P0429",
         1734.0,
         1560.6
        ],
        [
         "P0430",
         1386.32,
         1247.69
        ],
        [
         "P0431",
         682.1,
         613.89
        ],
        [
         "P0432",
         1287.08,
         1158.37
        ],
        [
         "P0433",
         1123.66,
         1011.29
        ],
        [
         "P0434",
         1689.45,
         1520.51
        ],
        [
         "P0435",
         1902.58,
         1712.32
        ],
        [
         "P0436",
         1781.45,
         1603.31
        ],
        [
         "P0437",
         465.4,
         418.86
        ],
        [
         "P0438",
         1309.15,
         1178.24
        ],
        [
         "P0439",
         1174.39,
         1056.95
        ],
        [
         "P0440",
         1983.25,
         1784.93
        ],
        [
         "P0441",
         1300.71,
         1170.64
        ],
        [
         "P0442",
         1811.22,
         1630.1
        ],
        [
         "P0443",
         685.07,
         616.56
        ],
        [
         "P0444",
         655.62,
         590.06
        ],
        [
         "P0445",
         792.65,
         713.39
        ],
        [
         "P0446",
         1016.83,
         915.15
        ],
        [
         "P0447",
         915.77,
         824.19
        ],
        [
         "P0448",
         1264.88,
         1138.39
        ],
        [
         "P0449",
         188.96,
         170.06
        ],
        [
         "P0450",
         985.83,
         887.25
        ],
        [
         "P0451",
         1663.54,
         1497.19
        ],
        [
         "P0452",
         1462.41,
         1316.17
        ],
        [
         "P0453",
         250.33,
         225.3
        ],
        [
         "P0454",
         324.49,
         292.04
        ],
        [
         "P0455",
         1884.65,
         1696.19
        ],
        [
         "P0456",
         1904.87,
         1714.38
        ],
        [
         "P0457",
         1731.23,
         1558.11
        ],
        [
         "P0458",
         629.24,
         566.32
        ],
        [
         "P0459",
         1208.62,
         1087.76
        ],
        [
         "P0460",
         1327.98,
         1195.18
        ],
        [
         "P0461",
         1367.65,
         1230.89
        ],
        [
         "P0462",
         1909.36,
         1718.42
        ],
        [
         "P0463",
         293.1,
         263.79
        ],
        [
         "P0464",
         638.63,
         574.77
        ],
        [
         "P0465",
         151.23,
         136.11
        ],
        [
         "P0466",
         1305.34,
         1174.81
        ],
        [
         "P0467",
         15.91,
         14.32
        ],
        [
         "P0468",
         1530.08,
         1377.07
        ],
        [
         "P0469",
         98.6,
         88.74
        ],
        [
         "P0470",
         649.66,
         584.69
        ],
        [
         "P0471",
         20.68,
         18.61
        ],
        [
         "P0472",
         1409.94,
         1268.95
        ],
        [
         "P0473",
         1878.18,
         1690.36
        ],
        [
         "P0474",
         1287.26,
         1158.53
        ],
        [
         "P0475",
         964.94,
         868.45
        ],
        [
         "P0476",
         259.13,
         233.22
        ],
        [
         "P0477",
         917.67,
         825.9
        ],
        [
         "P0478",
         630.56,
         567.5
        ],
        [
         "P0479",
         567.29,
         510.56
        ],
        [
         "P0480",
         492.92,
         443.63
        ],
        [
         "P0481",
         1554.11,
         1398.7
        ],
        [
         "P0482",
         1675.86,
         1508.27
        ],
        [
         "P0483",
         877.18,
         789.46
        ],
        [
         "P0484",
         1397.57,
         1257.81
        ],
        [
         "P0485",
         535.31,
         481.78
        ],
        [
         "P0486",
         315.25,
         283.73
        ],
        [
         "P0487",
         1666.94,
         1500.25
        ],
        [
         "P0488",
         1316.67,
         1185.0
        ],
        [
         "P0489",
         1923.44,
         1731.1
        ],
        [
         "P0490",
         1718.72,
         1546.85
        ],
        [
         "P0491",
         1602.21,
         1441.99
        ],
        [
         "P0492",
         121.07,
         108.96
        ],
        [
         "P0493",
         295.7,
         266.13
        ],
        [
         "P0494",
         1913.83,
         1722.45
        ],
        [
         "P0495",
         561.99,
         505.79
        ],
        [
         "P0496",
         137.62,
         123.86
        ],
        [
         "P0497",
         930.59,
         837.53
        ],
        [
         "P0498",
         1990.58,
         1791.52
        ],
        [
         "P0499",
         1774.16,
         1596.74
        ],
        [
         "P0500",
         322.4,
         290.16
        ]
       ],
       "datasetInfos": [],
       "dbfsResultPath": null,
       "isJsonSchema": true,
       "metadata": {
        "createTempViewForImplicitDf": true,
        "dataframeName": "_sqldf",
        "executionCount": 12
       },
       "overflow": false,
       "plotOptions": {
        "customPlotOptions": {},
        "displayType": "table",
        "pivotAggregation": null,
        "pivotColumns": null,
        "xColumns": null,
        "yColumns": null
       },
       "removedWidgets": [],
       "schema": [
        {
         "metadata": "{}",
         "name": "product_id",
         "type": "\"string\""
        },
        {
         "metadata": "{}",
         "name": "price",
         "type": "\"double\""
        },
        {
         "metadata": "{}",
         "name": "discounted_price",
         "type": "\"double\""
        }
       ],
       "type": "table"
      }
     },
     "output_type": "display_data"
    }
   ],
   "source": [
    "%sql\n",
    "SELECT product_id, price, round(`catalog-databricks`.bronze.discount_func(price), 2) discounted_price \n",
    "FROM v_products;"
   ]
  },
  {
   "cell_type": "markdown",
   "metadata": {
    "application/vnd.databricks.v1+cell": {
     "cellMetadata": {},
     "inputWidgets": {},
     "nuid": "1b648f3e-c5ab-4566-b29e-cb14200c9e06",
     "showTitle": false,
     "tableResultSettingsMap": {},
     "title": ""
    }
   },
   "source": [
    "### Creating functions using Python"
   ]
  },
  {
   "cell_type": "code",
   "execution_count": 0,
   "metadata": {
    "application/vnd.databricks.v1+cell": {
     "cellMetadata": {
      "byteLimit": 2048000,
      "implicitDf": true,
      "rowLimit": 10000
     },
     "inputWidgets": {},
     "nuid": "b9f6b889-573b-480e-97de-88a7d9e57ceb",
     "showTitle": false,
     "tableResultSettingsMap": {},
     "title": ""
    }
   },
   "outputs": [
    {
     "output_type": "display_data",
     "data": {
      "text/html": [
       "<style scoped>\n",
       "  .table-result-container {\n",
       "    max-height: 300px;\n",
       "    overflow: auto;\n",
       "  }\n",
       "  table, th, td {\n",
       "    border: 1px solid black;\n",
       "    border-collapse: collapse;\n",
       "  }\n",
       "  th, td {\n",
       "    padding: 5px;\n",
       "  }\n",
       "  th {\n",
       "    text-align: left;\n",
       "  }\n",
       "</style><div class='table-result-container'><table class='table-result'><thead style='background-color: white'><tr></tr></thead><tbody></tbody></table></div>"
      ]
     },
     "metadata": {
      "application/vnd.databricks.v1+output": {
       "addedWidgets": {},
       "aggData": [],
       "aggError": "",
       "aggOverflow": false,
       "aggSchema": [],
       "aggSeriesLimitReached": false,
       "aggType": "",
       "arguments": {},
       "columnCustomDisplayInfos": {},
       "data": [],
       "datasetInfos": [],
       "dbfsResultPath": null,
       "isJsonSchema": true,
       "metadata": {
        "dataframeName": null
       },
       "overflow": false,
       "plotOptions": {
        "customPlotOptions": {},
        "displayType": "table",
        "pivotAggregation": null,
        "pivotColumns": null,
        "xColumns": null,
        "yColumns": null
       },
       "removedWidgets": [],
       "schema": [],
       "type": "table"
      }
     },
     "output_type": "display_data"
    }
   ],
   "source": [
    "%sql\n",
    "CREATE OR REPLACE FUNCTION `catalog-databricks`.bronze.upper_func(p_brand STRING)\n",
    "RETURNS STRING\n",
    "LANGUAGE PYTHON\n",
    "AS \n",
    "$$\n",
    "  return p_brand.upper()\n",
    "$$"
   ]
  },
  {
   "cell_type": "code",
   "execution_count": 0,
   "metadata": {
    "application/vnd.databricks.v1+cell": {
     "cellMetadata": {
      "byteLimit": 2048000,
      "rowLimit": 10000
     },
     "inputWidgets": {},
     "nuid": "c4e488aa-6bb0-418b-88dd-d1f3cac78581",
     "showTitle": false,
     "tableResultSettingsMap": {},
     "title": ""
    }
   },
   "outputs": [
    {
     "output_type": "display_data",
     "data": {
      "text/html": [
       "<style scoped>\n",
       "  .table-result-container {\n",
       "    max-height: 300px;\n",
       "    overflow: auto;\n",
       "  }\n",
       "  table, th, td {\n",
       "    border: 1px solid black;\n",
       "    border-collapse: collapse;\n",
       "  }\n",
       "  th, td {\n",
       "    padding: 5px;\n",
       "  }\n",
       "  th {\n",
       "    text-align: left;\n",
       "  }\n",
       "</style><div class='table-result-container'><table class='table-result'><thead style='background-color: white'><tr><th>product_id</th><th>product_name</th><th>category</th><th>brand</th><th>price</th></tr></thead><tbody><tr><td>P0001</td><td>Clearly Its</td><td>Beauty</td><td>Nike</td><td>1868.54</td></tr><tr><td>P0002</td><td>Production Clear</td><td>Beauty</td><td>Apple</td><td>587.13</td></tr><tr><td>P0003</td><td>Culture Coach</td><td>Home</td><td>Revlon</td><td>1599.24</td></tr></tbody></table></div>"
      ]
     },
     "metadata": {
      "application/vnd.databricks.v1+output": {
       "addedWidgets": {},
       "aggData": [],
       "aggError": "",
       "aggOverflow": false,
       "aggSchema": [],
       "aggSeriesLimitReached": false,
       "aggType": "",
       "arguments": {},
       "columnCustomDisplayInfos": {},
       "data": [
        [
         "P0001",
         "Clearly Its",
         "Beauty",
         "Nike",
         1868.54
        ],
        [
         "P0002",
         "Production Clear",
         "Beauty",
         "Apple",
         587.13
        ],
        [
         "P0003",
         "Culture Coach",
         "Home",
         "Revlon",
         1599.24
        ]
       ],
       "datasetInfos": [],
       "dbfsResultPath": null,
       "isJsonSchema": true,
       "metadata": {},
       "overflow": false,
       "plotOptions": {
        "customPlotOptions": {},
        "displayType": "table",
        "pivotAggregation": null,
        "pivotColumns": null,
        "xColumns": null,
        "yColumns": null
       },
       "removedWidgets": [],
       "schema": [
        {
         "metadata": "{}",
         "name": "product_id",
         "type": "\"string\""
        },
        {
         "metadata": "{}",
         "name": "product_name",
         "type": "\"string\""
        },
        {
         "metadata": "{}",
         "name": "category",
         "type": "\"string\""
        },
        {
         "metadata": "{}",
         "name": "brand",
         "type": "\"string\""
        },
        {
         "metadata": "{}",
         "name": "price",
         "type": "\"double\""
        }
       ],
       "type": "table"
      }
     },
     "output_type": "display_data"
    }
   ],
   "source": [
    "products.limit(3).display()"
   ]
  },
  {
   "cell_type": "code",
   "execution_count": 0,
   "metadata": {
    "application/vnd.databricks.v1+cell": {
     "cellMetadata": {
      "byteLimit": 2048000,
      "implicitDf": true,
      "rowLimit": 10000
     },
     "inputWidgets": {},
     "nuid": "96505d31-e840-4c74-9be5-24d75e813e33",
     "showTitle": false,
     "tableResultSettingsMap": {},
     "title": ""
    }
   },
   "outputs": [
    {
     "output_type": "display_data",
     "data": {
      "text/html": [
       "<style scoped>\n",
       "  .table-result-container {\n",
       "    max-height: 300px;\n",
       "    overflow: auto;\n",
       "  }\n",
       "  table, th, td {\n",
       "    border: 1px solid black;\n",
       "    border-collapse: collapse;\n",
       "  }\n",
       "  th, td {\n",
       "    padding: 5px;\n",
       "  }\n",
       "  th {\n",
       "    text-align: left;\n",
       "  }\n",
       "</style><div class='table-result-container'><table class='table-result'><thead style='background-color: white'><tr><th>product_name</th><th>upper_prd_nm</th><th>brand</th><th>upper_brand_nm</th></tr></thead><tbody><tr><td>Clearly Its</td><td>CLEARLY ITS</td><td>Nike</td><td>NIKE</td></tr><tr><td>Production Clear</td><td>PRODUCTION CLEAR</td><td>Apple</td><td>APPLE</td></tr><tr><td>Culture Coach</td><td>CULTURE COACH</td><td>Revlon</td><td>REVLON</td></tr><tr><td>Movement Part</td><td>MOVEMENT PART</td><td>LG</td><td>LG</td></tr><tr><td>Fact Name</td><td>FACT NAME</td><td>Samsung</td><td>SAMSUNG</td></tr><tr><td>Usually Stop</td><td>USUALLY STOP</td><td>Adidas</td><td>ADIDAS</td></tr><tr><td>Reveal Current</td><td>REVEAL CURRENT</td><td>Adidas</td><td>ADIDAS</td></tr><tr><td>Force Language</td><td>FORCE LANGUAGE</td><td>Puma</td><td>PUMA</td></tr><tr><td>Stage Leg</td><td>STAGE LEG</td><td>Samsung</td><td>SAMSUNG</td></tr><tr><td>Leader Then</td><td>LEADER THEN</td><td>Sony</td><td>SONY</td></tr><tr><td>Term Rest</td><td>TERM REST</td><td>Adidas</td><td>ADIDAS</td></tr><tr><td>Theory Wrong</td><td>THEORY WRONG</td><td>Apple</td><td>APPLE</td></tr><tr><td>Democrat Book</td><td>DEMOCRAT BOOK</td><td>Puma</td><td>PUMA</td></tr><tr><td>Follow Brother</td><td>FOLLOW BROTHER</td><td>Dell</td><td>DELL</td></tr><tr><td>Pattern Story</td><td>PATTERN STORY</td><td>LG</td><td>LG</td></tr><tr><td>Policy Nor</td><td>POLICY NOR</td><td>Samsung</td><td>SAMSUNG</td></tr><tr><td>After Project</td><td>AFTER PROJECT</td><td>Revlon</td><td>REVLON</td></tr><tr><td>Technology Chance</td><td>TECHNOLOGY CHANCE</td><td>Puma</td><td>PUMA</td></tr><tr><td>Oil Station</td><td>OIL STATION</td><td>Samsung</td><td>SAMSUNG</td></tr><tr><td>Happen Truth</td><td>HAPPEN TRUTH</td><td>Nike</td><td>NIKE</td></tr><tr><td>Middle Everyone</td><td>MIDDLE EVERYONE</td><td>Nike</td><td>NIKE</td></tr><tr><td>Purpose Why</td><td>PURPOSE WHY</td><td>Puma</td><td>PUMA</td></tr><tr><td>Decade Message</td><td>DECADE MESSAGE</td><td>Adidas</td><td>ADIDAS</td></tr><tr><td>Really Phone</td><td>REALLY PHONE</td><td>Samsung</td><td>SAMSUNG</td></tr><tr><td>Until And</td><td>UNTIL AND</td><td>Nike</td><td>NIKE</td></tr><tr><td>Huge Find</td><td>HUGE FIND</td><td>Puma</td><td>PUMA</td></tr><tr><td>Local Open</td><td>LOCAL OPEN</td><td>Adidas</td><td>ADIDAS</td></tr><tr><td>Its Both</td><td>ITS BOTH</td><td>Puma</td><td>PUMA</td></tr><tr><td>Everything Open</td><td>EVERYTHING OPEN</td><td>Nike</td><td>NIKE</td></tr><tr><td>Hold Staff</td><td>HOLD STAFF</td><td>Lenovo</td><td>LENOVO</td></tr><tr><td>Part Oil</td><td>PART OIL</td><td>LG</td><td>LG</td></tr><tr><td>Relationship Live</td><td>RELATIONSHIP LIVE</td><td>Dell</td><td>DELL</td></tr><tr><td>Perform Such</td><td>PERFORM SUCH</td><td>Lenovo</td><td>LENOVO</td></tr><tr><td>Even Writer</td><td>EVEN WRITER</td><td>Samsung</td><td>SAMSUNG</td></tr><tr><td>Something Increase</td><td>SOMETHING INCREASE</td><td>Revlon</td><td>REVLON</td></tr><tr><td>Success Always</td><td>SUCCESS ALWAYS</td><td>Dell</td><td>DELL</td></tr><tr><td>Personal Over</td><td>PERSONAL OVER</td><td>Puma</td><td>PUMA</td></tr><tr><td>Edge Keep</td><td>EDGE KEEP</td><td>Revlon</td><td>REVLON</td></tr><tr><td>Before Do</td><td>BEFORE DO</td><td>Revlon</td><td>REVLON</td></tr><tr><td>Answer Require</td><td>ANSWER REQUIRE</td><td>Dell</td><td>DELL</td></tr><tr><td>Conference Article</td><td>CONFERENCE ARTICLE</td><td>Dell</td><td>DELL</td></tr><tr><td>Heavy Writer</td><td>HEAVY WRITER</td><td>Adidas</td><td>ADIDAS</td></tr><tr><td>Radio Thousand</td><td>RADIO THOUSAND</td><td>Revlon</td><td>REVLON</td></tr><tr><td>Such Beautiful</td><td>SUCH BEAUTIFUL</td><td>Dell</td><td>DELL</td></tr><tr><td>Certainly Sign</td><td>CERTAINLY SIGN</td><td>Sony</td><td>SONY</td></tr><tr><td>Exist Age</td><td>EXIST AGE</td><td>Samsung</td><td>SAMSUNG</td></tr><tr><td>Ever Could</td><td>EVER COULD</td><td>Revlon</td><td>REVLON</td></tr><tr><td>Share Quality</td><td>SHARE QUALITY</td><td>Revlon</td><td>REVLON</td></tr><tr><td>True Her</td><td>TRUE HER</td><td>Lenovo</td><td>LENOVO</td></tr><tr><td>North Big</td><td>NORTH BIG</td><td>Samsung</td><td>SAMSUNG</td></tr><tr><td>Form Social</td><td>FORM SOCIAL</td><td>Apple</td><td>APPLE</td></tr><tr><td>Total Tax</td><td>TOTAL TAX</td><td>Lenovo</td><td>LENOVO</td></tr><tr><td>News Look</td><td>NEWS LOOK</td><td>Samsung</td><td>SAMSUNG</td></tr><tr><td>Local Decide</td><td>LOCAL DECIDE</td><td>Adidas</td><td>ADIDAS</td></tr><tr><td>Seat Finish</td><td>SEAT FINISH</td><td>Sony</td><td>SONY</td></tr><tr><td>Weight Ground</td><td>WEIGHT GROUND</td><td>Nike</td><td>NIKE</td></tr><tr><td>Everything Song</td><td>EVERYTHING SONG</td><td>Samsung</td><td>SAMSUNG</td></tr><tr><td>Involve Present</td><td>INVOLVE PRESENT</td><td>LG</td><td>LG</td></tr><tr><td>Democratic Any</td><td>DEMOCRATIC ANY</td><td>Lenovo</td><td>LENOVO</td></tr><tr><td>Red Some</td><td>RED SOME</td><td>Nike</td><td>NIKE</td></tr><tr><td>Describe Continue</td><td>DESCRIBE CONTINUE</td><td>Sony</td><td>SONY</td></tr><tr><td>Always Citizen</td><td>ALWAYS CITIZEN</td><td>Samsung</td><td>SAMSUNG</td></tr><tr><td>Necessary Bad</td><td>NECESSARY BAD</td><td>Nike</td><td>NIKE</td></tr><tr><td>Size Although</td><td>SIZE ALTHOUGH</td><td>LG</td><td>LG</td></tr><tr><td>Democratic As</td><td>DEMOCRATIC AS</td><td>Lenovo</td><td>LENOVO</td></tr><tr><td>I Worker</td><td>I WORKER</td><td>Sony</td><td>SONY</td></tr><tr><td>Unit Election</td><td>UNIT ELECTION</td><td>Samsung</td><td>SAMSUNG</td></tr><tr><td>Response Audience</td><td>RESPONSE AUDIENCE</td><td>LG</td><td>LG</td></tr><tr><td>Weight Design</td><td>WEIGHT DESIGN</td><td>Lenovo</td><td>LENOVO</td></tr><tr><td>Or Against</td><td>OR AGAINST</td><td>Lenovo</td><td>LENOVO</td></tr><tr><td>Once Support</td><td>ONCE SUPPORT</td><td>Apple</td><td>APPLE</td></tr><tr><td>Station Fund</td><td>STATION FUND</td><td>Revlon</td><td>REVLON</td></tr><tr><td>Leave Reveal</td><td>LEAVE REVEAL</td><td>Adidas</td><td>ADIDAS</td></tr><tr><td>Pm Near</td><td>PM NEAR</td><td>Lenovo</td><td>LENOVO</td></tr><tr><td>Former Trade</td><td>FORMER TRADE</td><td>Samsung</td><td>SAMSUNG</td></tr><tr><td>Skill Need</td><td>SKILL NEED</td><td>Puma</td><td>PUMA</td></tr><tr><td>Quality Conference</td><td>QUALITY CONFERENCE</td><td>LG</td><td>LG</td></tr><tr><td>Their Worry</td><td>THEIR WORRY</td><td>LG</td><td>LG</td></tr><tr><td>Night Experience</td><td>NIGHT EXPERIENCE</td><td>LG</td><td>LG</td></tr><tr><td>But Decide</td><td>BUT DECIDE</td><td>Lenovo</td><td>LENOVO</td></tr><tr><td>Whose Available</td><td>WHOSE AVAILABLE</td><td>Nike</td><td>NIKE</td></tr><tr><td>Exist Interest</td><td>EXIST INTEREST</td><td>Apple</td><td>APPLE</td></tr><tr><td>Laugh Speak</td><td>LAUGH SPEAK</td><td>Dell</td><td>DELL</td></tr><tr><td>Little All</td><td>LITTLE ALL</td><td>Samsung</td><td>SAMSUNG</td></tr><tr><td>Hope Such</td><td>HOPE SUCH</td><td>Apple</td><td>APPLE</td></tr><tr><td>Save Own</td><td>SAVE OWN</td><td>Nike</td><td>NIKE</td></tr><tr><td>Service Personal</td><td>SERVICE PERSONAL</td><td>Sony</td><td>SONY</td></tr><tr><td>At Such</td><td>AT SUCH</td><td>Adidas</td><td>ADIDAS</td></tr><tr><td>Second Despite</td><td>SECOND DESPITE</td><td>LG</td><td>LG</td></tr><tr><td>Future Improve</td><td>FUTURE IMPROVE</td><td>Puma</td><td>PUMA</td></tr><tr><td>Nation Moment</td><td>NATION MOMENT</td><td>Samsung</td><td>SAMSUNG</td></tr><tr><td>Stand Fish</td><td>STAND FISH</td><td>Revlon</td><td>REVLON</td></tr><tr><td>Us Life</td><td>US LIFE</td><td>Puma</td><td>PUMA</td></tr><tr><td>Real Himself</td><td>REAL HIMSELF</td><td>LG</td><td>LG</td></tr><tr><td>Fund Tend</td><td>FUND TEND</td><td>Apple</td><td>APPLE</td></tr><tr><td>Public Voice</td><td>PUBLIC VOICE</td><td>Nike</td><td>NIKE</td></tr><tr><td>Crime Range</td><td>CRIME RANGE</td><td>Apple</td><td>APPLE</td></tr><tr><td>Item See</td><td>ITEM SEE</td><td>Puma</td><td>PUMA</td></tr><tr><td>Notice Rather</td><td>NOTICE RATHER</td><td>Adidas</td><td>ADIDAS</td></tr><tr><td>Oil Into</td><td>OIL INTO</td><td>Dell</td><td>DELL</td></tr><tr><td>Sister Tend</td><td>SISTER TEND</td><td>Puma</td><td>PUMA</td></tr><tr><td>Yourself Team</td><td>YOURSELF TEAM</td><td>LG</td><td>LG</td></tr><tr><td>Rich Page</td><td>RICH PAGE</td><td>Samsung</td><td>SAMSUNG</td></tr><tr><td>Fact Building</td><td>FACT BUILDING</td><td>Dell</td><td>DELL</td></tr><tr><td>Color Now</td><td>COLOR NOW</td><td>LG</td><td>LG</td></tr><tr><td>Research Mother</td><td>RESEARCH MOTHER</td><td>Sony</td><td>SONY</td></tr><tr><td>Degree Much</td><td>DEGREE MUCH</td><td>Adidas</td><td>ADIDAS</td></tr><tr><td>Southern Hear</td><td>SOUTHERN HEAR</td><td>Puma</td><td>PUMA</td></tr><tr><td>Seem South</td><td>SEEM SOUTH</td><td>Lenovo</td><td>LENOVO</td></tr><tr><td>Before Everybody</td><td>BEFORE EVERYBODY</td><td>Samsung</td><td>SAMSUNG</td></tr><tr><td>Decade Land</td><td>DECADE LAND</td><td>Adidas</td><td>ADIDAS</td></tr><tr><td>Study Heavy</td><td>STUDY HEAVY</td><td>Puma</td><td>PUMA</td></tr><tr><td>These Skill</td><td>THESE SKILL</td><td>Puma</td><td>PUMA</td></tr><tr><td>Kid Necessary</td><td>KID NECESSARY</td><td>Nike</td><td>NIKE</td></tr><tr><td>Subject Become</td><td>SUBJECT BECOME</td><td>Puma</td><td>PUMA</td></tr><tr><td>Very Forget</td><td>VERY FORGET</td><td>Sony</td><td>SONY</td></tr><tr><td>Before Product</td><td>BEFORE PRODUCT</td><td>Puma</td><td>PUMA</td></tr><tr><td>Start Threat</td><td>START THREAT</td><td>Lenovo</td><td>LENOVO</td></tr><tr><td>Carry View</td><td>CARRY VIEW</td><td>Sony</td><td>SONY</td></tr><tr><td>Direction Character</td><td>DIRECTION CHARACTER</td><td>Sony</td><td>SONY</td></tr><tr><td>Trade Drug</td><td>TRADE DRUG</td><td>Nike</td><td>NIKE</td></tr><tr><td>Tend Continue</td><td>TEND CONTINUE</td><td>LG</td><td>LG</td></tr><tr><td>Why Decide</td><td>WHY DECIDE</td><td>Nike</td><td>NIKE</td></tr><tr><td>Operation Century</td><td>OPERATION CENTURY</td><td>Puma</td><td>PUMA</td></tr><tr><td>Sort Summer</td><td>SORT SUMMER</td><td>Sony</td><td>SONY</td></tr><tr><td>Possible Which</td><td>POSSIBLE WHICH</td><td>Sony</td><td>SONY</td></tr><tr><td>Movement Picture</td><td>MOVEMENT PICTURE</td><td>Sony</td><td>SONY</td></tr><tr><td>Board Worker</td><td>BOARD WORKER</td><td>Apple</td><td>APPLE</td></tr><tr><td>North On</td><td>NORTH ON</td><td>Adidas</td><td>ADIDAS</td></tr><tr><td>Behavior Nothing</td><td>BEHAVIOR NOTHING</td><td>Adidas</td><td>ADIDAS</td></tr><tr><td>Too Example</td><td>TOO EXAMPLE</td><td>Revlon</td><td>REVLON</td></tr><tr><td>Issue Return</td><td>ISSUE RETURN</td><td>Samsung</td><td>SAMSUNG</td></tr><tr><td>Speak Small</td><td>SPEAK SMALL</td><td>LG</td><td>LG</td></tr><tr><td>Stand Fire</td><td>STAND FIRE</td><td>Puma</td><td>PUMA</td></tr><tr><td>Maybe Light</td><td>MAYBE LIGHT</td><td>Puma</td><td>PUMA</td></tr><tr><td>Year True</td><td>YEAR TRUE</td><td>Samsung</td><td>SAMSUNG</td></tr><tr><td>Thought Travel</td><td>THOUGHT TRAVEL</td><td>Lenovo</td><td>LENOVO</td></tr><tr><td>Already Series</td><td>ALREADY SERIES</td><td>Samsung</td><td>SAMSUNG</td></tr><tr><td>Seek President</td><td>SEEK PRESIDENT</td><td>Revlon</td><td>REVLON</td></tr><tr><td>Detail Bar</td><td>DETAIL BAR</td><td>Adidas</td><td>ADIDAS</td></tr><tr><td>Play Show</td><td>PLAY SHOW</td><td>Adidas</td><td>ADIDAS</td></tr><tr><td>Trouble Parent</td><td>TROUBLE PARENT</td><td>Adidas</td><td>ADIDAS</td></tr><tr><td>One Like</td><td>ONE LIKE</td><td>Apple</td><td>APPLE</td></tr><tr><td>Admit Street</td><td>ADMIT STREET</td><td>Apple</td><td>APPLE</td></tr><tr><td>House Everything</td><td>HOUSE EVERYTHING</td><td>Puma</td><td>PUMA</td></tr><tr><td>Building Drive</td><td>BUILDING DRIVE</td><td>Sony</td><td>SONY</td></tr><tr><td>Among Success</td><td>AMONG SUCCESS</td><td>Lenovo</td><td>LENOVO</td></tr><tr><td>Politics Friend</td><td>POLITICS FRIEND</td><td>Dell</td><td>DELL</td></tr><tr><td>Middle Price</td><td>MIDDLE PRICE</td><td>Samsung</td><td>SAMSUNG</td></tr><tr><td>Nice Clearly</td><td>NICE CLEARLY</td><td>Samsung</td><td>SAMSUNG</td></tr><tr><td>Cup Per</td><td>CUP PER</td><td>Apple</td><td>APPLE</td></tr><tr><td>Not Wait</td><td>NOT WAIT</td><td>LG</td><td>LG</td></tr><tr><td>Brother Four</td><td>BROTHER FOUR</td><td>Apple</td><td>APPLE</td></tr><tr><td>Trip Within</td><td>TRIP WITHIN</td><td>Samsung</td><td>SAMSUNG</td></tr><tr><td>Laugh Score</td><td>LAUGH SCORE</td><td>Dell</td><td>DELL</td></tr><tr><td>Put After</td><td>PUT AFTER</td><td>Sony</td><td>SONY</td></tr><tr><td>Race Provide</td><td>RACE PROVIDE</td><td>Adidas</td><td>ADIDAS</td></tr><tr><td>Pm Plant</td><td>PM PLANT</td><td>Adidas</td><td>ADIDAS</td></tr><tr><td>Politics Along</td><td>POLITICS ALONG</td><td>Lenovo</td><td>LENOVO</td></tr><tr><td>Parent Into</td><td>PARENT INTO</td><td>Nike</td><td>NIKE</td></tr><tr><td>Need Book</td><td>NEED BOOK</td><td>LG</td><td>LG</td></tr><tr><td>West This</td><td>WEST THIS</td><td>Adidas</td><td>ADIDAS</td></tr><tr><td>Tree Role</td><td>TREE ROLE</td><td>Dell</td><td>DELL</td></tr><tr><td>Word Hard</td><td>WORD HARD</td><td>Lenovo</td><td>LENOVO</td></tr><tr><td>Son Drug</td><td>SON DRUG</td><td>Adidas</td><td>ADIDAS</td></tr><tr><td>Look Field</td><td>LOOK FIELD</td><td>Samsung</td><td>SAMSUNG</td></tr><tr><td>Early Course</td><td>EARLY COURSE</td><td>Adidas</td><td>ADIDAS</td></tr><tr><td>Generation Day</td><td>GENERATION DAY</td><td>Sony</td><td>SONY</td></tr><tr><td>Position Bank</td><td>POSITION BANK</td><td>Sony</td><td>SONY</td></tr><tr><td>Second Start</td><td>SECOND START</td><td>Lenovo</td><td>LENOVO</td></tr><tr><td>Option Necessary</td><td>OPTION NECESSARY</td><td>Lenovo</td><td>LENOVO</td></tr><tr><td>Commercial Through</td><td>COMMERCIAL THROUGH</td><td>Sony</td><td>SONY</td></tr><tr><td>Nearly When</td><td>NEARLY WHEN</td><td>Samsung</td><td>SAMSUNG</td></tr><tr><td>Weight Tax</td><td>WEIGHT TAX</td><td>Lenovo</td><td>LENOVO</td></tr><tr><td>Enjoy Throughout</td><td>ENJOY THROUGHOUT</td><td>Apple</td><td>APPLE</td></tr><tr><td>Team Foreign</td><td>TEAM FOREIGN</td><td>Adidas</td><td>ADIDAS</td></tr><tr><td>Article Smile</td><td>ARTICLE SMILE</td><td>Nike</td><td>NIKE</td></tr><tr><td>Finally Suddenly</td><td>FINALLY SUDDENLY</td><td>Adidas</td><td>ADIDAS</td></tr><tr><td>Base Significant</td><td>BASE SIGNIFICANT</td><td>Samsung</td><td>SAMSUNG</td></tr><tr><td>Form Management</td><td>FORM MANAGEMENT</td><td>Sony</td><td>SONY</td></tr><tr><td>Of Seek</td><td>OF SEEK</td><td>LG</td><td>LG</td></tr><tr><td>Health I</td><td>HEALTH I</td><td>Apple</td><td>APPLE</td></tr><tr><td>Born Focus</td><td>BORN FOCUS</td><td>Samsung</td><td>SAMSUNG</td></tr><tr><td>Main Majority</td><td>MAIN MAJORITY</td><td>Adidas</td><td>ADIDAS</td></tr><tr><td>Authority Director</td><td>AUTHORITY DIRECTOR</td><td>Apple</td><td>APPLE</td></tr><tr><td>Tv Size</td><td>TV SIZE</td><td>Revlon</td><td>REVLON</td></tr><tr><td>Number They</td><td>NUMBER THEY</td><td>Nike</td><td>NIKE</td></tr><tr><td>Able Seat</td><td>ABLE SEAT</td><td>Adidas</td><td>ADIDAS</td></tr><tr><td>Commercial Boy</td><td>COMMERCIAL BOY</td><td>Puma</td><td>PUMA</td></tr><tr><td>Set Whom</td><td>SET WHOM</td><td>Samsung</td><td>SAMSUNG</td></tr><tr><td>Myself Performance</td><td>MYSELF PERFORMANCE</td><td>Revlon</td><td>REVLON</td></tr><tr><td>Up Management</td><td>UP MANAGEMENT</td><td>Apple</td><td>APPLE</td></tr><tr><td>Early They</td><td>EARLY THEY</td><td>Nike</td><td>NIKE</td></tr><tr><td>Charge Through</td><td>CHARGE THROUGH</td><td>Revlon</td><td>REVLON</td></tr><tr><td>Leg In</td><td>LEG IN</td><td>Adidas</td><td>ADIDAS</td></tr><tr><td>Study Teach</td><td>STUDY TEACH</td><td>Adidas</td><td>ADIDAS</td></tr><tr><td>Old Ball</td><td>OLD BALL</td><td>Revlon</td><td>REVLON</td></tr><tr><td>Information Life</td><td>INFORMATION LIFE</td><td>Samsung</td><td>SAMSUNG</td></tr><tr><td>Data Structure</td><td>DATA STRUCTURE</td><td>Sony</td><td>SONY</td></tr><tr><td>Close Knowledge</td><td>CLOSE KNOWLEDGE</td><td>Apple</td><td>APPLE</td></tr><tr><td>Professional Test</td><td>PROFESSIONAL TEST</td><td>Samsung</td><td>SAMSUNG</td></tr><tr><td>Analysis The</td><td>ANALYSIS THE</td><td>Adidas</td><td>ADIDAS</td></tr><tr><td>Difficult Around</td><td>DIFFICULT AROUND</td><td>Samsung</td><td>SAMSUNG</td></tr><tr><td>Show Teacher</td><td>SHOW TEACHER</td><td>Adidas</td><td>ADIDAS</td></tr><tr><td>Attorney I</td><td>ATTORNEY I</td><td>LG</td><td>LG</td></tr><tr><td>Remember Stuff</td><td>REMEMBER STUFF</td><td>Apple</td><td>APPLE</td></tr><tr><td>Year Much</td><td>YEAR MUCH</td><td>Adidas</td><td>ADIDAS</td></tr><tr><td>Rather Require</td><td>RATHER REQUIRE</td><td>Adidas</td><td>ADIDAS</td></tr><tr><td>Catch Local</td><td>CATCH LOCAL</td><td>Revlon</td><td>REVLON</td></tr><tr><td>Learn Weight</td><td>LEARN WEIGHT</td><td>Apple</td><td>APPLE</td></tr><tr><td>Check Line</td><td>CHECK LINE</td><td>Nike</td><td>NIKE</td></tr><tr><td>Per Leader</td><td>PER LEADER</td><td>Adidas</td><td>ADIDAS</td></tr><tr><td>Suggest Chance</td><td>SUGGEST CHANCE</td><td>Samsung</td><td>SAMSUNG</td></tr><tr><td>Site Trip</td><td>SITE TRIP</td><td>Revlon</td><td>REVLON</td></tr><tr><td>Trouble Treatment</td><td>TROUBLE TREATMENT</td><td>Adidas</td><td>ADIDAS</td></tr><tr><td>Every Page</td><td>EVERY PAGE</td><td>Adidas</td><td>ADIDAS</td></tr><tr><td>Vote Tree</td><td>VOTE TREE</td><td>Puma</td><td>PUMA</td></tr><tr><td>Sea Clear</td><td>SEA CLEAR</td><td>Nike</td><td>NIKE</td></tr><tr><td>Per Voice</td><td>PER VOICE</td><td>Dell</td><td>DELL</td></tr><tr><td>Term Fine</td><td>TERM FINE</td><td>Dell</td><td>DELL</td></tr><tr><td>Player Summer</td><td>PLAYER SUMMER</td><td>Lenovo</td><td>LENOVO</td></tr><tr><td>Respond Knowledge</td><td>RESPOND KNOWLEDGE</td><td>Samsung</td><td>SAMSUNG</td></tr><tr><td>Believe Activity</td><td>BELIEVE ACTIVITY</td><td>Lenovo</td><td>LENOVO</td></tr><tr><td>Federal Around</td><td>FEDERAL AROUND</td><td>Apple</td><td>APPLE</td></tr><tr><td>Discussion Region</td><td>DISCUSSION REGION</td><td>Nike</td><td>NIKE</td></tr><tr><td>Care North</td><td>CARE NORTH</td><td>Lenovo</td><td>LENOVO</td></tr><tr><td>Need Method</td><td>NEED METHOD</td><td>Nike</td><td>NIKE</td></tr><tr><td>Citizen Item</td><td>CITIZEN ITEM</td><td>Puma</td><td>PUMA</td></tr><tr><td>Material If</td><td>MATERIAL IF</td><td>Lenovo</td><td>LENOVO</td></tr><tr><td>Old Increase</td><td>OLD INCREASE</td><td>Samsung</td><td>SAMSUNG</td></tr><tr><td>Do Chair</td><td>DO CHAIR</td><td>Revlon</td><td>REVLON</td></tr><tr><td>Would Along</td><td>WOULD ALONG</td><td>Adidas</td><td>ADIDAS</td></tr><tr><td>Second Learn</td><td>SECOND LEARN</td><td>Lenovo</td><td>LENOVO</td></tr><tr><td>Guess At</td><td>GUESS AT</td><td>Sony</td><td>SONY</td></tr><tr><td>Country Knowledge</td><td>COUNTRY KNOWLEDGE</td><td>Adidas</td><td>ADIDAS</td></tr><tr><td>War Involve</td><td>WAR INVOLVE</td><td>Samsung</td><td>SAMSUNG</td></tr><tr><td>As Push</td><td>AS PUSH</td><td>Samsung</td><td>SAMSUNG</td></tr><tr><td>Air Life</td><td>AIR LIFE</td><td>Revlon</td><td>REVLON</td></tr><tr><td>Show Finally</td><td>SHOW FINALLY</td><td>Nike</td><td>NIKE</td></tr><tr><td>Six Senior</td><td>SIX SENIOR</td><td>Samsung</td><td>SAMSUNG</td></tr><tr><td>Edge Civil</td><td>EDGE CIVIL</td><td>Puma</td><td>PUMA</td></tr><tr><td>Radio Lot</td><td>RADIO LOT</td><td>Samsung</td><td>SAMSUNG</td></tr><tr><td>Recent The</td><td>RECENT THE</td><td>Lenovo</td><td>LENOVO</td></tr><tr><td>Run Market</td><td>RUN MARKET</td><td>Revlon</td><td>REVLON</td></tr><tr><td>Occur Attention</td><td>OCCUR ATTENTION</td><td>LG</td><td>LG</td></tr><tr><td>Great Field</td><td>GREAT FIELD</td><td>Adidas</td><td>ADIDAS</td></tr><tr><td>Step Information</td><td>STEP INFORMATION</td><td>Sony</td><td>SONY</td></tr><tr><td>Develop International</td><td>DEVELOP INTERNATIONAL</td><td>Revlon</td><td>REVLON</td></tr><tr><td>There True</td><td>THERE TRUE</td><td>Puma</td><td>PUMA</td></tr><tr><td>Half Ten</td><td>HALF TEN</td><td>Samsung</td><td>SAMSUNG</td></tr><tr><td>Business Own</td><td>BUSINESS OWN</td><td>Lenovo</td><td>LENOVO</td></tr><tr><td>Late Thus</td><td>LATE THUS</td><td>Sony</td><td>SONY</td></tr><tr><td>Onto Owner</td><td>ONTO OWNER</td><td>Lenovo</td><td>LENOVO</td></tr><tr><td>According Because</td><td>ACCORDING BECAUSE</td><td>Lenovo</td><td>LENOVO</td></tr><tr><td>Activity Western</td><td>ACTIVITY WESTERN</td><td>Lenovo</td><td>LENOVO</td></tr><tr><td>Note Worker</td><td>NOTE WORKER</td><td>Lenovo</td><td>LENOVO</td></tr><tr><td>Executive Art</td><td>EXECUTIVE ART</td><td>Nike</td><td>NIKE</td></tr><tr><td>Culture Follow</td><td>CULTURE FOLLOW</td><td>Revlon</td><td>REVLON</td></tr><tr><td>Against Kind</td><td>AGAINST KIND</td><td>Puma</td><td>PUMA</td></tr><tr><td>About Buy</td><td>ABOUT BUY</td><td>Revlon</td><td>REVLON</td></tr><tr><td>Capital Well</td><td>CAPITAL WELL</td><td>Dell</td><td>DELL</td></tr><tr><td>Decade Left</td><td>DECADE LEFT</td><td>Samsung</td><td>SAMSUNG</td></tr><tr><td>Machine Heart</td><td>MACHINE HEART</td><td>Nike</td><td>NIKE</td></tr><tr><td>Thought Heavy</td><td>THOUGHT HEAVY</td><td>Apple</td><td>APPLE</td></tr><tr><td>Image No</td><td>IMAGE NO</td><td>Nike</td><td>NIKE</td></tr><tr><td>Specific You</td><td>SPECIFIC YOU</td><td>LG</td><td>LG</td></tr><tr><td>Painting Daughter</td><td>PAINTING DAUGHTER</td><td>Adidas</td><td>ADIDAS</td></tr><tr><td>Man Near</td><td>MAN NEAR</td><td>Dell</td><td>DELL</td></tr><tr><td>Grow Fly</td><td>GROW FLY</td><td>Lenovo</td><td>LENOVO</td></tr><tr><td>Candidate Question</td><td>CANDIDATE QUESTION</td><td>Samsung</td><td>SAMSUNG</td></tr><tr><td>Notice Town</td><td>NOTICE TOWN</td><td>Puma</td><td>PUMA</td></tr><tr><td>Defense Either</td><td>DEFENSE EITHER</td><td>Dell</td><td>DELL</td></tr><tr><td>Peace When</td><td>PEACE WHEN</td><td>Nike</td><td>NIKE</td></tr><tr><td>Always Debate</td><td>ALWAYS DEBATE</td><td>Samsung</td><td>SAMSUNG</td></tr><tr><td>Piece Information</td><td>PIECE INFORMATION</td><td>Sony</td><td>SONY</td></tr><tr><td>Team Support</td><td>TEAM SUPPORT</td><td>Puma</td><td>PUMA</td></tr><tr><td>Field White</td><td>FIELD WHITE</td><td>Dell</td><td>DELL</td></tr><tr><td>Similar Can</td><td>SIMILAR CAN</td><td>Revlon</td><td>REVLON</td></tr><tr><td>Fast Situation</td><td>FAST SITUATION</td><td>Lenovo</td><td>LENOVO</td></tr><tr><td>Financial Enough</td><td>FINANCIAL ENOUGH</td><td>Puma</td><td>PUMA</td></tr><tr><td>Hot Customer</td><td>HOT CUSTOMER</td><td>Puma</td><td>PUMA</td></tr><tr><td>Matter To</td><td>MATTER TO</td><td>Samsung</td><td>SAMSUNG</td></tr><tr><td>Southern Team</td><td>SOUTHERN TEAM</td><td>Nike</td><td>NIKE</td></tr><tr><td>Population Account</td><td>POPULATION ACCOUNT</td><td>Puma</td><td>PUMA</td></tr><tr><td>Cultural Beat</td><td>CULTURAL BEAT</td><td>Revlon</td><td>REVLON</td></tr><tr><td>Blood Chair</td><td>BLOOD CHAIR</td><td>Adidas</td><td>ADIDAS</td></tr><tr><td>Evening Natural</td><td>EVENING NATURAL</td><td>Puma</td><td>PUMA</td></tr><tr><td>Source Hour</td><td>SOURCE HOUR</td><td>Lenovo</td><td>LENOVO</td></tr><tr><td>Finish Everything</td><td>FINISH EVERYTHING</td><td>Puma</td><td>PUMA</td></tr><tr><td>Room Public</td><td>ROOM PUBLIC</td><td>LG</td><td>LG</td></tr><tr><td>Able Media</td><td>ABLE MEDIA</td><td>LG</td><td>LG</td></tr><tr><td>Very Event</td><td>VERY EVENT</td><td>Sony</td><td>SONY</td></tr><tr><td>Degree Agency</td><td>DEGREE AGENCY</td><td>LG</td><td>LG</td></tr><tr><td>Dark Former</td><td>DARK FORMER</td><td>Lenovo</td><td>LENOVO</td></tr><tr><td>Participant Kitchen</td><td>PARTICIPANT KITCHEN</td><td>Puma</td><td>PUMA</td></tr><tr><td>Garden Reach</td><td>GARDEN REACH</td><td>Nike</td><td>NIKE</td></tr><tr><td>Turn Degree</td><td>TURN DEGREE</td><td>Nike</td><td>NIKE</td></tr><tr><td>Talk Offer</td><td>TALK OFFER</td><td>Revlon</td><td>REVLON</td></tr><tr><td>Look Mention</td><td>LOOK MENTION</td><td>Apple</td><td>APPLE</td></tr><tr><td>Amount Politics</td><td>AMOUNT POLITICS</td><td>Sony</td><td>SONY</td></tr><tr><td>Side Note</td><td>SIDE NOTE</td><td>Adidas</td><td>ADIDAS</td></tr><tr><td>Three Seven</td><td>THREE SEVEN</td><td>Nike</td><td>NIKE</td></tr><tr><td>Child Help</td><td>CHILD HELP</td><td>LG</td><td>LG</td></tr><tr><td>Our Arrive</td><td>OUR ARRIVE</td><td>Adidas</td><td>ADIDAS</td></tr><tr><td>Score Choice</td><td>SCORE CHOICE</td><td>Puma</td><td>PUMA</td></tr><tr><td>Six Speak</td><td>SIX SPEAK</td><td>Samsung</td><td>SAMSUNG</td></tr><tr><td>Culture Specific</td><td>CULTURE SPECIFIC</td><td>Lenovo</td><td>LENOVO</td></tr><tr><td>And Agent</td><td>AND AGENT</td><td>Nike</td><td>NIKE</td></tr><tr><td>Nor Prepare</td><td>NOR PREPARE</td><td>Apple</td><td>APPLE</td></tr><tr><td>Ok Leave</td><td>OK LEAVE</td><td>Samsung</td><td>SAMSUNG</td></tr><tr><td>Blue Live</td><td>BLUE LIVE</td><td>Revlon</td><td>REVLON</td></tr><tr><td>Big Similar</td><td>BIG SIMILAR</td><td>Puma</td><td>PUMA</td></tr><tr><td>Try You</td><td>TRY YOU</td><td>Samsung</td><td>SAMSUNG</td></tr><tr><td>Protect Hope</td><td>PROTECT HOPE</td><td>Nike</td><td>NIKE</td></tr><tr><td>Work Party</td><td>WORK PARTY</td><td>Dell</td><td>DELL</td></tr><tr><td>Sell State</td><td>SELL STATE</td><td>Puma</td><td>PUMA</td></tr><tr><td>Trade Region</td><td>TRADE REGION</td><td>Dell</td><td>DELL</td></tr><tr><td>History Create</td><td>HISTORY CREATE</td><td>Samsung</td><td>SAMSUNG</td></tr><tr><td>Trouble Street</td><td>TROUBLE STREET</td><td>Nike</td><td>NIKE</td></tr><tr><td>Whole Road</td><td>WHOLE ROAD</td><td>Adidas</td><td>ADIDAS</td></tr><tr><td>They As</td><td>THEY AS</td><td>Lenovo</td><td>LENOVO</td></tr><tr><td>Part Traditional</td><td>PART TRADITIONAL</td><td>Dell</td><td>DELL</td></tr><tr><td>Professor What</td><td>PROFESSOR WHAT</td><td>Lenovo</td><td>LENOVO</td></tr><tr><td>Light Idea</td><td>LIGHT IDEA</td><td>Nike</td><td>NIKE</td></tr><tr><td>Right Program</td><td>RIGHT PROGRAM</td><td>Lenovo</td><td>LENOVO</td></tr><tr><td>Safe Loss</td><td>SAFE LOSS</td><td>Nike</td><td>NIKE</td></tr><tr><td>Garden Shake</td><td>GARDEN SHAKE</td><td>Sony</td><td>SONY</td></tr><tr><td>Space Person</td><td>SPACE PERSON</td><td>Lenovo</td><td>LENOVO</td></tr><tr><td>Range However</td><td>RANGE HOWEVER</td><td>Nike</td><td>NIKE</td></tr><tr><td>Main Student</td><td>MAIN STUDENT</td><td>LG</td><td>LG</td></tr><tr><td>Let Positive</td><td>LET POSITIVE</td><td>LG</td><td>LG</td></tr><tr><td>Thus Make</td><td>THUS MAKE</td><td>Lenovo</td><td>LENOVO</td></tr><tr><td>History Easy</td><td>HISTORY EASY</td><td>Sony</td><td>SONY</td></tr><tr><td>Customer Loss</td><td>CUSTOMER LOSS</td><td>Lenovo</td><td>LENOVO</td></tr><tr><td>Type Area</td><td>TYPE AREA</td><td>Samsung</td><td>SAMSUNG</td></tr><tr><td>Shake Current</td><td>SHAKE CURRENT</td><td>Dell</td><td>DELL</td></tr><tr><td>Very Include</td><td>VERY INCLUDE</td><td>Samsung</td><td>SAMSUNG</td></tr><tr><td>Service Military</td><td>SERVICE MILITARY</td><td>LG</td><td>LG</td></tr><tr><td>Rule Site</td><td>RULE SITE</td><td>LG</td><td>LG</td></tr><tr><td>Though Pretty</td><td>THOUGH PRETTY</td><td>Adidas</td><td>ADIDAS</td></tr><tr><td>Me Small</td><td>ME SMALL</td><td>Lenovo</td><td>LENOVO</td></tr><tr><td>Trouble Over</td><td>TROUBLE OVER</td><td>Nike</td><td>NIKE</td></tr><tr><td>Yeah Former</td><td>YEAH FORMER</td><td>Sony</td><td>SONY</td></tr><tr><td>House Enter</td><td>HOUSE ENTER</td><td>Nike</td><td>NIKE</td></tr><tr><td>Federal Sport</td><td>FEDERAL SPORT</td><td>Apple</td><td>APPLE</td></tr><tr><td>International Yes</td><td>INTERNATIONAL YES</td><td>Dell</td><td>DELL</td></tr><tr><td>Painting Kid</td><td>PAINTING KID</td><td>Sony</td><td>SONY</td></tr><tr><td>Late Smile</td><td>LATE SMILE</td><td>LG</td><td>LG</td></tr><tr><td>Less Can</td><td>LESS CAN</td><td>LG</td><td>LG</td></tr><tr><td>Garden Blue</td><td>GARDEN BLUE</td><td>Dell</td><td>DELL</td></tr><tr><td>Debate Whether</td><td>DEBATE WHETHER</td><td>Samsung</td><td>SAMSUNG</td></tr><tr><td>About Room</td><td>ABOUT ROOM</td><td>Sony</td><td>SONY</td></tr><tr><td>Local Big</td><td>LOCAL BIG</td><td>Adidas</td><td>ADIDAS</td></tr><tr><td>Stop As</td><td>STOP AS</td><td>Samsung</td><td>SAMSUNG</td></tr><tr><td>Itself Explain</td><td>ITSELF EXPLAIN</td><td>Apple</td><td>APPLE</td></tr><tr><td>Method Authority</td><td>METHOD AUTHORITY</td><td>Samsung</td><td>SAMSUNG</td></tr><tr><td>The Seek</td><td>THE SEEK</td><td>Adidas</td><td>ADIDAS</td></tr><tr><td>Quickly Republican</td><td>QUICKLY REPUBLICAN</td><td>Samsung</td><td>SAMSUNG</td></tr><tr><td>Feel Describe</td><td>FEEL DESCRIBE</td><td>Lenovo</td><td>LENOVO</td></tr><tr><td>Reveal Organization</td><td>REVEAL ORGANIZATION</td><td>Lenovo</td><td>LENOVO</td></tr><tr><td>Energy Lay</td><td>ENERGY LAY</td><td>LG</td><td>LG</td></tr><tr><td>Reality Network</td><td>REALITY NETWORK</td><td>Revlon</td><td>REVLON</td></tr><tr><td>Score Read</td><td>SCORE READ</td><td>Nike</td><td>NIKE</td></tr><tr><td>What Describe</td><td>WHAT DESCRIBE</td><td>Dell</td><td>DELL</td></tr><tr><td>Available Rich</td><td>AVAILABLE RICH</td><td>Revlon</td><td>REVLON</td></tr><tr><td>Seek Position</td><td>SEEK POSITION</td><td>Apple</td><td>APPLE</td></tr><tr><td>Human See</td><td>HUMAN SEE</td><td>Nike</td><td>NIKE</td></tr><tr><td>National Various</td><td>NATIONAL VARIOUS</td><td>Dell</td><td>DELL</td></tr><tr><td>Spend Account</td><td>SPEND ACCOUNT</td><td>Apple</td><td>APPLE</td></tr><tr><td>Artist Protect</td><td>ARTIST PROTECT</td><td>Lenovo</td><td>LENOVO</td></tr><tr><td>Possible So</td><td>POSSIBLE SO</td><td>Dell</td><td>DELL</td></tr><tr><td>Level Rock</td><td>LEVEL ROCK</td><td>Dell</td><td>DELL</td></tr><tr><td>Wrong Building</td><td>WRONG BUILDING</td><td>Puma</td><td>PUMA</td></tr><tr><td>Whom Century</td><td>WHOM CENTURY</td><td>LG</td><td>LG</td></tr><tr><td>Local Evening</td><td>LOCAL EVENING</td><td>Sony</td><td>SONY</td></tr><tr><td>Piece Raise</td><td>PIECE RAISE</td><td>Adidas</td><td>ADIDAS</td></tr><tr><td>Think None</td><td>THINK NONE</td><td>Dell</td><td>DELL</td></tr><tr><td>Economy Court</td><td>ECONOMY COURT</td><td>Dell</td><td>DELL</td></tr><tr><td>Ball Base</td><td>BALL BASE</td><td>Sony</td><td>SONY</td></tr><tr><td>Blue Finally</td><td>BLUE FINALLY</td><td>Dell</td><td>DELL</td></tr><tr><td>Tend Inside</td><td>TEND INSIDE</td><td>Adidas</td><td>ADIDAS</td></tr><tr><td>Five Force</td><td>FIVE FORCE</td><td>Apple</td><td>APPLE</td></tr><tr><td>Popular Herself</td><td>POPULAR HERSELF</td><td>Revlon</td><td>REVLON</td></tr><tr><td>Issue Doctor</td><td>ISSUE DOCTOR</td><td>Puma</td><td>PUMA</td></tr><tr><td>Old Hand</td><td>OLD HAND</td><td>Revlon</td><td>REVLON</td></tr><tr><td>Style Again</td><td>STYLE AGAIN</td><td>Revlon</td><td>REVLON</td></tr><tr><td>Affect Continue</td><td>AFFECT CONTINUE</td><td>Dell</td><td>DELL</td></tr><tr><td>Professional Physical</td><td>PROFESSIONAL PHYSICAL</td><td>Puma</td><td>PUMA</td></tr><tr><td>Necessary Upon</td><td>NECESSARY UPON</td><td>Sony</td><td>SONY</td></tr><tr><td>Leader Security</td><td>LEADER SECURITY</td><td>Lenovo</td><td>LENOVO</td></tr><tr><td>Serious Information</td><td>SERIOUS INFORMATION</td><td>Sony</td><td>SONY</td></tr><tr><td>Customer Or</td><td>CUSTOMER OR</td><td>Apple</td><td>APPLE</td></tr><tr><td>Goal Ground</td><td>GOAL GROUND</td><td>Sony</td><td>SONY</td></tr><tr><td>Beautiful Small</td><td>BEAUTIFUL SMALL</td><td>Samsung</td><td>SAMSUNG</td></tr><tr><td>Song Approach</td><td>SONG APPROACH</td><td>Samsung</td><td>SAMSUNG</td></tr><tr><td>Pattern Age</td><td>PATTERN AGE</td><td>Lenovo</td><td>LENOVO</td></tr><tr><td>Civil Action</td><td>CIVIL ACTION</td><td>Apple</td><td>APPLE</td></tr><tr><td>Floor Daughter</td><td>FLOOR DAUGHTER</td><td>Apple</td><td>APPLE</td></tr><tr><td>Parent Reflect</td><td>PARENT REFLECT</td><td>Nike</td><td>NIKE</td></tr><tr><td>Any Buy</td><td>ANY BUY</td><td>Sony</td><td>SONY</td></tr><tr><td>Design Machine</td><td>DESIGN MACHINE</td><td>Dell</td><td>DELL</td></tr><tr><td>Area Your</td><td>AREA YOUR</td><td>Lenovo</td><td>LENOVO</td></tr><tr><td>Artist Anyone</td><td>ARTIST ANYONE</td><td>Lenovo</td><td>LENOVO</td></tr><tr><td>Card Government</td><td>CARD GOVERNMENT</td><td>LG</td><td>LG</td></tr><tr><td>Population Hold</td><td>POPULATION HOLD</td><td>Dell</td><td>DELL</td></tr><tr><td>Indicate Produce</td><td>INDICATE PRODUCE</td><td>Adidas</td><td>ADIDAS</td></tr><tr><td>Carry Laugh</td><td>CARRY LAUGH</td><td>LG</td><td>LG</td></tr><tr><td>Finish Sister</td><td>FINISH SISTER</td><td>Apple</td><td>APPLE</td></tr><tr><td>Happen Old</td><td>HAPPEN OLD</td><td>LG</td><td>LG</td></tr><tr><td>Particular Cause</td><td>PARTICULAR CAUSE</td><td>Adidas</td><td>ADIDAS</td></tr><tr><td>Attack Cell</td><td>ATTACK CELL</td><td>Puma</td><td>PUMA</td></tr><tr><td>Significant Ability</td><td>SIGNIFICANT ABILITY</td><td>Dell</td><td>DELL</td></tr><tr><td>Stand Enough</td><td>STAND ENOUGH</td><td>Lenovo</td><td>LENOVO</td></tr><tr><td>Pressure Role</td><td>PRESSURE ROLE</td><td>LG</td><td>LG</td></tr><tr><td>Great Wish</td><td>GREAT WISH</td><td>Samsung</td><td>SAMSUNG</td></tr><tr><td>Brother Would</td><td>BROTHER WOULD</td><td>Nike</td><td>NIKE</td></tr><tr><td>Sing Head</td><td>SING HEAD</td><td>Revlon</td><td>REVLON</td></tr><tr><td>Other Right</td><td>OTHER RIGHT</td><td>Dell</td><td>DELL</td></tr><tr><td>Claim Firm</td><td>CLAIM FIRM</td><td>Adidas</td><td>ADIDAS</td></tr><tr><td>Social Cost</td><td>SOCIAL COST</td><td>Adidas</td><td>ADIDAS</td></tr><tr><td>Whole Per</td><td>WHOLE PER</td><td>Sony</td><td>SONY</td></tr><tr><td>Society Action</td><td>SOCIETY ACTION</td><td>Revlon</td><td>REVLON</td></tr><tr><td>Add Eight</td><td>ADD EIGHT</td><td>Dell</td><td>DELL</td></tr><tr><td>What Best</td><td>WHAT BEST</td><td>Apple</td><td>APPLE</td></tr><tr><td>Girl Important</td><td>GIRL IMPORTANT</td><td>Adidas</td><td>ADIDAS</td></tr><tr><td>Several Pick</td><td>SEVERAL PICK</td><td>Puma</td><td>PUMA</td></tr><tr><td>Despite Dream</td><td>DESPITE DREAM</td><td>Sony</td><td>SONY</td></tr><tr><td>Why Ten</td><td>WHY TEN</td><td>Sony</td><td>SONY</td></tr><tr><td>Never Painting</td><td>NEVER PAINTING</td><td>Apple</td><td>APPLE</td></tr><tr><td>Language Style</td><td>LANGUAGE STYLE</td><td>Adidas</td><td>ADIDAS</td></tr><tr><td>Physical Quite</td><td>PHYSICAL QUITE</td><td>Dell</td><td>DELL</td></tr><tr><td>Discuss Decide</td><td>DISCUSS DECIDE</td><td>Revlon</td><td>REVLON</td></tr><tr><td>Would Describe</td><td>WOULD DESCRIBE</td><td>Apple</td><td>APPLE</td></tr><tr><td>Every Line</td><td>EVERY LINE</td><td>Adidas</td><td>ADIDAS</td></tr><tr><td>Debate Center</td><td>DEBATE CENTER</td><td>Nike</td><td>NIKE</td></tr><tr><td>Begin Three</td><td>BEGIN THREE</td><td>Puma</td><td>PUMA</td></tr><tr><td>Explain Until</td><td>EXPLAIN UNTIL</td><td>Sony</td><td>SONY</td></tr><tr><td>Mind Add</td><td>MIND ADD</td><td>LG</td><td>LG</td></tr><tr><td>Very Democratic</td><td>VERY DEMOCRATIC</td><td>Apple</td><td>APPLE</td></tr><tr><td>Travel Practice</td><td>TRAVEL PRACTICE</td><td>Dell</td><td>DELL</td></tr><tr><td>Lot Fish</td><td>LOT FISH</td><td>Adidas</td><td>ADIDAS</td></tr><tr><td>Animal Court</td><td>ANIMAL COURT</td><td>Adidas</td><td>ADIDAS</td></tr><tr><td>Campaign Decision</td><td>CAMPAIGN DECISION</td><td>Dell</td><td>DELL</td></tr><tr><td>Change It</td><td>CHANGE IT</td><td>Revlon</td><td>REVLON</td></tr><tr><td>Mean Hospital</td><td>MEAN HOSPITAL</td><td>Apple</td><td>APPLE</td></tr><tr><td>Blood National</td><td>BLOOD NATIONAL</td><td>Puma</td><td>PUMA</td></tr><tr><td>There Whether</td><td>THERE WHETHER</td><td>Sony</td><td>SONY</td></tr><tr><td>Method Plant</td><td>METHOD PLANT</td><td>LG</td><td>LG</td></tr><tr><td>Property Total</td><td>PROPERTY TOTAL</td><td>Samsung</td><td>SAMSUNG</td></tr><tr><td>Laugh Minute</td><td>LAUGH MINUTE</td><td>Revlon</td><td>REVLON</td></tr><tr><td>Card Another</td><td>CARD ANOTHER</td><td>Puma</td><td>PUMA</td></tr><tr><td>Other Role</td><td>OTHER ROLE</td><td>Dell</td><td>DELL</td></tr><tr><td>Early Authority</td><td>EARLY AUTHORITY</td><td>Sony</td><td>SONY</td></tr><tr><td>Window Nature</td><td>WINDOW NATURE</td><td>Sony</td><td>SONY</td></tr><tr><td>Me True</td><td>ME TRUE</td><td>Puma</td><td>PUMA</td></tr><tr><td>Side Knowledge</td><td>SIDE KNOWLEDGE</td><td>Apple</td><td>APPLE</td></tr><tr><td>Reach House</td><td>REACH HOUSE</td><td>Nike</td><td>NIKE</td></tr><tr><td>Fight Claim</td><td>FIGHT CLAIM</td><td>Dell</td><td>DELL</td></tr><tr><td>Without Matter</td><td>WITHOUT MATTER</td><td>Apple</td><td>APPLE</td></tr><tr><td>Recently Heavy</td><td>RECENTLY HEAVY</td><td>Revlon</td><td>REVLON</td></tr><tr><td>Dream Thought</td><td>DREAM THOUGHT</td><td>Apple</td><td>APPLE</td></tr><tr><td>Modern Yet</td><td>MODERN YET</td><td>Revlon</td><td>REVLON</td></tr><tr><td>Movie Cell</td><td>MOVIE CELL</td><td>Apple</td><td>APPLE</td></tr><tr><td>Whatever Audience</td><td>WHATEVER AUDIENCE</td><td>Sony</td><td>SONY</td></tr><tr><td>Morning Politics</td><td>MORNING POLITICS</td><td>Lenovo</td><td>LENOVO</td></tr><tr><td>Effort Service</td><td>EFFORT SERVICE</td><td>Lenovo</td><td>LENOVO</td></tr><tr><td>Approach Only</td><td>APPROACH ONLY</td><td>Adidas</td><td>ADIDAS</td></tr><tr><td>Present Recent</td><td>PRESENT RECENT</td><td>LG</td><td>LG</td></tr><tr><td>Line Ball</td><td>LINE BALL</td><td>Dell</td><td>DELL</td></tr><tr><td>Probably High</td><td>PROBABLY HIGH</td><td>Dell</td><td>DELL</td></tr><tr><td>Then Exactly</td><td>THEN EXACTLY</td><td>Sony</td><td>SONY</td></tr><tr><td>Even Economic</td><td>EVEN ECONOMIC</td><td>Apple</td><td>APPLE</td></tr><tr><td>Today Over</td><td>TODAY OVER</td><td>Adidas</td><td>ADIDAS</td></tr><tr><td>Expert Appear</td><td>EXPERT APPEAR</td><td>Nike</td><td>NIKE</td></tr><tr><td>Government And</td><td>GOVERNMENT AND</td><td>Samsung</td><td>SAMSUNG</td></tr><tr><td>Consumer Itself</td><td>CONSUMER ITSELF</td><td>Lenovo</td><td>LENOVO</td></tr><tr><td>Upon Sometimes</td><td>UPON SOMETIMES</td><td>Apple</td><td>APPLE</td></tr><tr><td>Quality True</td><td>QUALITY TRUE</td><td>Sony</td><td>SONY</td></tr><tr><td>Voice A</td><td>VOICE A</td><td>Sony</td><td>SONY</td></tr><tr><td>Child Threat</td><td>CHILD THREAT</td><td>Adidas</td><td>ADIDAS</td></tr><tr><td>Fact Measure</td><td>FACT MEASURE</td><td>Nike</td><td>NIKE</td></tr><tr><td>Force Family</td><td>FORCE FAMILY</td><td>Sony</td><td>SONY</td></tr><tr><td>From Night</td><td>FROM NIGHT</td><td>Nike</td><td>NIKE</td></tr><tr><td>Deep Thank</td><td>DEEP THANK</td><td>Apple</td><td>APPLE</td></tr><tr><td>Rise Exactly</td><td>RISE EXACTLY</td><td>Apple</td><td>APPLE</td></tr><tr><td>Identify Magazine</td><td>IDENTIFY MAGAZINE</td><td>Samsung</td><td>SAMSUNG</td></tr><tr><td>Now Never</td><td>NOW NEVER</td><td>Dell</td><td>DELL</td></tr><tr><td>Experience Idea</td><td>EXPERIENCE IDEA</td><td>Lenovo</td><td>LENOVO</td></tr><tr><td>Camera At</td><td>CAMERA AT</td><td>LG</td><td>LG</td></tr><tr><td>Door Itself</td><td>DOOR ITSELF</td><td>Revlon</td><td>REVLON</td></tr><tr><td>Floor Sit</td><td>FLOOR SIT</td><td>LG</td><td>LG</td></tr><tr><td>A Forward</td><td>A FORWARD</td><td>Nike</td><td>NIKE</td></tr><tr><td>Pass Go</td><td>PASS GO</td><td>Samsung</td><td>SAMSUNG</td></tr><tr><td>Personal Stand</td><td>PERSONAL STAND</td><td>Apple</td><td>APPLE</td></tr><tr><td>Sister Question</td><td>SISTER QUESTION</td><td>Sony</td><td>SONY</td></tr><tr><td>Beyond Some</td><td>BEYOND SOME</td><td>Apple</td><td>APPLE</td></tr><tr><td>Reflect Chair</td><td>REFLECT CHAIR</td><td>Lenovo</td><td>LENOVO</td></tr><tr><td>Economic Over</td><td>ECONOMIC OVER</td><td>Adidas</td><td>ADIDAS</td></tr><tr><td>Writer Mouth</td><td>WRITER MOUTH</td><td>Revlon</td><td>REVLON</td></tr><tr><td>Itself Despite</td><td>ITSELF DESPITE</td><td>Puma</td><td>PUMA</td></tr></tbody></table></div>"
      ]
     },
     "metadata": {
      "application/vnd.databricks.v1+output": {
       "addedWidgets": {},
       "aggData": [],
       "aggError": "",
       "aggOverflow": false,
       "aggSchema": [],
       "aggSeriesLimitReached": false,
       "aggType": "",
       "arguments": {},
       "columnCustomDisplayInfos": {},
       "data": [
        [
         "Clearly Its",
         "CLEARLY ITS",
         "Nike",
         "NIKE"
        ],
        [
         "Production Clear",
         "PRODUCTION CLEAR",
         "Apple",
         "APPLE"
        ],
        [
         "Culture Coach",
         "CULTURE COACH",
         "Revlon",
         "REVLON"
        ],
        [
         "Movement Part",
         "MOVEMENT PART",
         "LG",
         "LG"
        ],
        [
         "Fact Name",
         "FACT NAME",
         "Samsung",
         "SAMSUNG"
        ],
        [
         "Usually Stop",
         "USUALLY STOP",
         "Adidas",
         "ADIDAS"
        ],
        [
         "Reveal Current",
         "REVEAL CURRENT",
         "Adidas",
         "ADIDAS"
        ],
        [
         "Force Language",
         "FORCE LANGUAGE",
         "Puma",
         "PUMA"
        ],
        [
         "Stage Leg",
         "STAGE LEG",
         "Samsung",
         "SAMSUNG"
        ],
        [
         "Leader Then",
         "LEADER THEN",
         "Sony",
         "SONY"
        ],
        [
         "Term Rest",
         "TERM REST",
         "Adidas",
         "ADIDAS"
        ],
        [
         "Theory Wrong",
         "THEORY WRONG",
         "Apple",
         "APPLE"
        ],
        [
         "Democrat Book",
         "DEMOCRAT BOOK",
         "Puma",
         "PUMA"
        ],
        [
         "Follow Brother",
         "FOLLOW BROTHER",
         "Dell",
         "DELL"
        ],
        [
         "Pattern Story",
         "PATTERN STORY",
         "LG",
         "LG"
        ],
        [
         "Policy Nor",
         "POLICY NOR",
         "Samsung",
         "SAMSUNG"
        ],
        [
         "After Project",
         "AFTER PROJECT",
         "Revlon",
         "REVLON"
        ],
        [
         "Technology Chance",
         "TECHNOLOGY CHANCE",
         "Puma",
         "PUMA"
        ],
        [
         "Oil Station",
         "OIL STATION",
         "Samsung",
         "SAMSUNG"
        ],
        [
         "Happen Truth",
         "HAPPEN TRUTH",
         "Nike",
         "NIKE"
        ],
        [
         "Middle Everyone",
         "MIDDLE EVERYONE",
         "Nike",
         "NIKE"
        ],
        [
         "Purpose Why",
         "PURPOSE WHY",
         "Puma",
         "PUMA"
        ],
        [
         "Decade Message",
         "DECADE MESSAGE",
         "Adidas",
         "ADIDAS"
        ],
        [
         "Really Phone",
         "REALLY PHONE",
         "Samsung",
         "SAMSUNG"
        ],
        [
         "Until And",
         "UNTIL AND",
         "Nike",
         "NIKE"
        ],
        [
         "Huge Find",
         "HUGE FIND",
         "Puma",
         "PUMA"
        ],
        [
         "Local Open",
         "LOCAL OPEN",
         "Adidas",
         "ADIDAS"
        ],
        [
         "Its Both",
         "ITS BOTH",
         "Puma",
         "PUMA"
        ],
        [
         "Everything Open",
         "EVERYTHING OPEN",
         "Nike",
         "NIKE"
        ],
        [
         "Hold Staff",
         "HOLD STAFF",
         "Lenovo",
         "LENOVO"
        ],
        [
         "Part Oil",
         "PART OIL",
         "LG",
         "LG"
        ],
        [
         "Relationship Live",
         "RELATIONSHIP LIVE",
         "Dell",
         "DELL"
        ],
        [
         "Perform Such",
         "PERFORM SUCH",
         "Lenovo",
         "LENOVO"
        ],
        [
         "Even Writer",
         "EVEN WRITER",
         "Samsung",
         "SAMSUNG"
        ],
        [
         "Something Increase",
         "SOMETHING INCREASE",
         "Revlon",
         "REVLON"
        ],
        [
         "Success Always",
         "SUCCESS ALWAYS",
         "Dell",
         "DELL"
        ],
        [
         "Personal Over",
         "PERSONAL OVER",
         "Puma",
         "PUMA"
        ],
        [
         "Edge Keep",
         "EDGE KEEP",
         "Revlon",
         "REVLON"
        ],
        [
         "Before Do",
         "BEFORE DO",
         "Revlon",
         "REVLON"
        ],
        [
         "Answer Require",
         "ANSWER REQUIRE",
         "Dell",
         "DELL"
        ],
        [
         "Conference Article",
         "CONFERENCE ARTICLE",
         "Dell",
         "DELL"
        ],
        [
         "Heavy Writer",
         "HEAVY WRITER",
         "Adidas",
         "ADIDAS"
        ],
        [
         "Radio Thousand",
         "RADIO THOUSAND",
         "Revlon",
         "REVLON"
        ],
        [
         "Such Beautiful",
         "SUCH BEAUTIFUL",
         "Dell",
         "DELL"
        ],
        [
         "Certainly Sign",
         "CERTAINLY SIGN",
         "Sony",
         "SONY"
        ],
        [
         "Exist Age",
         "EXIST AGE",
         "Samsung",
         "SAMSUNG"
        ],
        [
         "Ever Could",
         "EVER COULD",
         "Revlon",
         "REVLON"
        ],
        [
         "Share Quality",
         "SHARE QUALITY",
         "Revlon",
         "REVLON"
        ],
        [
         "True Her",
         "TRUE HER",
         "Lenovo",
         "LENOVO"
        ],
        [
         "North Big",
         "NORTH BIG",
         "Samsung",
         "SAMSUNG"
        ],
        [
         "Form Social",
         "FORM SOCIAL",
         "Apple",
         "APPLE"
        ],
        [
         "Total Tax",
         "TOTAL TAX",
         "Lenovo",
         "LENOVO"
        ],
        [
         "News Look",
         "NEWS LOOK",
         "Samsung",
         "SAMSUNG"
        ],
        [
         "Local Decide",
         "LOCAL DECIDE",
         "Adidas",
         "ADIDAS"
        ],
        [
         "Seat Finish",
         "SEAT FINISH",
         "Sony",
         "SONY"
        ],
        [
         "Weight Ground",
         "WEIGHT GROUND",
         "Nike",
         "NIKE"
        ],
        [
         "Everything Song",
         "EVERYTHING SONG",
         "Samsung",
         "SAMSUNG"
        ],
        [
         "Involve Present",
         "INVOLVE PRESENT",
         "LG",
         "LG"
        ],
        [
         "Democratic Any",
         "DEMOCRATIC ANY",
         "Lenovo",
         "LENOVO"
        ],
        [
         "Red Some",
         "RED SOME",
         "Nike",
         "NIKE"
        ],
        [
         "Describe Continue",
         "DESCRIBE CONTINUE",
         "Sony",
         "SONY"
        ],
        [
         "Always Citizen",
         "ALWAYS CITIZEN",
         "Samsung",
         "SAMSUNG"
        ],
        [
         "Necessary Bad",
         "NECESSARY BAD",
         "Nike",
         "NIKE"
        ],
        [
         "Size Although",
         "SIZE ALTHOUGH",
         "LG",
         "LG"
        ],
        [
         "Democratic As",
         "DEMOCRATIC AS",
         "Lenovo",
         "LENOVO"
        ],
        [
         "I Worker",
         "I WORKER",
         "Sony",
         "SONY"
        ],
        [
         "Unit Election",
         "UNIT ELECTION",
         "Samsung",
         "SAMSUNG"
        ],
        [
         "Response Audience",
         "RESPONSE AUDIENCE",
         "LG",
         "LG"
        ],
        [
         "Weight Design",
         "WEIGHT DESIGN",
         "Lenovo",
         "LENOVO"
        ],
        [
         "Or Against",
         "OR AGAINST",
         "Lenovo",
         "LENOVO"
        ],
        [
         "Once Support",
         "ONCE SUPPORT",
         "Apple",
         "APPLE"
        ],
        [
         "Station Fund",
         "STATION FUND",
         "Revlon",
         "REVLON"
        ],
        [
         "Leave Reveal",
         "LEAVE REVEAL",
         "Adidas",
         "ADIDAS"
        ],
        [
         "Pm Near",
         "PM NEAR",
         "Lenovo",
         "LENOVO"
        ],
        [
         "Former Trade",
         "FORMER TRADE",
         "Samsung",
         "SAMSUNG"
        ],
        [
         "Skill Need",
         "SKILL NEED",
         "Puma",
         "PUMA"
        ],
        [
         "Quality Conference",
         "QUALITY CONFERENCE",
         "LG",
         "LG"
        ],
        [
         "Their Worry",
         "THEIR WORRY",
         "LG",
         "LG"
        ],
        [
         "Night Experience",
         "NIGHT EXPERIENCE",
         "LG",
         "LG"
        ],
        [
         "But Decide",
         "BUT DECIDE",
         "Lenovo",
         "LENOVO"
        ],
        [
         "Whose Available",
         "WHOSE AVAILABLE",
         "Nike",
         "NIKE"
        ],
        [
         "Exist Interest",
         "EXIST INTEREST",
         "Apple",
         "APPLE"
        ],
        [
         "Laugh Speak",
         "LAUGH SPEAK",
         "Dell",
         "DELL"
        ],
        [
         "Little All",
         "LITTLE ALL",
         "Samsung",
         "SAMSUNG"
        ],
        [
         "Hope Such",
         "HOPE SUCH",
         "Apple",
         "APPLE"
        ],
        [
         "Save Own",
         "SAVE OWN",
         "Nike",
         "NIKE"
        ],
        [
         "Service Personal",
         "SERVICE PERSONAL",
         "Sony",
         "SONY"
        ],
        [
         "At Such",
         "AT SUCH",
         "Adidas",
         "ADIDAS"
        ],
        [
         "Second Despite",
         "SECOND DESPITE",
         "LG",
         "LG"
        ],
        [
         "Future Improve",
         "FUTURE IMPROVE",
         "Puma",
         "PUMA"
        ],
        [
         "Nation Moment",
         "NATION MOMENT",
         "Samsung",
         "SAMSUNG"
        ],
        [
         "Stand Fish",
         "STAND FISH",
         "Revlon",
         "REVLON"
        ],
        [
         "Us Life",
         "US LIFE",
         "Puma",
         "PUMA"
        ],
        [
         "Real Himself",
         "REAL HIMSELF",
         "LG",
         "LG"
        ],
        [
         "Fund Tend",
         "FUND TEND",
         "Apple",
         "APPLE"
        ],
        [
         "Public Voice",
         "PUBLIC VOICE",
         "Nike",
         "NIKE"
        ],
        [
         "Crime Range",
         "CRIME RANGE",
         "Apple",
         "APPLE"
        ],
        [
         "Item See",
         "ITEM SEE",
         "Puma",
         "PUMA"
        ],
        [
         "Notice Rather",
         "NOTICE RATHER",
         "Adidas",
         "ADIDAS"
        ],
        [
         "Oil Into",
         "OIL INTO",
         "Dell",
         "DELL"
        ],
        [
         "Sister Tend",
         "SISTER TEND",
         "Puma",
         "PUMA"
        ],
        [
         "Yourself Team",
         "YOURSELF TEAM",
         "LG",
         "LG"
        ],
        [
         "Rich Page",
         "RICH PAGE",
         "Samsung",
         "SAMSUNG"
        ],
        [
         "Fact Building",
         "FACT BUILDING",
         "Dell",
         "DELL"
        ],
        [
         "Color Now",
         "COLOR NOW",
         "LG",
         "LG"
        ],
        [
         "Research Mother",
         "RESEARCH MOTHER",
         "Sony",
         "SONY"
        ],
        [
         "Degree Much",
         "DEGREE MUCH",
         "Adidas",
         "ADIDAS"
        ],
        [
         "Southern Hear",
         "SOUTHERN HEAR",
         "Puma",
         "PUMA"
        ],
        [
         "Seem South",
         "SEEM SOUTH",
         "Lenovo",
         "LENOVO"
        ],
        [
         "Before Everybody",
         "BEFORE EVERYBODY",
         "Samsung",
         "SAMSUNG"
        ],
        [
         "Decade Land",
         "DECADE LAND",
         "Adidas",
         "ADIDAS"
        ],
        [
         "Study Heavy",
         "STUDY HEAVY",
         "Puma",
         "PUMA"
        ],
        [
         "These Skill",
         "THESE SKILL",
         "Puma",
         "PUMA"
        ],
        [
         "Kid Necessary",
         "KID NECESSARY",
         "Nike",
         "NIKE"
        ],
        [
         "Subject Become",
         "SUBJECT BECOME",
         "Puma",
         "PUMA"
        ],
        [
         "Very Forget",
         "VERY FORGET",
         "Sony",
         "SONY"
        ],
        [
         "Before Product",
         "BEFORE PRODUCT",
         "Puma",
         "PUMA"
        ],
        [
         "Start Threat",
         "START THREAT",
         "Lenovo",
         "LENOVO"
        ],
        [
         "Carry View",
         "CARRY VIEW",
         "Sony",
         "SONY"
        ],
        [
         "Direction Character",
         "DIRECTION CHARACTER",
         "Sony",
         "SONY"
        ],
        [
         "Trade Drug",
         "TRADE DRUG",
         "Nike",
         "NIKE"
        ],
        [
         "Tend Continue",
         "TEND CONTINUE",
         "LG",
         "LG"
        ],
        [
         "Why Decide",
         "WHY DECIDE",
         "Nike",
         "NIKE"
        ],
        [
         "Operation Century",
         "OPERATION CENTURY",
         "Puma",
         "PUMA"
        ],
        [
         "Sort Summer",
         "SORT SUMMER",
         "Sony",
         "SONY"
        ],
        [
         "Possible Which",
         "POSSIBLE WHICH",
         "Sony",
         "SONY"
        ],
        [
         "Movement Picture",
         "MOVEMENT PICTURE",
         "Sony",
         "SONY"
        ],
        [
         "Board Worker",
         "BOARD WORKER",
         "Apple",
         "APPLE"
        ],
        [
         "North On",
         "NORTH ON",
         "Adidas",
         "ADIDAS"
        ],
        [
         "Behavior Nothing",
         "BEHAVIOR NOTHING",
         "Adidas",
         "ADIDAS"
        ],
        [
         "Too Example",
         "TOO EXAMPLE",
         "Revlon",
         "REVLON"
        ],
        [
         "Issue Return",
         "ISSUE RETURN",
         "Samsung",
         "SAMSUNG"
        ],
        [
         "Speak Small",
         "SPEAK SMALL",
         "LG",
         "LG"
        ],
        [
         "Stand Fire",
         "STAND FIRE",
         "Puma",
         "PUMA"
        ],
        [
         "Maybe Light",
         "MAYBE LIGHT",
         "Puma",
         "PUMA"
        ],
        [
         "Year True",
         "YEAR TRUE",
         "Samsung",
         "SAMSUNG"
        ],
        [
         "Thought Travel",
         "THOUGHT TRAVEL",
         "Lenovo",
         "LENOVO"
        ],
        [
         "Already Series",
         "ALREADY SERIES",
         "Samsung",
         "SAMSUNG"
        ],
        [
         "Seek President",
         "SEEK PRESIDENT",
         "Revlon",
         "REVLON"
        ],
        [
         "Detail Bar",
         "DETAIL BAR",
         "Adidas",
         "ADIDAS"
        ],
        [
         "Play Show",
         "PLAY SHOW",
         "Adidas",
         "ADIDAS"
        ],
        [
         "Trouble Parent",
         "TROUBLE PARENT",
         "Adidas",
         "ADIDAS"
        ],
        [
         "One Like",
         "ONE LIKE",
         "Apple",
         "APPLE"
        ],
        [
         "Admit Street",
         "ADMIT STREET",
         "Apple",
         "APPLE"
        ],
        [
         "House Everything",
         "HOUSE EVERYTHING",
         "Puma",
         "PUMA"
        ],
        [
         "Building Drive",
         "BUILDING DRIVE",
         "Sony",
         "SONY"
        ],
        [
         "Among Success",
         "AMONG SUCCESS",
         "Lenovo",
         "LENOVO"
        ],
        [
         "Politics Friend",
         "POLITICS FRIEND",
         "Dell",
         "DELL"
        ],
        [
         "Middle Price",
         "MIDDLE PRICE",
         "Samsung",
         "SAMSUNG"
        ],
        [
         "Nice Clearly",
         "NICE CLEARLY",
         "Samsung",
         "SAMSUNG"
        ],
        [
         "Cup Per",
         "CUP PER",
         "Apple",
         "APPLE"
        ],
        [
         "Not Wait",
         "NOT WAIT",
         "LG",
         "LG"
        ],
        [
         "Brother Four",
         "BROTHER FOUR",
         "Apple",
         "APPLE"
        ],
        [
         "Trip Within",
         "TRIP WITHIN",
         "Samsung",
         "SAMSUNG"
        ],
        [
         "Laugh Score",
         "LAUGH SCORE",
         "Dell",
         "DELL"
        ],
        [
         "Put After",
         "PUT AFTER",
         "Sony",
         "SONY"
        ],
        [
         "Race Provide",
         "RACE PROVIDE",
         "Adidas",
         "ADIDAS"
        ],
        [
         "Pm Plant",
         "PM PLANT",
         "Adidas",
         "ADIDAS"
        ],
        [
         "Politics Along",
         "POLITICS ALONG",
         "Lenovo",
         "LENOVO"
        ],
        [
         "Parent Into",
         "PARENT INTO",
         "Nike",
         "NIKE"
        ],
        [
         "Need Book",
         "NEED BOOK",
         "LG",
         "LG"
        ],
        [
         "West This",
         "WEST THIS",
         "Adidas",
         "ADIDAS"
        ],
        [
         "Tree Role",
         "TREE ROLE",
         "Dell",
         "DELL"
        ],
        [
         "Word Hard",
         "WORD HARD",
         "Lenovo",
         "LENOVO"
        ],
        [
         "Son Drug",
         "SON DRUG",
         "Adidas",
         "ADIDAS"
        ],
        [
         "Look Field",
         "LOOK FIELD",
         "Samsung",
         "SAMSUNG"
        ],
        [
         "Early Course",
         "EARLY COURSE",
         "Adidas",
         "ADIDAS"
        ],
        [
         "Generation Day",
         "GENERATION DAY",
         "Sony",
         "SONY"
        ],
        [
         "Position Bank",
         "POSITION BANK",
         "Sony",
         "SONY"
        ],
        [
         "Second Start",
         "SECOND START",
         "Lenovo",
         "LENOVO"
        ],
        [
         "Option Necessary",
         "OPTION NECESSARY",
         "Lenovo",
         "LENOVO"
        ],
        [
         "Commercial Through",
         "COMMERCIAL THROUGH",
         "Sony",
         "SONY"
        ],
        [
         "Nearly When",
         "NEARLY WHEN",
         "Samsung",
         "SAMSUNG"
        ],
        [
         "Weight Tax",
         "WEIGHT TAX",
         "Lenovo",
         "LENOVO"
        ],
        [
         "Enjoy Throughout",
         "ENJOY THROUGHOUT",
         "Apple",
         "APPLE"
        ],
        [
         "Team Foreign",
         "TEAM FOREIGN",
         "Adidas",
         "ADIDAS"
        ],
        [
         "Article Smile",
         "ARTICLE SMILE",
         "Nike",
         "NIKE"
        ],
        [
         "Finally Suddenly",
         "FINALLY SUDDENLY",
         "Adidas",
         "ADIDAS"
        ],
        [
         "Base Significant",
         "BASE SIGNIFICANT",
         "Samsung",
         "SAMSUNG"
        ],
        [
         "Form Management",
         "FORM MANAGEMENT",
         "Sony",
         "SONY"
        ],
        [
         "Of Seek",
         "OF SEEK",
         "LG",
         "LG"
        ],
        [
         "Health I",
         "HEALTH I",
         "Apple",
         "APPLE"
        ],
        [
         "Born Focus",
         "BORN FOCUS",
         "Samsung",
         "SAMSUNG"
        ],
        [
         "Main Majority",
         "MAIN MAJORITY",
         "Adidas",
         "ADIDAS"
        ],
        [
         "Authority Director",
         "AUTHORITY DIRECTOR",
         "Apple",
         "APPLE"
        ],
        [
         "Tv Size",
         "TV SIZE",
         "Revlon",
         "REVLON"
        ],
        [
         "Number They",
         "NUMBER THEY",
         "Nike",
         "NIKE"
        ],
        [
         "Able Seat",
         "ABLE SEAT",
         "Adidas",
         "ADIDAS"
        ],
        [
         "Commercial Boy",
         "COMMERCIAL BOY",
         "Puma",
         "PUMA"
        ],
        [
         "Set Whom",
         "SET WHOM",
         "Samsung",
         "SAMSUNG"
        ],
        [
         "Myself Performance",
         "MYSELF PERFORMANCE",
         "Revlon",
         "REVLON"
        ],
        [
         "Up Management",
         "UP MANAGEMENT",
         "Apple",
         "APPLE"
        ],
        [
         "Early They",
         "EARLY THEY",
         "Nike",
         "NIKE"
        ],
        [
         "Charge Through",
         "CHARGE THROUGH",
         "Revlon",
         "REVLON"
        ],
        [
         "Leg In",
         "LEG IN",
         "Adidas",
         "ADIDAS"
        ],
        [
         "Study Teach",
         "STUDY TEACH",
         "Adidas",
         "ADIDAS"
        ],
        [
         "Old Ball",
         "OLD BALL",
         "Revlon",
         "REVLON"
        ],
        [
         "Information Life",
         "INFORMATION LIFE",
         "Samsung",
         "SAMSUNG"
        ],
        [
         "Data Structure",
         "DATA STRUCTURE",
         "Sony",
         "SONY"
        ],
        [
         "Close Knowledge",
         "CLOSE KNOWLEDGE",
         "Apple",
         "APPLE"
        ],
        [
         "Professional Test",
         "PROFESSIONAL TEST",
         "Samsung",
         "SAMSUNG"
        ],
        [
         "Analysis The",
         "ANALYSIS THE",
         "Adidas",
         "ADIDAS"
        ],
        [
         "Difficult Around",
         "DIFFICULT AROUND",
         "Samsung",
         "SAMSUNG"
        ],
        [
         "Show Teacher",
         "SHOW TEACHER",
         "Adidas",
         "ADIDAS"
        ],
        [
         "Attorney I",
         "ATTORNEY I",
         "LG",
         "LG"
        ],
        [
         "Remember Stuff",
         "REMEMBER STUFF",
         "Apple",
         "APPLE"
        ],
        [
         "Year Much",
         "YEAR MUCH",
         "Adidas",
         "ADIDAS"
        ],
        [
         "Rather Require",
         "RATHER REQUIRE",
         "Adidas",
         "ADIDAS"
        ],
        [
         "Catch Local",
         "CATCH LOCAL",
         "Revlon",
         "REVLON"
        ],
        [
         "Learn Weight",
         "LEARN WEIGHT",
         "Apple",
         "APPLE"
        ],
        [
         "Check Line",
         "CHECK LINE",
         "Nike",
         "NIKE"
        ],
        [
         "Per Leader",
         "PER LEADER",
         "Adidas",
         "ADIDAS"
        ],
        [
         "Suggest Chance",
         "SUGGEST CHANCE",
         "Samsung",
         "SAMSUNG"
        ],
        [
         "Site Trip",
         "SITE TRIP",
         "Revlon",
         "REVLON"
        ],
        [
         "Trouble Treatment",
         "TROUBLE TREATMENT",
         "Adidas",
         "ADIDAS"
        ],
        [
         "Every Page",
         "EVERY PAGE",
         "Adidas",
         "ADIDAS"
        ],
        [
         "Vote Tree",
         "VOTE TREE",
         "Puma",
         "PUMA"
        ],
        [
         "Sea Clear",
         "SEA CLEAR",
         "Nike",
         "NIKE"
        ],
        [
         "Per Voice",
         "PER VOICE",
         "Dell",
         "DELL"
        ],
        [
         "Term Fine",
         "TERM FINE",
         "Dell",
         "DELL"
        ],
        [
         "Player Summer",
         "PLAYER SUMMER",
         "Lenovo",
         "LENOVO"
        ],
        [
         "Respond Knowledge",
         "RESPOND KNOWLEDGE",
         "Samsung",
         "SAMSUNG"
        ],
        [
         "Believe Activity",
         "BELIEVE ACTIVITY",
         "Lenovo",
         "LENOVO"
        ],
        [
         "Federal Around",
         "FEDERAL AROUND",
         "Apple",
         "APPLE"
        ],
        [
         "Discussion Region",
         "DISCUSSION REGION",
         "Nike",
         "NIKE"
        ],
        [
         "Care North",
         "CARE NORTH",
         "Lenovo",
         "LENOVO"
        ],
        [
         "Need Method",
         "NEED METHOD",
         "Nike",
         "NIKE"
        ],
        [
         "Citizen Item",
         "CITIZEN ITEM",
         "Puma",
         "PUMA"
        ],
        [
         "Material If",
         "MATERIAL IF",
         "Lenovo",
         "LENOVO"
        ],
        [
         "Old Increase",
         "OLD INCREASE",
         "Samsung",
         "SAMSUNG"
        ],
        [
         "Do Chair",
         "DO CHAIR",
         "Revlon",
         "REVLON"
        ],
        [
         "Would Along",
         "WOULD ALONG",
         "Adidas",
         "ADIDAS"
        ],
        [
         "Second Learn",
         "SECOND LEARN",
         "Lenovo",
         "LENOVO"
        ],
        [
         "Guess At",
         "GUESS AT",
         "Sony",
         "SONY"
        ],
        [
         "Country Knowledge",
         "COUNTRY KNOWLEDGE",
         "Adidas",
         "ADIDAS"
        ],
        [
         "War Involve",
         "WAR INVOLVE",
         "Samsung",
         "SAMSUNG"
        ],
        [
         "As Push",
         "AS PUSH",
         "Samsung",
         "SAMSUNG"
        ],
        [
         "Air Life",
         "AIR LIFE",
         "Revlon",
         "REVLON"
        ],
        [
         "Show Finally",
         "SHOW FINALLY",
         "Nike",
         "NIKE"
        ],
        [
         "Six Senior",
         "SIX SENIOR",
         "Samsung",
         "SAMSUNG"
        ],
        [
         "Edge Civil",
         "EDGE CIVIL",
         "Puma",
         "PUMA"
        ],
        [
         "Radio Lot",
         "RADIO LOT",
         "Samsung",
         "SAMSUNG"
        ],
        [
         "Recent The",
         "RECENT THE",
         "Lenovo",
         "LENOVO"
        ],
        [
         "Run Market",
         "RUN MARKET",
         "Revlon",
         "REVLON"
        ],
        [
         "Occur Attention",
         "OCCUR ATTENTION",
         "LG",
         "LG"
        ],
        [
         "Great Field",
         "GREAT FIELD",
         "Adidas",
         "ADIDAS"
        ],
        [
         "Step Information",
         "STEP INFORMATION",
         "Sony",
         "SONY"
        ],
        [
         "Develop International",
         "DEVELOP INTERNATIONAL",
         "Revlon",
         "REVLON"
        ],
        [
         "There True",
         "THERE TRUE",
         "Puma",
         "PUMA"
        ],
        [
         "Half Ten",
         "HALF TEN",
         "Samsung",
         "SAMSUNG"
        ],
        [
         "Business Own",
         "BUSINESS OWN",
         "Lenovo",
         "LENOVO"
        ],
        [
         "Late Thus",
         "LATE THUS",
         "Sony",
         "SONY"
        ],
        [
         "Onto Owner",
         "ONTO OWNER",
         "Lenovo",
         "LENOVO"
        ],
        [
         "According Because",
         "ACCORDING BECAUSE",
         "Lenovo",
         "LENOVO"
        ],
        [
         "Activity Western",
         "ACTIVITY WESTERN",
         "Lenovo",
         "LENOVO"
        ],
        [
         "Note Worker",
         "NOTE WORKER",
         "Lenovo",
         "LENOVO"
        ],
        [
         "Executive Art",
         "EXECUTIVE ART",
         "Nike",
         "NIKE"
        ],
        [
         "Culture Follow",
         "CULTURE FOLLOW",
         "Revlon",
         "REVLON"
        ],
        [
         "Against Kind",
         "AGAINST KIND",
         "Puma",
         "PUMA"
        ],
        [
         "About Buy",
         "ABOUT BUY",
         "Revlon",
         "REVLON"
        ],
        [
         "Capital Well",
         "CAPITAL WELL",
         "Dell",
         "DELL"
        ],
        [
         "Decade Left",
         "DECADE LEFT",
         "Samsung",
         "SAMSUNG"
        ],
        [
         "Machine Heart",
         "MACHINE HEART",
         "Nike",
         "NIKE"
        ],
        [
         "Thought Heavy",
         "THOUGHT HEAVY",
         "Apple",
         "APPLE"
        ],
        [
         "Image No",
         "IMAGE NO",
         "Nike",
         "NIKE"
        ],
        [
         "Specific You",
         "SPECIFIC YOU",
         "LG",
         "LG"
        ],
        [
         "Painting Daughter",
         "PAINTING DAUGHTER",
         "Adidas",
         "ADIDAS"
        ],
        [
         "Man Near",
         "MAN NEAR",
         "Dell",
         "DELL"
        ],
        [
         "Grow Fly",
         "GROW FLY",
         "Lenovo",
         "LENOVO"
        ],
        [
         "Candidate Question",
         "CANDIDATE QUESTION",
         "Samsung",
         "SAMSUNG"
        ],
        [
         "Notice Town",
         "NOTICE TOWN",
         "Puma",
         "PUMA"
        ],
        [
         "Defense Either",
         "DEFENSE EITHER",
         "Dell",
         "DELL"
        ],
        [
         "Peace When",
         "PEACE WHEN",
         "Nike",
         "NIKE"
        ],
        [
         "Always Debate",
         "ALWAYS DEBATE",
         "Samsung",
         "SAMSUNG"
        ],
        [
         "Piece Information",
         "PIECE INFORMATION",
         "Sony",
         "SONY"
        ],
        [
         "Team Support",
         "TEAM SUPPORT",
         "Puma",
         "PUMA"
        ],
        [
         "Field White",
         "FIELD WHITE",
         "Dell",
         "DELL"
        ],
        [
         "Similar Can",
         "SIMILAR CAN",
         "Revlon",
         "REVLON"
        ],
        [
         "Fast Situation",
         "FAST SITUATION",
         "Lenovo",
         "LENOVO"
        ],
        [
         "Financial Enough",
         "FINANCIAL ENOUGH",
         "Puma",
         "PUMA"
        ],
        [
         "Hot Customer",
         "HOT CUSTOMER",
         "Puma",
         "PUMA"
        ],
        [
         "Matter To",
         "MATTER TO",
         "Samsung",
         "SAMSUNG"
        ],
        [
         "Southern Team",
         "SOUTHERN TEAM",
         "Nike",
         "NIKE"
        ],
        [
         "Population Account",
         "POPULATION ACCOUNT",
         "Puma",
         "PUMA"
        ],
        [
         "Cultural Beat",
         "CULTURAL BEAT",
         "Revlon",
         "REVLON"
        ],
        [
         "Blood Chair",
         "BLOOD CHAIR",
         "Adidas",
         "ADIDAS"
        ],
        [
         "Evening Natural",
         "EVENING NATURAL",
         "Puma",
         "PUMA"
        ],
        [
         "Source Hour",
         "SOURCE HOUR",
         "Lenovo",
         "LENOVO"
        ],
        [
         "Finish Everything",
         "FINISH EVERYTHING",
         "Puma",
         "PUMA"
        ],
        [
         "Room Public",
         "ROOM PUBLIC",
         "LG",
         "LG"
        ],
        [
         "Able Media",
         "ABLE MEDIA",
         "LG",
         "LG"
        ],
        [
         "Very Event",
         "VERY EVENT",
         "Sony",
         "SONY"
        ],
        [
         "Degree Agency",
         "DEGREE AGENCY",
         "LG",
         "LG"
        ],
        [
         "Dark Former",
         "DARK FORMER",
         "Lenovo",
         "LENOVO"
        ],
        [
         "Participant Kitchen",
         "PARTICIPANT KITCHEN",
         "Puma",
         "PUMA"
        ],
        [
         "Garden Reach",
         "GARDEN REACH",
         "Nike",
         "NIKE"
        ],
        [
         "Turn Degree",
         "TURN DEGREE",
         "Nike",
         "NIKE"
        ],
        [
         "Talk Offer",
         "TALK OFFER",
         "Revlon",
         "REVLON"
        ],
        [
         "Look Mention",
         "LOOK MENTION",
         "Apple",
         "APPLE"
        ],
        [
         "Amount Politics",
         "AMOUNT POLITICS",
         "Sony",
         "SONY"
        ],
        [
         "Side Note",
         "SIDE NOTE",
         "Adidas",
         "ADIDAS"
        ],
        [
         "Three Seven",
         "THREE SEVEN",
         "Nike",
         "NIKE"
        ],
        [
         "Child Help",
         "CHILD HELP",
         "LG",
         "LG"
        ],
        [
         "Our Arrive",
         "OUR ARRIVE",
         "Adidas",
         "ADIDAS"
        ],
        [
         "Score Choice",
         "SCORE CHOICE",
         "Puma",
         "PUMA"
        ],
        [
         "Six Speak",
         "SIX SPEAK",
         "Samsung",
         "SAMSUNG"
        ],
        [
         "Culture Specific",
         "CULTURE SPECIFIC",
         "Lenovo",
         "LENOVO"
        ],
        [
         "And Agent",
         "AND AGENT",
         "Nike",
         "NIKE"
        ],
        [
         "Nor Prepare",
         "NOR PREPARE",
         "Apple",
         "APPLE"
        ],
        [
         "Ok Leave",
         "OK LEAVE",
         "Samsung",
         "SAMSUNG"
        ],
        [
         "Blue Live",
         "BLUE LIVE",
         "Revlon",
         "REVLON"
        ],
        [
         "Big Similar",
         "BIG SIMILAR",
         "Puma",
         "PUMA"
        ],
        [
         "Try You",
         "TRY YOU",
         "Samsung",
         "SAMSUNG"
        ],
        [
         "Protect Hope",
         "PROTECT HOPE",
         "Nike",
         "NIKE"
        ],
        [
         "Work Party",
         "WORK PARTY",
         "Dell",
         "DELL"
        ],
        [
         "Sell State",
         "SELL STATE",
         "Puma",
         "PUMA"
        ],
        [
         "Trade Region",
         "TRADE REGION",
         "Dell",
         "DELL"
        ],
        [
         "History Create",
         "HISTORY CREATE",
         "Samsung",
         "SAMSUNG"
        ],
        [
         "Trouble Street",
         "TROUBLE STREET",
         "Nike",
         "NIKE"
        ],
        [
         "Whole Road",
         "WHOLE ROAD",
         "Adidas",
         "ADIDAS"
        ],
        [
         "They As",
         "THEY AS",
         "Lenovo",
         "LENOVO"
        ],
        [
         "Part Traditional",
         "PART TRADITIONAL",
         "Dell",
         "DELL"
        ],
        [
         "Professor What",
         "PROFESSOR WHAT",
         "Lenovo",
         "LENOVO"
        ],
        [
         "Light Idea",
         "LIGHT IDEA",
         "Nike",
         "NIKE"
        ],
        [
         "Right Program",
         "RIGHT PROGRAM",
         "Lenovo",
         "LENOVO"
        ],
        [
         "Safe Loss",
         "SAFE LOSS",
         "Nike",
         "NIKE"
        ],
        [
         "Garden Shake",
         "GARDEN SHAKE",
         "Sony",
         "SONY"
        ],
        [
         "Space Person",
         "SPACE PERSON",
         "Lenovo",
         "LENOVO"
        ],
        [
         "Range However",
         "RANGE HOWEVER",
         "Nike",
         "NIKE"
        ],
        [
         "Main Student",
         "MAIN STUDENT",
         "LG",
         "LG"
        ],
        [
         "Let Positive",
         "LET POSITIVE",
         "LG",
         "LG"
        ],
        [
         "Thus Make",
         "THUS MAKE",
         "Lenovo",
         "LENOVO"
        ],
        [
         "History Easy",
         "HISTORY EASY",
         "Sony",
         "SONY"
        ],
        [
         "Customer Loss",
         "CUSTOMER LOSS",
         "Lenovo",
         "LENOVO"
        ],
        [
         "Type Area",
         "TYPE AREA",
         "Samsung",
         "SAMSUNG"
        ],
        [
         "Shake Current",
         "SHAKE CURRENT",
         "Dell",
         "DELL"
        ],
        [
         "Very Include",
         "VERY INCLUDE",
         "Samsung",
         "SAMSUNG"
        ],
        [
         "Service Military",
         "SERVICE MILITARY",
         "LG",
         "LG"
        ],
        [
         "Rule Site",
         "RULE SITE",
         "LG",
         "LG"
        ],
        [
         "Though Pretty",
         "THOUGH PRETTY",
         "Adidas",
         "ADIDAS"
        ],
        [
         "Me Small",
         "ME SMALL",
         "Lenovo",
         "LENOVO"
        ],
        [
         "Trouble Over",
         "TROUBLE OVER",
         "Nike",
         "NIKE"
        ],
        [
         "Yeah Former",
         "YEAH FORMER",
         "Sony",
         "SONY"
        ],
        [
         "House Enter",
         "HOUSE ENTER",
         "Nike",
         "NIKE"
        ],
        [
         "Federal Sport",
         "FEDERAL SPORT",
         "Apple",
         "APPLE"
        ],
        [
         "International Yes",
         "INTERNATIONAL YES",
         "Dell",
         "DELL"
        ],
        [
         "Painting Kid",
         "PAINTING KID",
         "Sony",
         "SONY"
        ],
        [
         "Late Smile",
         "LATE SMILE",
         "LG",
         "LG"
        ],
        [
         "Less Can",
         "LESS CAN",
         "LG",
         "LG"
        ],
        [
         "Garden Blue",
         "GARDEN BLUE",
         "Dell",
         "DELL"
        ],
        [
         "Debate Whether",
         "DEBATE WHETHER",
         "Samsung",
         "SAMSUNG"
        ],
        [
         "About Room",
         "ABOUT ROOM",
         "Sony",
         "SONY"
        ],
        [
         "Local Big",
         "LOCAL BIG",
         "Adidas",
         "ADIDAS"
        ],
        [
         "Stop As",
         "STOP AS",
         "Samsung",
         "SAMSUNG"
        ],
        [
         "Itself Explain",
         "ITSELF EXPLAIN",
         "Apple",
         "APPLE"
        ],
        [
         "Method Authority",
         "METHOD AUTHORITY",
         "Samsung",
         "SAMSUNG"
        ],
        [
         "The Seek",
         "THE SEEK",
         "Adidas",
         "ADIDAS"
        ],
        [
         "Quickly Republican",
         "QUICKLY REPUBLICAN",
         "Samsung",
         "SAMSUNG"
        ],
        [
         "Feel Describe",
         "FEEL DESCRIBE",
         "Lenovo",
         "LENOVO"
        ],
        [
         "Reveal Organization",
         "REVEAL ORGANIZATION",
         "Lenovo",
         "LENOVO"
        ],
        [
         "Energy Lay",
         "ENERGY LAY",
         "LG",
         "LG"
        ],
        [
         "Reality Network",
         "REALITY NETWORK",
         "Revlon",
         "REVLON"
        ],
        [
         "Score Read",
         "SCORE READ",
         "Nike",
         "NIKE"
        ],
        [
         "What Describe",
         "WHAT DESCRIBE",
         "Dell",
         "DELL"
        ],
        [
         "Available Rich",
         "AVAILABLE RICH",
         "Revlon",
         "REVLON"
        ],
        [
         "Seek Position",
         "SEEK POSITION",
         "Apple",
         "APPLE"
        ],
        [
         "Human See",
         "HUMAN SEE",
         "Nike",
         "NIKE"
        ],
        [
         "National Various",
         "NATIONAL VARIOUS",
         "Dell",
         "DELL"
        ],
        [
         "Spend Account",
         "SPEND ACCOUNT",
         "Apple",
         "APPLE"
        ],
        [
         "Artist Protect",
         "ARTIST PROTECT",
         "Lenovo",
         "LENOVO"
        ],
        [
         "Possible So",
         "POSSIBLE SO",
         "Dell",
         "DELL"
        ],
        [
         "Level Rock",
         "LEVEL ROCK",
         "Dell",
         "DELL"
        ],
        [
         "Wrong Building",
         "WRONG BUILDING",
         "Puma",
         "PUMA"
        ],
        [
         "Whom Century",
         "WHOM CENTURY",
         "LG",
         "LG"
        ],
        [
         "Local Evening",
         "LOCAL EVENING",
         "Sony",
         "SONY"
        ],
        [
         "Piece Raise",
         "PIECE RAISE",
         "Adidas",
         "ADIDAS"
        ],
        [
         "Think None",
         "THINK NONE",
         "Dell",
         "DELL"
        ],
        [
         "Economy Court",
         "ECONOMY COURT",
         "Dell",
         "DELL"
        ],
        [
         "Ball Base",
         "BALL BASE",
         "Sony",
         "SONY"
        ],
        [
         "Blue Finally",
         "BLUE FINALLY",
         "Dell",
         "DELL"
        ],
        [
         "Tend Inside",
         "TEND INSIDE",
         "Adidas",
         "ADIDAS"
        ],
        [
         "Five Force",
         "FIVE FORCE",
         "Apple",
         "APPLE"
        ],
        [
         "Popular Herself",
         "POPULAR HERSELF",
         "Revlon",
         "REVLON"
        ],
        [
         "Issue Doctor",
         "ISSUE DOCTOR",
         "Puma",
         "PUMA"
        ],
        [
         "Old Hand",
         "OLD HAND",
         "Revlon",
         "REVLON"
        ],
        [
         "Style Again",
         "STYLE AGAIN",
         "Revlon",
         "REVLON"
        ],
        [
         "Affect Continue",
         "AFFECT CONTINUE",
         "Dell",
         "DELL"
        ],
        [
         "Professional Physical",
         "PROFESSIONAL PHYSICAL",
         "Puma",
         "PUMA"
        ],
        [
         "Necessary Upon",
         "NECESSARY UPON",
         "Sony",
         "SONY"
        ],
        [
         "Leader Security",
         "LEADER SECURITY",
         "Lenovo",
         "LENOVO"
        ],
        [
         "Serious Information",
         "SERIOUS INFORMATION",
         "Sony",
         "SONY"
        ],
        [
         "Customer Or",
         "CUSTOMER OR",
         "Apple",
         "APPLE"
        ],
        [
         "Goal Ground",
         "GOAL GROUND",
         "Sony",
         "SONY"
        ],
        [
         "Beautiful Small",
         "BEAUTIFUL SMALL",
         "Samsung",
         "SAMSUNG"
        ],
        [
         "Song Approach",
         "SONG APPROACH",
         "Samsung",
         "SAMSUNG"
        ],
        [
         "Pattern Age",
         "PATTERN AGE",
         "Lenovo",
         "LENOVO"
        ],
        [
         "Civil Action",
         "CIVIL ACTION",
         "Apple",
         "APPLE"
        ],
        [
         "Floor Daughter",
         "FLOOR DAUGHTER",
         "Apple",
         "APPLE"
        ],
        [
         "Parent Reflect",
         "PARENT REFLECT",
         "Nike",
         "NIKE"
        ],
        [
         "Any Buy",
         "ANY BUY",
         "Sony",
         "SONY"
        ],
        [
         "Design Machine",
         "DESIGN MACHINE",
         "Dell",
         "DELL"
        ],
        [
         "Area Your",
         "AREA YOUR",
         "Lenovo",
         "LENOVO"
        ],
        [
         "Artist Anyone",
         "ARTIST ANYONE",
         "Lenovo",
         "LENOVO"
        ],
        [
         "Card Government",
         "CARD GOVERNMENT",
         "LG",
         "LG"
        ],
        [
         "Population Hold",
         "POPULATION HOLD",
         "Dell",
         "DELL"
        ],
        [
         "Indicate Produce",
         "INDICATE PRODUCE",
         "Adidas",
         "ADIDAS"
        ],
        [
         "Carry Laugh",
         "CARRY LAUGH",
         "LG",
         "LG"
        ],
        [
         "Finish Sister",
         "FINISH SISTER",
         "Apple",
         "APPLE"
        ],
        [
         "Happen Old",
         "HAPPEN OLD",
         "LG",
         "LG"
        ],
        [
         "Particular Cause",
         "PARTICULAR CAUSE",
         "Adidas",
         "ADIDAS"
        ],
        [
         "Attack Cell",
         "ATTACK CELL",
         "Puma",
         "PUMA"
        ],
        [
         "Significant Ability",
         "SIGNIFICANT ABILITY",
         "Dell",
         "DELL"
        ],
        [
         "Stand Enough",
         "STAND ENOUGH",
         "Lenovo",
         "LENOVO"
        ],
        [
         "Pressure Role",
         "PRESSURE ROLE",
         "LG",
         "LG"
        ],
        [
         "Great Wish",
         "GREAT WISH",
         "Samsung",
         "SAMSUNG"
        ],
        [
         "Brother Would",
         "BROTHER WOULD",
         "Nike",
         "NIKE"
        ],
        [
         "Sing Head",
         "SING HEAD",
         "Revlon",
         "REVLON"
        ],
        [
         "Other Right",
         "OTHER RIGHT",
         "Dell",
         "DELL"
        ],
        [
         "Claim Firm",
         "CLAIM FIRM",
         "Adidas",
         "ADIDAS"
        ],
        [
         "Social Cost",
         "SOCIAL COST",
         "Adidas",
         "ADIDAS"
        ],
        [
         "Whole Per",
         "WHOLE PER",
         "Sony",
         "SONY"
        ],
        [
         "Society Action",
         "SOCIETY ACTION",
         "Revlon",
         "REVLON"
        ],
        [
         "Add Eight",
         "ADD EIGHT",
         "Dell",
         "DELL"
        ],
        [
         "What Best",
         "WHAT BEST",
         "Apple",
         "APPLE"
        ],
        [
         "Girl Important",
         "GIRL IMPORTANT",
         "Adidas",
         "ADIDAS"
        ],
        [
         "Several Pick",
         "SEVERAL PICK",
         "Puma",
         "PUMA"
        ],
        [
         "Despite Dream",
         "DESPITE DREAM",
         "Sony",
         "SONY"
        ],
        [
         "Why Ten",
         "WHY TEN",
         "Sony",
         "SONY"
        ],
        [
         "Never Painting",
         "NEVER PAINTING",
         "Apple",
         "APPLE"
        ],
        [
         "Language Style",
         "LANGUAGE STYLE",
         "Adidas",
         "ADIDAS"
        ],
        [
         "Physical Quite",
         "PHYSICAL QUITE",
         "Dell",
         "DELL"
        ],
        [
         "Discuss Decide",
         "DISCUSS DECIDE",
         "Revlon",
         "REVLON"
        ],
        [
         "Would Describe",
         "WOULD DESCRIBE",
         "Apple",
         "APPLE"
        ],
        [
         "Every Line",
         "EVERY LINE",
         "Adidas",
         "ADIDAS"
        ],
        [
         "Debate Center",
         "DEBATE CENTER",
         "Nike",
         "NIKE"
        ],
        [
         "Begin Three",
         "BEGIN THREE",
         "Puma",
         "PUMA"
        ],
        [
         "Explain Until",
         "EXPLAIN UNTIL",
         "Sony",
         "SONY"
        ],
        [
         "Mind Add",
         "MIND ADD",
         "LG",
         "LG"
        ],
        [
         "Very Democratic",
         "VERY DEMOCRATIC",
         "Apple",
         "APPLE"
        ],
        [
         "Travel Practice",
         "TRAVEL PRACTICE",
         "Dell",
         "DELL"
        ],
        [
         "Lot Fish",
         "LOT FISH",
         "Adidas",
         "ADIDAS"
        ],
        [
         "Animal Court",
         "ANIMAL COURT",
         "Adidas",
         "ADIDAS"
        ],
        [
         "Campaign Decision",
         "CAMPAIGN DECISION",
         "Dell",
         "DELL"
        ],
        [
         "Change It",
         "CHANGE IT",
         "Revlon",
         "REVLON"
        ],
        [
         "Mean Hospital",
         "MEAN HOSPITAL",
         "Apple",
         "APPLE"
        ],
        [
         "Blood National",
         "BLOOD NATIONAL",
         "Puma",
         "PUMA"
        ],
        [
         "There Whether",
         "THERE WHETHER",
         "Sony",
         "SONY"
        ],
        [
         "Method Plant",
         "METHOD PLANT",
         "LG",
         "LG"
        ],
        [
         "Property Total",
         "PROPERTY TOTAL",
         "Samsung",
         "SAMSUNG"
        ],
        [
         "Laugh Minute",
         "LAUGH MINUTE",
         "Revlon",
         "REVLON"
        ],
        [
         "Card Another",
         "CARD ANOTHER",
         "Puma",
         "PUMA"
        ],
        [
         "Other Role",
         "OTHER ROLE",
         "Dell",
         "DELL"
        ],
        [
         "Early Authority",
         "EARLY AUTHORITY",
         "Sony",
         "SONY"
        ],
        [
         "Window Nature",
         "WINDOW NATURE",
         "Sony",
         "SONY"
        ],
        [
         "Me True",
         "ME TRUE",
         "Puma",
         "PUMA"
        ],
        [
         "Side Knowledge",
         "SIDE KNOWLEDGE",
         "Apple",
         "APPLE"
        ],
        [
         "Reach House",
         "REACH HOUSE",
         "Nike",
         "NIKE"
        ],
        [
         "Fight Claim",
         "FIGHT CLAIM",
         "Dell",
         "DELL"
        ],
        [
         "Without Matter",
         "WITHOUT MATTER",
         "Apple",
         "APPLE"
        ],
        [
         "Recently Heavy",
         "RECENTLY HEAVY",
         "Revlon",
         "REVLON"
        ],
        [
         "Dream Thought",
         "DREAM THOUGHT",
         "Apple",
         "APPLE"
        ],
        [
         "Modern Yet",
         "MODERN YET",
         "Revlon",
         "REVLON"
        ],
        [
         "Movie Cell",
         "MOVIE CELL",
         "Apple",
         "APPLE"
        ],
        [
         "Whatever Audience",
         "WHATEVER AUDIENCE",
         "Sony",
         "SONY"
        ],
        [
         "Morning Politics",
         "MORNING POLITICS",
         "Lenovo",
         "LENOVO"
        ],
        [
         "Effort Service",
         "EFFORT SERVICE",
         "Lenovo",
         "LENOVO"
        ],
        [
         "Approach Only",
         "APPROACH ONLY",
         "Adidas",
         "ADIDAS"
        ],
        [
         "Present Recent",
         "PRESENT RECENT",
         "LG",
         "LG"
        ],
        [
         "Line Ball",
         "LINE BALL",
         "Dell",
         "DELL"
        ],
        [
         "Probably High",
         "PROBABLY HIGH",
         "Dell",
         "DELL"
        ],
        [
         "Then Exactly",
         "THEN EXACTLY",
         "Sony",
         "SONY"
        ],
        [
         "Even Economic",
         "EVEN ECONOMIC",
         "Apple",
         "APPLE"
        ],
        [
         "Today Over",
         "TODAY OVER",
         "Adidas",
         "ADIDAS"
        ],
        [
         "Expert Appear",
         "EXPERT APPEAR",
         "Nike",
         "NIKE"
        ],
        [
         "Government And",
         "GOVERNMENT AND",
         "Samsung",
         "SAMSUNG"
        ],
        [
         "Consumer Itself",
         "CONSUMER ITSELF",
         "Lenovo",
         "LENOVO"
        ],
        [
         "Upon Sometimes",
         "UPON SOMETIMES",
         "Apple",
         "APPLE"
        ],
        [
         "Quality True",
         "QUALITY TRUE",
         "Sony",
         "SONY"
        ],
        [
         "Voice A",
         "VOICE A",
         "Sony",
         "SONY"
        ],
        [
         "Child Threat",
         "CHILD THREAT",
         "Adidas",
         "ADIDAS"
        ],
        [
         "Fact Measure",
         "FACT MEASURE",
         "Nike",
         "NIKE"
        ],
        [
         "Force Family",
         "FORCE FAMILY",
         "Sony",
         "SONY"
        ],
        [
         "From Night",
         "FROM NIGHT",
         "Nike",
         "NIKE"
        ],
        [
         "Deep Thank",
         "DEEP THANK",
         "Apple",
         "APPLE"
        ],
        [
         "Rise Exactly",
         "RISE EXACTLY",
         "Apple",
         "APPLE"
        ],
        [
         "Identify Magazine",
         "IDENTIFY MAGAZINE",
         "Samsung",
         "SAMSUNG"
        ],
        [
         "Now Never",
         "NOW NEVER",
         "Dell",
         "DELL"
        ],
        [
         "Experience Idea",
         "EXPERIENCE IDEA",
         "Lenovo",
         "LENOVO"
        ],
        [
         "Camera At",
         "CAMERA AT",
         "LG",
         "LG"
        ],
        [
         "Door Itself",
         "DOOR ITSELF",
         "Revlon",
         "REVLON"
        ],
        [
         "Floor Sit",
         "FLOOR SIT",
         "LG",
         "LG"
        ],
        [
         "A Forward",
         "A FORWARD",
         "Nike",
         "NIKE"
        ],
        [
         "Pass Go",
         "PASS GO",
         "Samsung",
         "SAMSUNG"
        ],
        [
         "Personal Stand",
         "PERSONAL STAND",
         "Apple",
         "APPLE"
        ],
        [
         "Sister Question",
         "SISTER QUESTION",
         "Sony",
         "SONY"
        ],
        [
         "Beyond Some",
         "BEYOND SOME",
         "Apple",
         "APPLE"
        ],
        [
         "Reflect Chair",
         "REFLECT CHAIR",
         "Lenovo",
         "LENOVO"
        ],
        [
         "Economic Over",
         "ECONOMIC OVER",
         "Adidas",
         "ADIDAS"
        ],
        [
         "Writer Mouth",
         "WRITER MOUTH",
         "Revlon",
         "REVLON"
        ],
        [
         "Itself Despite",
         "ITSELF DESPITE",
         "Puma",
         "PUMA"
        ]
       ],
       "datasetInfos": [],
       "dbfsResultPath": null,
       "isJsonSchema": true,
       "metadata": {
        "createTempViewForImplicitDf": true,
        "dataframeName": "_sqldf",
        "executionCount": 19
       },
       "overflow": false,
       "plotOptions": {
        "customPlotOptions": {},
        "displayType": "table",
        "pivotAggregation": null,
        "pivotColumns": null,
        "xColumns": null,
        "yColumns": null
       },
       "removedWidgets": [],
       "schema": [
        {
         "metadata": "{}",
         "name": "product_name",
         "type": "\"string\""
        },
        {
         "metadata": "{}",
         "name": "upper_prd_nm",
         "type": "\"string\""
        },
        {
         "metadata": "{}",
         "name": "brand",
         "type": "\"string\""
        },
        {
         "metadata": "{}",
         "name": "upper_brand_nm",
         "type": "\"string\""
        }
       ],
       "type": "table"
      }
     },
     "output_type": "display_data"
    }
   ],
   "source": [
    "%sql\n",
    "SELECT product_name, `catalog-databricks`.bronze.upper_func(product_name) upper_prd_nm, brand, `catalog-databricks`.bronze.upper_func(brand) upper_brand_nm\n",
    "FROM v_products"
   ]
  },
  {
   "cell_type": "code",
   "execution_count": 0,
   "metadata": {
    "application/vnd.databricks.v1+cell": {
     "cellMetadata": {
      "byteLimit": 2048000,
      "rowLimit": 10000
     },
     "inputWidgets": {},
     "nuid": "065e9c75-ae7c-49a0-a43c-2b4a00067005",
     "showTitle": false,
     "tableResultSettingsMap": {},
     "title": ""
    }
   },
   "outputs": [
    {
     "output_type": "execute_result",
     "data": {
      "text/plain": [
       "DataFrame[uppercase_prod_nms: string]"
      ]
     },
     "execution_count": 26,
     "metadata": {},
     "output_type": "execute_result"
    }
   ],
   "source": [
    "products.select(expr(\"`catalog-databricks`.bronze.upper_func(product_name)\").alias(\"uppercase_prod_nms\"))"
   ]
  },
  {
   "cell_type": "markdown",
   "metadata": {
    "application/vnd.databricks.v1+cell": {
     "cellMetadata": {},
     "inputWidgets": {},
     "nuid": "2f19f8b5-24b6-4fd3-a964-fcfd0f417b9b",
     "showTitle": false,
     "tableResultSettingsMap": {},
     "title": ""
    }
   },
   "source": [
    "### Writing the cleaned data"
   ]
  },
  {
   "cell_type": "code",
   "execution_count": 0,
   "metadata": {
    "application/vnd.databricks.v1+cell": {
     "cellMetadata": {
      "byteLimit": 2048000,
      "rowLimit": 10000
     },
     "inputWidgets": {},
     "nuid": "bb66c5cc-7fb5-4fa9-9443-04813ec11e90",
     "showTitle": false,
     "tableResultSettingsMap": {},
     "title": ""
    }
   },
   "outputs": [],
   "source": [
    "products.write.format('delta').mode('overwrite').save('abfss://silver@endtoenddatabricks.dfs.core.windows.net/products')"
   ]
  },
  {
   "cell_type": "code",
   "execution_count": 0,
   "metadata": {
    "application/vnd.databricks.v1+cell": {
     "cellMetadata": {
      "byteLimit": 2048000,
      "implicitDf": true,
      "rowLimit": 10000
     },
     "inputWidgets": {},
     "nuid": "57807436-ba89-4145-8cd9-b92dbf1d7c1c",
     "showTitle": false,
     "tableResultSettingsMap": {},
     "title": ""
    }
   },
   "outputs": [
    {
     "output_type": "display_data",
     "data": {
      "text/html": [
       "<style scoped>\n",
       "  .table-result-container {\n",
       "    max-height: 300px;\n",
       "    overflow: auto;\n",
       "  }\n",
       "  table, th, td {\n",
       "    border: 1px solid black;\n",
       "    border-collapse: collapse;\n",
       "  }\n",
       "  th, td {\n",
       "    padding: 5px;\n",
       "  }\n",
       "  th {\n",
       "    text-align: left;\n",
       "  }\n",
       "</style><div class='table-result-container'><table class='table-result'><thead style='background-color: white'><tr></tr></thead><tbody></tbody></table></div>"
      ]
     },
     "metadata": {
      "application/vnd.databricks.v1+output": {
       "addedWidgets": {},
       "aggData": [],
       "aggError": "",
       "aggOverflow": false,
       "aggSchema": [],
       "aggSeriesLimitReached": false,
       "aggType": "",
       "arguments": {},
       "columnCustomDisplayInfos": {},
       "data": [],
       "datasetInfos": [],
       "dbfsResultPath": null,
       "isJsonSchema": true,
       "metadata": {
        "dataframeName": null
       },
       "overflow": false,
       "plotOptions": {
        "customPlotOptions": {},
        "displayType": "table",
        "pivotAggregation": null,
        "pivotColumns": null,
        "xColumns": null,
        "yColumns": null
       },
       "removedWidgets": [],
       "schema": [],
       "type": "table"
      }
     },
     "output_type": "display_data"
    }
   ],
   "source": [
    "%sql\n",
    "CREATE TABLE IF NOT EXISTS `catalog-databricks`.silver.products_silver\n",
    "USING DELTA\n",
    "LOCATION 'abfss://silver@endtoenddatabricks.dfs.core.windows.net/products'"
   ]
  },
  {
   "cell_type": "code",
   "execution_count": 0,
   "metadata": {
    "application/vnd.databricks.v1+cell": {
     "cellMetadata": {},
     "inputWidgets": {},
     "nuid": "b679407e-bece-42d0-8efb-d6e66d7fe810",
     "showTitle": false,
     "tableResultSettingsMap": {},
     "title": ""
    }
   },
   "outputs": [],
   "source": []
  }
 ],
 "metadata": {
  "application/vnd.databricks.v1+notebook": {
   "computePreferences": null,
   "dashboards": [],
   "environmentMetadata": {
    "base_environment": "",
    "environment_version": "2"
   },
   "inputWidgetPreferences": null,
   "language": "python",
   "notebookMetadata": {
    "mostRecentlyExecutedCommandWithImplicitDF": {
     "commandId": 6057839373018992,
     "dataframes": [
      "_sqldf"
     ]
    },
    "pythonIndentUnit": 4
   },
   "notebookName": "Silver_ Products",
   "widgets": {}
  },
  "language_info": {
   "name": "python"
  }
 },
 "nbformat": 4,
 "nbformat_minor": 0
}